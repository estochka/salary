{
 "cells": [
  {
   "cell_type": "code",
   "execution_count": null,
   "id": "yAyjj_BQQdS-",
   "metadata": {
    "id": "yAyjj_BQQdS-"
   },
   "outputs": [],
   "source": [
    "#!pip install catboost\n",
    "#!pip install transformers"
   ]
  },
  {
   "cell_type": "code",
   "execution_count": null,
   "id": "37eb73b1",
   "metadata": {
    "id": "37eb73b1"
   },
   "outputs": [],
   "source": [
    "import pandas as pd\n",
    "import numpy as np\n",
    "\n",
    "import pandas_profiling\n",
    "\n",
    "import spacy\n",
    "import pickle\n",
    "import transformers as ppb\n",
    "\n",
    "import torch\n",
    "from torch import nn\n",
    "from torch.utils.data import DataLoader, TensorDataset\n",
    "\n",
    "from tqdm import tqdm, notebook\n",
    "\n",
    "from sklearn.model_selection import train_test_split\n",
    "from sklearn.compose import ColumnTransformer\n",
    "from sklearn.pipeline import Pipeline\n",
    "from sklearn.impute import SimpleImputer\n",
    "from sklearn.preprocessing import OneHotEncoder, MinMaxScaler\n",
    "from sklearn.feature_extraction.text import TfidfVectorizer \n",
    "from sklearn.decomposition import TruncatedSVD\n",
    "from sklearn.metrics import r2_score, mean_squared_error, mean_absolute_error\n",
    "\n",
    "from catboost import Pool, CatBoostRegressor"
   ]
  },
  {
   "cell_type": "code",
   "execution_count": null,
   "id": "a474aa7a",
   "metadata": {
    "id": "a474aa7a"
   },
   "outputs": [],
   "source": [
    "RAND = sum(ord(x) for x in 'NEVER SURRENDER')\n",
    "tqdm.pandas()\n",
    "\n",
    "HIDDEN_N = 600\n",
    "ETA = 0.0001\n",
    "BATCH = 100\n",
    "EPOCH = 300"
   ]
  },
  {
   "cell_type": "code",
   "execution_count": null,
   "id": "ead25099",
   "metadata": {
    "colab": {
     "base_uri": "https://localhost:8080/"
    },
    "executionInfo": {
     "elapsed": 5917,
     "status": "ok",
     "timestamp": 1673080942293,
     "user": {
      "displayName": "Татьяна Моисеева",
      "userId": "09895625684527175296"
     },
     "user_tz": -180
    },
    "id": "ead25099",
    "outputId": "3eae3d85-a8a3-4280-fcc4-928768d67f09"
   },
   "outputs": [
    {
     "name": "stdout",
     "output_type": "stream",
     "text": [
      "<class 'pandas.core.frame.DataFrame'>\n",
      "RangeIndex: 244768 entries, 0 to 244767\n",
      "Data columns (total 5 columns):\n",
      " #   Column              Non-Null Count   Dtype \n",
      "---  ------              --------------   ----- \n",
      " 0   Id                  244768 non-null  int64 \n",
      " 1   FullDescription     244768 non-null  object\n",
      " 2   LocationNormalized  244768 non-null  object\n",
      " 3   Category            244768 non-null  object\n",
      " 4   SalaryNormalized    244768 non-null  int64 \n",
      "dtypes: int64(2), object(3)\n",
      "memory usage: 9.3+ MB\n"
     ]
    }
   ],
   "source": [
    "df = pd.read_csv('/content/tocolab.csv')\n",
    "df.info()"
   ]
  },
  {
   "cell_type": "code",
   "execution_count": null,
   "id": "DTxDPP6cy_Wr",
   "metadata": {
    "id": "DTxDPP6cy_Wr"
   },
   "outputs": [],
   "source": [
    "df.columns = df.columns.str.replace('(.)([A-Z])', r'\\1_\\2', regex=True).str.lower()"
   ]
  },
  {
   "cell_type": "code",
   "execution_count": null,
   "id": "d94e805e",
   "metadata": {
    "colab": {
     "base_uri": "https://localhost:8080/"
    },
    "executionInfo": {
     "elapsed": 54967,
     "status": "ok",
     "timestamp": 1673081004084,
     "user": {
      "displayName": "Татьяна Моисеева",
      "userId": "09895625684527175296"
     },
     "user_tz": -180
    },
    "id": "d94e805e",
    "outputId": "6e375c3d-fb84-4364-cc4e-34e921cd6322"
   },
   "outputs": [
    {
     "name": "stdout",
     "output_type": "stream",
     "text": [
      "CPU times: user 52.4 s, sys: 770 ms, total: 53.1 s\n",
      "Wall time: 54.7 s\n"
     ]
    }
   ],
   "source": [
    "%%time\n",
    "#http https www\n",
    "df['full_description'] = df['full_description'].str.replace(r'((https?:\\/\\/)|w{3}).*?( |$)',' ', regex=True)\n",
    "df['full_description'] = (df['full_description'].str.replace(r'[^A-Za-z\\']',' ', regex=True)\n",
    "                                                .str.lower()\n",
    "                                                .str.strip()\n",
    ")\n",
    "df['full_description'] = df['full_description'].str.replace(r'\\W{2,}',' ', regex=True)"
   ]
  },
  {
   "cell_type": "markdown",
   "id": "be8e14be",
   "metadata": {
    "id": "be8e14be"
   },
   "source": [
    "2000 последних элементов будет \"тестовой\", чисто для удобства проверять ручками. В этой части он не нужен."
   ]
  },
  {
   "cell_type": "code",
   "execution_count": null,
   "id": "6e508734",
   "metadata": {
    "id": "6e508734"
   },
   "outputs": [],
   "source": [
    "df = df[:-2000].reset_index(drop=True)"
   ]
  },
  {
   "cell_type": "code",
   "execution_count": null,
   "id": "RtbqiDZNYFqA",
   "metadata": {
    "id": "RtbqiDZNYFqA"
   },
   "outputs": [],
   "source": [
    "df_train, df_valid = train_test_split(df, test_size=0.1, random_state=RAND)"
   ]
  },
  {
   "cell_type": "code",
   "execution_count": null,
   "id": "TERUZyMJ-4g4",
   "metadata": {
    "colab": {
     "base_uri": "https://localhost:8080/"
    },
    "executionInfo": {
     "elapsed": 270,
     "status": "ok",
     "timestamp": 1673081016826,
     "user": {
      "displayName": "Татьяна Моисеева",
      "userId": "09895625684527175296"
     },
     "user_tz": -180
    },
    "id": "TERUZyMJ-4g4",
    "outputId": "ff916782-5efb-4e8a-82fa-def9736fcfe7"
   },
   "outputs": [
    {
     "name": "stdout",
     "output_type": "stream",
     "text": [
      "(218491, 5) (24277, 5)\n"
     ]
    }
   ],
   "source": [
    "print(df_train.shape, df_valid.shape)"
   ]
  },
  {
   "cell_type": "markdown",
   "id": "13891b5a",
   "metadata": {
    "id": "13891b5a"
   },
   "source": [
    "Гридсерч кота по выбранным признакам, на полной без теста."
   ]
  },
  {
   "cell_type": "code",
   "execution_count": null,
   "id": "Rdqi9i-hR1HT",
   "metadata": {
    "id": "Rdqi9i-hR1HT"
   },
   "outputs": [],
   "source": [
    "X_train = df[['full_description','location_normalized','category']]\n",
    "y_train = df['salary_normalized']\n",
    "X_valid = df_valid[['full_description','location_normalized','category']]\n",
    "y_valid = df_valid['salary_normalized']"
   ]
  },
  {
   "cell_type": "code",
   "execution_count": null,
   "id": "794bf0e0",
   "metadata": {
    "id": "794bf0e0"
   },
   "outputs": [],
   "source": [
    "catboost_params = {\n",
    "    'iterations': 5000,\n",
    "    'eval_metric': 'RMSE',\n",
    "    'verbose': 500,\n",
    "    'random_state': RAND,\n",
    "    'depth': 7, \n",
    "    'learning_rate': 0.02, \n",
    "}"
   ]
  },
  {
   "cell_type": "code",
   "execution_count": null,
   "id": "joZeTa_ZR1QN",
   "metadata": {
    "id": "joZeTa_ZR1QN"
   },
   "outputs": [],
   "source": [
    "text_features = ['full_description']\n",
    "cat_features = list(X_train.columns)\n",
    "train_pool = Pool(\n",
    "    X_train, \n",
    "    y_train, \n",
    "    cat_features=cat_features, \n",
    "    text_features=text_features\n",
    ")\n",
    "val_pool = Pool(\n",
    "    X_valid, \n",
    "    y_valid, \n",
    "    cat_features=cat_features, \n",
    "    text_features=text_features\n",
    ")"
   ]
  },
  {
   "cell_type": "code",
   "execution_count": null,
   "id": "PKabJGQNUCfB",
   "metadata": {
    "id": "PKabJGQNUCfB"
   },
   "outputs": [],
   "source": [
    "text_features = ['full_description']\n",
    "cat_features = list(X_train.columns)"
   ]
  },
  {
   "cell_type": "code",
   "execution_count": 48,
   "id": "tVpUZljZUCn5",
   "metadata": {
    "colab": {
     "base_uri": "https://localhost:8080/"
    },
    "executionInfo": {
     "elapsed": 1913950,
     "status": "ok",
     "timestamp": 1673099709447,
     "user": {
      "displayName": "Татьяна Моисеева",
      "userId": "09895625684527175296"
     },
     "user_tz": -180
    },
    "id": "tVpUZljZUCn5",
    "outputId": "b3e2fda6-48da-4f15-b0ed-7c46380d3ecc"
   },
   "outputs": [
    {
     "name": "stdout",
     "output_type": "stream",
     "text": [
      "0:\tlearn: 17564.3858582\ttest: 17360.3761121\tbest: 17360.3761121 (0)\ttotal: 1.09s\tremaining: 1h 30m 55s\n",
      "500:\tlearn: 12406.2289634\ttest: 12179.3478220\tbest: 12179.3478220 (500)\ttotal: 7m 57s\tremaining: 1h 11m 26s\n",
      "1000:\tlearn: 11653.8725048\ttest: 11450.1561653\tbest: 11450.1561653 (1000)\ttotal: 15m 47s\tremaining: 1h 3m 7s\n",
      "1500:\tlearn: 11218.0037291\ttest: 11031.3281849\tbest: 11031.3281849 (1500)\ttotal: 23m 29s\tremaining: 54m 45s\n",
      "2000:\tlearn: 10904.0777193\ttest: 10731.1052868\tbest: 10731.1052868 (2000)\ttotal: 31m 6s\tremaining: 46m 37s\n",
      "2500:\tlearn: 10652.6782106\ttest: 10491.3676933\tbest: 10491.3676933 (2500)\ttotal: 38m 37s\tremaining: 38m 35s\n",
      "3000:\tlearn: 10438.3814130\ttest: 10284.9900073\tbest: 10284.9900073 (3000)\ttotal: 46m 21s\tremaining: 30m 52s\n",
      "3500:\tlearn: 10250.4982641\ttest: 10106.8264267\tbest: 10106.8264267 (3500)\ttotal: 54m 1s\tremaining: 23m 7s\n",
      "4000:\tlearn: 10081.3729808\ttest: 9945.2713079\tbest: 9945.2713079 (4000)\ttotal: 1h 1m 39s\tremaining: 15m 23s\n",
      "4500:\tlearn: 9927.7296755\ttest: 9796.8468471\tbest: 9796.8468471 (4500)\ttotal: 1h 9m 16s\tremaining: 7m 40s\n",
      "4999:\tlearn: 9785.9870741\ttest: 9661.6182805\tbest: 9661.6182805 (4999)\ttotal: 1h 16m 50s\tremaining: 0us\n",
      "\n",
      "bestTest = 9661.61828\n",
      "bestIteration = 4999\n",
      "\n"
     ]
    },
    {
     "data": {
      "text/plain": [
       "<catboost.core.CatBoostRegressor at 0x7f292e9f5af0>"
      ]
     },
     "execution_count": 48,
     "metadata": {},
     "output_type": "execute_result"
    }
   ],
   "source": [
    "model = CatBoostRegressor(**catboost_params)\n",
    "model.fit(train_pool, eval_set=val_pool)"
   ]
  },
  {
   "cell_type": "code",
   "execution_count": 49,
   "id": "B-PDbs1MUCq_",
   "metadata": {
    "colab": {
     "base_uri": "https://localhost:8080/"
    },
    "executionInfo": {
     "elapsed": 1973,
     "status": "ok",
     "timestamp": 1673100146053,
     "user": {
      "displayName": "Татьяна Моисеева",
      "userId": "09895625684527175296"
     },
     "user_tz": -180
    },
    "id": "B-PDbs1MUCq_",
    "outputId": "af4dbfef-71ac-4a3f-b3a2-730821128fa4"
   },
   "outputs": [
    {
     "data": {
      "text/plain": [
       "0.6936952753663848"
      ]
     },
     "execution_count": 49,
     "metadata": {},
     "output_type": "execute_result"
    }
   ],
   "source": [
    "model.score(val_pool)"
   ]
  },
  {
   "cell_type": "markdown",
   "id": "a598fd01",
   "metadata": {},
   "source": [
    "Из-за пересохранения модели cat-грид и выводы ячеек дальше немного поехало. Но параметров было побольше на GPU :) Оставила принцип того, как делалось."
   ]
  },
  {
   "cell_type": "code",
   "execution_count": 50,
   "id": "uYAvNQuMyX_m",
   "metadata": {
    "executionInfo": {
     "elapsed": 253,
     "status": "ok",
     "timestamp": 1673100153259,
     "user": {
      "displayName": "Татьяна Моисеева",
      "userId": "09895625684527175296"
     },
     "user_tz": -180
    },
    "id": "uYAvNQuMyX_m"
   },
   "outputs": [],
   "source": [
    "model.save_model('cpu_catboost_model4.bin')"
   ]
  },
  {
   "cell_type": "code",
   "execution_count": null,
   "id": "c594e4ed",
   "metadata": {
    "id": "c594e4ed"
   },
   "outputs": [],
   "source": [
    "X_train = df[['full_description','location_normalized','category']]\n",
    "y_train = df['salary_normalized']"
   ]
  },
  {
   "cell_type": "code",
   "execution_count": null,
   "id": "5226458b",
   "metadata": {
    "id": "5226458b"
   },
   "outputs": [],
   "source": [
    "train_pool = Pool(\n",
    "    X_train, \n",
    "    y_train, \n",
    "    cat_features=cat_features, \n",
    "    text_features=text_features\n",
    ")\n",
    "\n"
   ]
  },
  {
   "cell_type": "code",
   "execution_count": null,
   "id": "95ff4d42",
   "metadata": {
    "colab": {
     "base_uri": "https://localhost:8080/"
    },
    "collapsed": true,
    "executionInfo": {
     "elapsed": 4241726,
     "status": "ok",
     "timestamp": 1673085808934,
     "user": {
      "displayName": "Татьяна Моисеева",
      "userId": "09895625684527175296"
     },
     "user_tz": -180
    },
    "id": "95ff4d42",
    "outputId": "381fcd3f-d51a-421e-c934-24f3a309ab0f"
   },
   "outputs": [
    {
     "name": "stdout",
     "output_type": "stream",
     "text": [
      "0:\tlearn: -3.5100205\ttest: -3.5051956\tbest: -3.5051956 (0)\ttotal: 73.5ms\tremaining: 2m 26s\n",
      "500:\tlearn: 0.2644826\ttest: 0.2733541\tbest: 0.2733541 (500)\ttotal: 24.7s\tremaining: 1m 13s\n",
      "1000:\tlearn: 0.2675325\ttest: 0.2743896\tbest: 0.2743929 (996)\ttotal: 51.1s\tremaining: 51s\n",
      "1500:\tlearn: 0.2690872\ttest: 0.2745481\tbest: 0.2745628 (1485)\ttotal: 1m 15s\tremaining: 25.1s\n",
      "1999:\tlearn: 0.2703216\ttest: 0.2744605\tbest: 0.2745628 (1485)\ttotal: 1m 42s\tremaining: 0us\n",
      "\n",
      "bestTest = 0.2745628119\n",
      "bestIteration = 1485\n",
      "\n",
      "0:\tloss: 0.2745628\tbest: 0.2745628 (0)\ttotal: 2m 16s\tremaining: 15m 58s\n",
      "0:\tlearn: -3.0029149\ttest: -2.9949758\tbest: -2.9949758 (0)\ttotal: 70.1ms\tremaining: 2m 20s\n",
      "500:\tlearn: 0.2693532\ttest: 0.2745683\tbest: 0.2746051 (427)\ttotal: 24.5s\tremaining: 1m 13s\n",
      "1000:\tlearn: 0.2725149\ttest: 0.2742176\tbest: 0.2746051 (427)\ttotal: 49.1s\tremaining: 49s\n",
      "1500:\tlearn: 0.2747217\ttest: 0.2740276\tbest: 0.2746051 (427)\ttotal: 1m 13s\tremaining: 24.5s\n",
      "1999:\tlearn: 0.2764189\ttest: 0.2737309\tbest: 0.2746051 (427)\ttotal: 1m 38s\tremaining: 0us\n",
      "\n",
      "bestTest = 0.2746051075\n",
      "bestIteration = 427\n",
      "\n",
      "1:\tloss: 0.2746051\tbest: 0.2746051 (1)\ttotal: 3m 55s\tremaining: 11m 45s\n",
      "0:\tlearn: -3.5100380\ttest: -3.5052079\tbest: -3.5052079 (0)\ttotal: 73.6ms\tremaining: 2m 27s\n",
      "500:\tlearn: 0.2641867\ttest: 0.2732575\tbest: 0.2732575 (500)\ttotal: 24.7s\tremaining: 1m 13s\n",
      "1000:\tlearn: 0.2671183\ttest: 0.2743532\tbest: 0.2743532 (1000)\ttotal: 50.9s\tremaining: 50.8s\n",
      "1500:\tlearn: 0.2685836\ttest: 0.2744849\tbest: 0.2744983 (1425)\ttotal: 1m 15s\tremaining: 25s\n",
      "1999:\tlearn: 0.2697383\ttest: 0.2744565\tbest: 0.2745053 (1642)\ttotal: 1m 39s\tremaining: 0us\n",
      "\n",
      "bestTest = 0.2745052857\n",
      "bestIteration = 1642\n",
      "\n",
      "2:\tloss: 0.2745053\tbest: 0.2746051 (1)\ttotal: 5m 34s\tremaining: 9m 17s\n",
      "0:\tlearn: -3.0029690\ttest: -2.9950137\tbest: -2.9950137 (0)\ttotal: 68.5ms\tremaining: 2m 17s\n",
      "500:\tlearn: 0.2689946\ttest: 0.2746494\tbest: 0.2746892 (331)\ttotal: 24.8s\tremaining: 1m 14s\n",
      "1000:\tlearn: 0.2720811\ttest: 0.2743417\tbest: 0.2746892 (331)\ttotal: 49.4s\tremaining: 49.3s\n",
      "1500:\tlearn: 0.2742367\ttest: 0.2739407\tbest: 0.2746892 (331)\ttotal: 1m 14s\tremaining: 24.7s\n",
      "1999:\tlearn: 0.2759746\ttest: 0.2735910\tbest: 0.2746892 (331)\ttotal: 1m 40s\tremaining: 0us\n",
      "\n",
      "bestTest = 0.2746892405\n",
      "bestIteration = 331\n",
      "\n",
      "3:\tloss: 0.2746892\tbest: 0.2746892 (3)\ttotal: 7m 15s\tremaining: 7m 15s\n",
      "0:\tlearn: -3.5100276\ttest: -3.5051993\tbest: -3.5051993 (0)\ttotal: 85.5ms\tremaining: 2m 50s\n",
      "500:\tlearn: 0.2712820\ttest: 0.2745055\tbest: 0.2745105 (496)\ttotal: 37.5s\tremaining: 1m 52s\n",
      "1000:\tlearn: 0.2768686\ttest: 0.2742186\tbest: 0.2745622 (623)\ttotal: 1m 17s\tremaining: 1m 17s\n",
      "1500:\tlearn: 0.2806901\ttest: 0.2736691\tbest: 0.2745622 (623)\ttotal: 1m 57s\tremaining: 39.1s\n",
      "1999:\tlearn: 0.2838546\ttest: 0.2730837\tbest: 0.2745622 (623)\ttotal: 2m 39s\tremaining: 0us\n",
      "\n",
      "bestTest = 0.2745622107\n",
      "bestIteration = 623\n",
      "\n",
      "4:\tloss: 0.2745622\tbest: 0.2746892 (3)\ttotal: 9m 54s\tremaining: 5m 56s\n",
      "0:\tlearn: -3.0029367\ttest: -2.9949871\tbest: -2.9949871 (0)\ttotal: 83.1ms\tremaining: 2m 46s\n",
      "500:\tlearn: 0.2816008\ttest: 0.2735664\tbest: 0.2746289 (167)\ttotal: 39.8s\tremaining: 1m 59s\n",
      "1000:\tlearn: 0.2895484\ttest: 0.2717758\tbest: 0.2746289 (167)\ttotal: 1m 20s\tremaining: 1m 19s\n",
      "1500:\tlearn: 0.2950519\ttest: 0.2703077\tbest: 0.2746289 (167)\ttotal: 2m 2s\tremaining: 40.7s\n",
      "1999:\tlearn: 0.2993822\ttest: 0.2689689\tbest: 0.2746289 (167)\ttotal: 2m 42s\tremaining: 0us\n",
      "\n",
      "bestTest = 0.2746289483\n",
      "bestIteration = 167\n",
      "\n",
      "5:\tloss: 0.2746289\tbest: 0.2746892 (3)\ttotal: 12m 37s\tremaining: 4m 12s\n",
      "0:\tlearn: -3.5100496\ttest: -3.5052116\tbest: -3.5052116 (0)\ttotal: 91.1ms\tremaining: 3m 2s\n",
      "500:\tlearn: 0.2707442\ttest: 0.2745586\tbest: 0.2745637 (495)\ttotal: 37.6s\tremaining: 1m 52s\n",
      "1000:\tlearn: 0.2760210\ttest: 0.2742535\tbest: 0.2746359 (596)\ttotal: 1m 17s\tremaining: 1m 17s\n",
      "1500:\tlearn: 0.2794990\ttest: 0.2736857\tbest: 0.2746359 (596)\ttotal: 2m\tremaining: 40s\n",
      "1999:\tlearn: 0.2822176\ttest: 0.2731925\tbest: 0.2746359 (596)\ttotal: 2m 40s\tremaining: 0us\n",
      "\n",
      "bestTest = 0.2746359155\n",
      "bestIteration = 596\n",
      "\n",
      "6:\tloss: 0.2746359\tbest: 0.2746892 (3)\ttotal: 15m 18s\tremaining: 2m 11s\n",
      "0:\tlearn: -3.0030049\ttest: -2.9950250\tbest: -2.9950250 (0)\ttotal: 83ms\tremaining: 2m 46s\n",
      "500:\tlearn: 0.2804990\ttest: 0.2734575\tbest: 0.2746467 (164)\ttotal: 39.7s\tremaining: 1m 58s\n",
      "1000:\tlearn: 0.2880829\ttest: 0.2717275\tbest: 0.2746467 (164)\ttotal: 1m 22s\tremaining: 1m 21s\n",
      "1500:\tlearn: 0.2931716\ttest: 0.2704148\tbest: 0.2746467 (164)\ttotal: 2m 2s\tremaining: 40.6s\n",
      "1999:\tlearn: 0.2971563\ttest: 0.2692138\tbest: 0.2746467 (164)\ttotal: 2m 42s\tremaining: 0us\n",
      "\n",
      "bestTest = 0.274646719\n",
      "bestIteration = 164\n",
      "\n",
      "7:\tloss: 0.2746467\tbest: 0.2746892 (3)\ttotal: 18m\tremaining: 0us\n",
      "Estimating final quality...\n",
      "Training on fold [0/2]\n",
      "0:\tlearn: -3.0079393\ttest: -2.9964332\tbest: -2.9964332 (0)\ttotal: 466ms\tremaining: 15m 30s\n",
      "500:\tlearn: 0.6195360\ttest: 0.5931959\tbest: 0.5931959 (500)\ttotal: 3m 47s\tremaining: 11m 19s\n",
      "1000:\tlearn: 0.6780128\ttest: 0.6268691\tbest: 0.6268691 (1000)\ttotal: 7m 26s\tremaining: 7m 25s\n",
      "1500:\tlearn: 0.7158368\ttest: 0.6444882\tbest: 0.6444882 (1500)\ttotal: 11m 6s\tremaining: 3m 41s\n",
      "1999:\tlearn: 0.7446705\ttest: 0.6565256\tbest: 0.6565256 (1999)\ttotal: 14m 46s\tremaining: 0us\n",
      "\n",
      "bestTest = 0.6565255504\n",
      "bestIteration = 1999\n",
      "\n",
      "Training on fold [1/2]\n",
      "0:\tlearn: -2.9936751\ttest: -3.0047785\tbest: -3.0047785 (0)\ttotal: 465ms\tremaining: 15m 29s\n",
      "500:\tlearn: 0.6230289\ttest: 0.5928509\tbest: 0.5928509 (500)\ttotal: 3m 46s\tremaining: 11m 18s\n",
      "1000:\tlearn: 0.6820001\ttest: 0.6258968\tbest: 0.6258968 (1000)\ttotal: 7m 30s\tremaining: 7m 29s\n",
      "1500:\tlearn: 0.7192840\ttest: 0.6424538\tbest: 0.6424538 (1500)\ttotal: 11m 10s\tremaining: 3m 42s\n",
      "1999:\tlearn: 0.7472592\ttest: 0.6545376\tbest: 0.6545376 (1999)\ttotal: 14m 50s\tremaining: 0us\n",
      "\n",
      "bestTest = 0.6545376097\n",
      "bestIteration = 1999\n",
      "\n"
     ]
    }
   ],
   "source": [
    "cat_model = CatBoostRegressor(**catboost_params)  #, task_type=\"GPU\"\n",
    "grid_search_result = cat_model.grid_search(grid, train_pool, cv=2)"
   ]
  },
  {
   "cell_type": "code",
   "execution_count": null,
   "id": "6ab3a668",
   "metadata": {
    "colab": {
     "base_uri": "https://localhost:8080/"
    },
    "executionInfo": {
     "elapsed": 357,
     "status": "ok",
     "timestamp": 1673086059169,
     "user": {
      "displayName": "Татьяна Моисеева",
      "userId": "09895625684527175296"
     },
     "user_tz": -180
    },
    "id": "6ab3a668",
    "outputId": "be45612d-cef3-4fef-b8cc-44640fea4002"
   },
   "outputs": [
    {
     "data": {
      "text/plain": [
       "{'depth': 6, 'learning_rate': 0.1, 'l2_leaf_reg': 5.0}"
      ]
     },
     "execution_count": 22,
     "metadata": {},
     "output_type": "execute_result"
    }
   ],
   "source": [
    "grid_search_result['params']"
   ]
  },
  {
   "cell_type": "code",
   "execution_count": null,
   "id": "100c3b22",
   "metadata": {
    "colab": {
     "base_uri": "https://localhost:8080/",
     "height": 143
    },
    "executionInfo": {
     "elapsed": 450,
     "status": "ok",
     "timestamp": 1673026427637,
     "user": {
      "displayName": "Татьяна Моисеева",
      "userId": "09895625684527175296"
     },
     "user_tz": -180
    },
    "id": "100c3b22",
    "outputId": "1d9fbbdc-31ae-4bf7-8316-284b5fc7b170"
   },
   "outputs": [
    {
     "data": {
      "text/html": [
       "\n",
       "  <div id=\"df-7dde8b9d-f95f-4453-93fc-5845206da353\">\n",
       "    <div class=\"colab-df-container\">\n",
       "      <div>\n",
       "<style scoped>\n",
       "    .dataframe tbody tr th:only-of-type {\n",
       "        vertical-align: middle;\n",
       "    }\n",
       "\n",
       "    .dataframe tbody tr th {\n",
       "        vertical-align: top;\n",
       "    }\n",
       "\n",
       "    .dataframe thead th {\n",
       "        text-align: right;\n",
       "    }\n",
       "</style>\n",
       "<table border=\"1\" class=\"dataframe\">\n",
       "  <thead>\n",
       "    <tr style=\"text-align: right;\">\n",
       "      <th></th>\n",
       "      <th>Feature Id</th>\n",
       "      <th>Importances</th>\n",
       "    </tr>\n",
       "  </thead>\n",
       "  <tbody>\n",
       "    <tr>\n",
       "      <th>0</th>\n",
       "      <td>full_description</td>\n",
       "      <td>85.459559</td>\n",
       "    </tr>\n",
       "    <tr>\n",
       "      <th>1</th>\n",
       "      <td>category</td>\n",
       "      <td>8.765777</td>\n",
       "    </tr>\n",
       "    <tr>\n",
       "      <th>2</th>\n",
       "      <td>location_normalized</td>\n",
       "      <td>5.774665</td>\n",
       "    </tr>\n",
       "  </tbody>\n",
       "</table>\n",
       "</div>\n",
       "      <button class=\"colab-df-convert\" onclick=\"convertToInteractive('df-7dde8b9d-f95f-4453-93fc-5845206da353')\"\n",
       "              title=\"Convert this dataframe to an interactive table.\"\n",
       "              style=\"display:none;\">\n",
       "        \n",
       "  <svg xmlns=\"http://www.w3.org/2000/svg\" height=\"24px\"viewBox=\"0 0 24 24\"\n",
       "       width=\"24px\">\n",
       "    <path d=\"M0 0h24v24H0V0z\" fill=\"none\"/>\n",
       "    <path d=\"M18.56 5.44l.94 2.06.94-2.06 2.06-.94-2.06-.94-.94-2.06-.94 2.06-2.06.94zm-11 1L8.5 8.5l.94-2.06 2.06-.94-2.06-.94L8.5 2.5l-.94 2.06-2.06.94zm10 10l.94 2.06.94-2.06 2.06-.94-2.06-.94-.94-2.06-.94 2.06-2.06.94z\"/><path d=\"M17.41 7.96l-1.37-1.37c-.4-.4-.92-.59-1.43-.59-.52 0-1.04.2-1.43.59L10.3 9.45l-7.72 7.72c-.78.78-.78 2.05 0 2.83L4 21.41c.39.39.9.59 1.41.59.51 0 1.02-.2 1.41-.59l7.78-7.78 2.81-2.81c.8-.78.8-2.07 0-2.86zM5.41 20L4 18.59l7.72-7.72 1.47 1.35L5.41 20z\"/>\n",
       "  </svg>\n",
       "      </button>\n",
       "      \n",
       "  <style>\n",
       "    .colab-df-container {\n",
       "      display:flex;\n",
       "      flex-wrap:wrap;\n",
       "      gap: 12px;\n",
       "    }\n",
       "\n",
       "    .colab-df-convert {\n",
       "      background-color: #E8F0FE;\n",
       "      border: none;\n",
       "      border-radius: 50%;\n",
       "      cursor: pointer;\n",
       "      display: none;\n",
       "      fill: #1967D2;\n",
       "      height: 32px;\n",
       "      padding: 0 0 0 0;\n",
       "      width: 32px;\n",
       "    }\n",
       "\n",
       "    .colab-df-convert:hover {\n",
       "      background-color: #E2EBFA;\n",
       "      box-shadow: 0px 1px 2px rgba(60, 64, 67, 0.3), 0px 1px 3px 1px rgba(60, 64, 67, 0.15);\n",
       "      fill: #174EA6;\n",
       "    }\n",
       "\n",
       "    [theme=dark] .colab-df-convert {\n",
       "      background-color: #3B4455;\n",
       "      fill: #D2E3FC;\n",
       "    }\n",
       "\n",
       "    [theme=dark] .colab-df-convert:hover {\n",
       "      background-color: #434B5C;\n",
       "      box-shadow: 0px 1px 3px 1px rgba(0, 0, 0, 0.15);\n",
       "      filter: drop-shadow(0px 1px 2px rgba(0, 0, 0, 0.3));\n",
       "      fill: #FFFFFF;\n",
       "    }\n",
       "  </style>\n",
       "\n",
       "      <script>\n",
       "        const buttonEl =\n",
       "          document.querySelector('#df-7dde8b9d-f95f-4453-93fc-5845206da353 button.colab-df-convert');\n",
       "        buttonEl.style.display =\n",
       "          google.colab.kernel.accessAllowed ? 'block' : 'none';\n",
       "\n",
       "        async function convertToInteractive(key) {\n",
       "          const element = document.querySelector('#df-7dde8b9d-f95f-4453-93fc-5845206da353');\n",
       "          const dataTable =\n",
       "            await google.colab.kernel.invokeFunction('convertToInteractive',\n",
       "                                                     [key], {});\n",
       "          if (!dataTable) return;\n",
       "\n",
       "          const docLinkHtml = 'Like what you see? Visit the ' +\n",
       "            '<a target=\"_blank\" href=https://colab.research.google.com/notebooks/data_table.ipynb>data table notebook</a>'\n",
       "            + ' to learn more about interactive tables.';\n",
       "          element.innerHTML = '';\n",
       "          dataTable['output_type'] = 'display_data';\n",
       "          await google.colab.output.renderOutput(dataTable, element);\n",
       "          const docLink = document.createElement('div');\n",
       "          docLink.innerHTML = docLinkHtml;\n",
       "          element.appendChild(docLink);\n",
       "        }\n",
       "      </script>\n",
       "    </div>\n",
       "  </div>\n",
       "  "
      ],
      "text/plain": [
       "            Feature Id  Importances\n",
       "0     full_description    85.459559\n",
       "1             category     8.765777\n",
       "2  location_normalized     5.774665"
      ]
     },
     "execution_count": 147,
     "metadata": {},
     "output_type": "execute_result"
    }
   ],
   "source": [
    "cat_model.get_feature_importance(prettified=True)"
   ]
  }
 ],
 "metadata": {
  "accelerator": "GPU",
  "colab": {
   "provenance": []
  },
  "gpuClass": "standard",
  "kernelspec": {
   "display_name": "Python 3 (ipykernel)",
   "language": "python",
   "name": "python3"
  },
  "language_info": {
   "codemirror_mode": {
    "name": "ipython",
    "version": 3
   },
   "file_extension": ".py",
   "mimetype": "text/x-python",
   "name": "python",
   "nbconvert_exporter": "python",
   "pygments_lexer": "ipython3",
   "version": "3.10.8"
  }
 },
 "nbformat": 4,
 "nbformat_minor": 5
}
