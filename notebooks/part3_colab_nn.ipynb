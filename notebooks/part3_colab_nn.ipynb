{
 "cells": [
  {
   "cell_type": "markdown",
   "id": "6d567072",
   "metadata": {},
   "source": [
    "**Комментарий из будущего** <br>\n",
    "Тут живет подобие нейросети на BERT. В теории первоначальная цель была достигнута, модель работала на удаленном сервере на обозначенных ресурсах. Но попросили сократить :) Был убран BERT, который много жрет, и сама нейросеть тоже пошла под ножик из-за размеров торча. <br>\n",
    "По итогу в этом файле только формирование ембедингов от Берта, даже нейросетка переехала в конец 5 части :))"
   ]
  },
  {
   "cell_type": "code",
   "execution_count": 14,
   "id": "37eb73b1",
   "metadata": {
    "executionInfo": {
     "elapsed": 14340,
     "status": "ok",
     "timestamp": 1673162428475,
     "user": {
      "displayName": "Татьяна Моисеева",
      "userId": "17359335256304290394"
     },
     "user_tz": -180
    },
    "id": "37eb73b1"
   },
   "outputs": [],
   "source": [
    "import pandas as pd\n",
    "import numpy as np\n",
    "\n",
    "import spacy\n",
    "import pickle\n",
    "\n",
    "import transformers as ppb\n",
    "\n",
    "import torch\n",
    "from torch import nn\n",
    "from torch.utils.data import DataLoader, TensorDataset\n",
    "\n",
    "from tqdm import tqdm, notebook\n",
    "\n",
    "from sklearn.model_selection import train_test_split\n",
    "from sklearn.compose import ColumnTransformer\n",
    "from sklearn.pipeline import Pipeline\n",
    "from sklearn.impute import SimpleImputer\n",
    "from sklearn.preprocessing import OneHotEncoder, MinMaxScaler\n",
    "from sklearn.feature_extraction.text import TfidfVectorizer \n",
    "from sklearn.decomposition import TruncatedSVD\n",
    "from sklearn.metrics import r2_score, mean_absolute_error, mean_squared_error\n",
    "from sklearn.base import BaseEstimator, TransformerMixin"
   ]
  },
  {
   "cell_type": "code",
   "execution_count": 4,
   "id": "78LYyRTrRGoA",
   "metadata": {
    "colab": {
     "base_uri": "https://localhost:8080/"
    },
    "executionInfo": {
     "elapsed": 32649,
     "status": "ok",
     "timestamp": 1673162742503,
     "user": {
      "displayName": "Татьяна Моисеева",
      "userId": "17359335256304290394"
     },
     "user_tz": -180
    },
    "id": "78LYyRTrRGoA",
    "outputId": "9b79e72d-584d-4fc5-b8f6-a648a63b5f11"
   },
   "outputs": [
    {
     "name": "stdout",
     "output_type": "stream",
     "text": [
      "Mounted at /content/drive/\n"
     ]
    }
   ],
   "source": [
    "from google.colab import drive\n",
    "drive.mount('/content/drive/')"
   ]
  },
  {
   "cell_type": "code",
   "execution_count": 7,
   "id": "1RMCEoSSRGtK",
   "metadata": {
    "colab": {
     "base_uri": "https://localhost:8080/"
    },
    "executionInfo": {
     "elapsed": 944,
     "status": "ok",
     "timestamp": 1673162896983,
     "user": {
      "displayName": "Татьяна Моисеева",
      "userId": "17359335256304290394"
     },
     "user_tz": -180
    },
    "id": "1RMCEoSSRGtK",
    "outputId": "9aca6e4f-64c9-409a-80a4-6b8c13388e32"
   },
   "outputs": [
    {
     "name": "stdout",
     "output_type": "stream",
     "text": [
      "/content/drive/My Drive\n"
     ]
    }
   ],
   "source": [
    "%cd /content/drive/My Drive/"
   ]
  },
  {
   "cell_type": "code",
   "execution_count": 20,
   "id": "a474aa7a",
   "metadata": {
    "executionInfo": {
     "elapsed": 548,
     "status": "ok",
     "timestamp": 1673162513678,
     "user": {
      "displayName": "Татьяна Моисеева",
      "userId": "17359335256304290394"
     },
     "user_tz": -180
    },
    "id": "a474aa7a"
   },
   "outputs": [],
   "source": [
    "RAND = sum(ord(x) for x in 'NEVER SURRENDER')\n",
    "tqdm.pandas()\n",
    "\n",
    "HIDDEN_N = 530  # 800 * 2/3\n",
    "ETA = 0.001\n",
    "BATCH = 200\n",
    "EPOCH = 1_000"
   ]
  },
  {
   "cell_type": "code",
   "execution_count": 114,
   "id": "ead25099",
   "metadata": {
    "executionInfo": {
     "elapsed": 4804,
     "status": "ok",
     "timestamp": 1673167410289,
     "user": {
      "displayName": "Татьяна Моисеева",
      "userId": "17359335256304290394"
     },
     "user_tz": -180
    },
    "id": "ead25099"
   },
   "outputs": [],
   "source": [
    "df = pd.read_csv('tocolab.csv', index_col=[0])\n",
    "df.columns = df.columns.str.replace('(.)([A-Z])', r'\\1_\\2', regex=True).str.lower()"
   ]
  },
  {
   "cell_type": "code",
   "execution_count": 115,
   "id": "JhDem8uvuxKH",
   "metadata": {
    "executionInfo": {
     "elapsed": 10,
     "status": "ok",
     "timestamp": 1673167410289,
     "user": {
      "displayName": "Татьяна Моисеева",
      "userId": "17359335256304290394"
     },
     "user_tz": -180
    },
    "id": "JhDem8uvuxKH"
   },
   "outputs": [],
   "source": [
    "df = df[:-100]"
   ]
  },
  {
   "cell_type": "code",
   "execution_count": 116,
   "id": "6e508734",
   "metadata": {
    "executionInfo": {
     "elapsed": 10,
     "status": "ok",
     "timestamp": 1673167410290,
     "user": {
      "displayName": "Татьяна Моисеева",
      "userId": "17359335256304290394"
     },
     "user_tz": -180
    },
    "id": "6e508734"
   },
   "outputs": [],
   "source": [
    "df_train, df_valid = train_test_split(df, test_size=0.1, random_state=RAND)"
   ]
  },
  {
   "cell_type": "code",
   "execution_count": 117,
   "id": "NboIBP6LuGrx",
   "metadata": {
    "colab": {
     "base_uri": "https://localhost:8080/"
    },
    "executionInfo": {
     "elapsed": 11,
     "status": "ok",
     "timestamp": 1673167410292,
     "user": {
      "displayName": "Татьяна Моисеева",
      "userId": "17359335256304290394"
     },
     "user_tz": -180
    },
    "id": "NboIBP6LuGrx",
    "outputId": "fef51b38-7c67-4720-9b02-32144eef9536"
   },
   "outputs": [
    {
     "name": "stdout",
     "output_type": "stream",
     "text": [
      "(220201, 4) (24467, 4)\n"
     ]
    }
   ],
   "source": [
    "print(df_train.shape, df_valid.shape)"
   ]
  },
  {
   "cell_type": "markdown",
   "id": "1e3253a2",
   "metadata": {},
   "source": [
    "(чуть позже переделана предобработка, словарь формируется автоматически, но результат аналогичен)"
   ]
  },
  {
   "cell_type": "code",
   "execution_count": 40,
   "id": "370df95d",
   "metadata": {
    "executionInfo": {
     "elapsed": 1096,
     "status": "ok",
     "timestamp": 1673162941961,
     "user": {
      "displayName": "Татьяна Моисеева",
      "userId": "17359335256304290394"
     },
     "user_tz": -180
    },
    "id": "370df95d"
   },
   "outputs": [],
   "source": [
    "#load dict\n",
    "with open('nn/location_dict.pkl', 'rb') as f:\n",
    "    location_dict = pickle.load(f)"
   ]
  },
  {
   "cell_type": "code",
   "execution_count": 41,
   "id": "fITOtZMnwpKG",
   "metadata": {
    "executionInfo": {
     "elapsed": 6,
     "status": "ok",
     "timestamp": 1673162965104,
     "user": {
      "displayName": "Татьяна Моисеева",
      "userId": "17359335256304290394"
     },
     "user_tz": -180
    },
    "id": "fITOtZMnwpKG"
   },
   "outputs": [],
   "source": [
    "class LocationCategory(BaseEstimator, TransformerMixin):\n",
    "    \n",
    "    def __init__(self, location_dict):\n",
    "        #load dict\n",
    "        self.location_dict = location_dict\n",
    "        \n",
    "\n",
    "    def fit(self, X, y=None):\n",
    "        #no need to fit, only transform\n",
    "        return self\n",
    "\n",
    "    def transform(self, X):\n",
    "        return pd.DataFrame(X.apply(lambda x: location_dict.get(x,'few')))"
   ]
  },
  {
   "cell_type": "code",
   "execution_count": 42,
   "id": "h-HgaVE3wpNN",
   "metadata": {
    "executionInfo": {
     "elapsed": 6,
     "status": "ok",
     "timestamp": 1673162971023,
     "user": {
      "displayName": "Татьяна Моисеева",
      "userId": "17359335256304290394"
     },
     "user_tz": -180
    },
    "id": "h-HgaVE3wpNN"
   },
   "outputs": [],
   "source": [
    "cat_pipe = Pipeline([\n",
    "    ('imputer', SimpleImputer(strategy='constant', fill_value='unknown')),\n",
    "    ('encoder', OneHotEncoder(handle_unknown='ignore', sparse=False)),\n",
    "])\n",
    "\n",
    "location_transform = ColumnTransformer([('loc', LocationCategory(location_dict), 'location_normalized')], \n",
    "                                       remainder='passthrough')\n",
    "\n",
    "final_pipe = Pipeline([\n",
    "    ('loc', location_transform),\n",
    "    ('prep', cat_pipe)\n",
    "   \n",
    "])"
   ]
  },
  {
   "cell_type": "code",
   "execution_count": 17,
   "id": "KcnkaIuGyIRa",
   "metadata": {
    "executionInfo": {
     "elapsed": 5,
     "status": "ok",
     "timestamp": 1673162984879,
     "user": {
      "displayName": "Татьяна Моисеева",
      "userId": "17359335256304290394"
     },
     "user_tz": -180
    },
    "id": "KcnkaIuGyIRa"
   },
   "outputs": [],
   "source": [
    "df_pipe = df_train[['location_normalized', 'category']]"
   ]
  },
  {
   "cell_type": "code",
   "execution_count": 19,
   "id": "iC1rfL4awpQI",
   "metadata": {
    "executionInfo": {
     "elapsed": 439,
     "status": "ok",
     "timestamp": 1673163061972,
     "user": {
      "displayName": "Татьяна Моисеева",
      "userId": "17359335256304290394"
     },
     "user_tz": -180
    },
    "id": "iC1rfL4awpQI"
   },
   "outputs": [],
   "source": [
    "tt = final_pipe.fit(df_pipe)"
   ]
  },
  {
   "cell_type": "code",
   "execution_count": 20,
   "id": "_gGVvhQswpSE",
   "metadata": {
    "executionInfo": {
     "elapsed": 9,
     "status": "ok",
     "timestamp": 1673163064302,
     "user": {
      "displayName": "Татьяна Моисеева",
      "userId": "17359335256304290394"
     },
     "user_tz": -180
    },
    "id": "_gGVvhQswpSE"
   },
   "outputs": [],
   "source": [
    "train_cat_features = tt.transform(df_train)\n",
    "valid_cat_features = tt.transform(df_valid)"
   ]
  },
  {
   "cell_type": "markdown",
   "id": "d6bd48ba",
   "metadata": {
    "id": "d6bd48ba"
   },
   "source": [
    "Категории готовы, Берт."
   ]
  },
  {
   "cell_type": "code",
   "execution_count": 10,
   "id": "ad560e61",
   "metadata": {
    "colab": {
     "base_uri": "https://localhost:8080/"
    },
    "executionInfo": {
     "elapsed": 609,
     "status": "ok",
     "timestamp": 1673163068242,
     "user": {
      "displayName": "Татьяна Моисеева",
      "userId": "17359335256304290394"
     },
     "user_tz": -180
    },
    "id": "ad560e61",
    "outputId": "63d7fdb0-87a1-4171-c423-cceacf8544d4"
   },
   "outputs": [
    {
     "data": {
      "text/plain": [
       "device(type='cuda')"
      ]
     },
     "execution_count": 10,
     "metadata": {},
     "output_type": "execute_result"
    }
   ],
   "source": [
    "device = torch.device(\"cuda\" if torch.cuda.is_available() else \"cpu\")\n",
    "device"
   ]
  },
  {
   "cell_type": "code",
   "execution_count": 17,
   "id": "00097de2",
   "metadata": {
    "executionInfo": {
     "elapsed": 7,
     "status": "ok",
     "timestamp": 1673163070535,
     "user": {
      "displayName": "Татьяна Моисеева",
      "userId": "17359335256304290394"
     },
     "user_tz": -180
    },
    "id": "00097de2"
   },
   "outputs": [],
   "source": [
    "#ФРААААНКЕНШТЕЙН :) поэтому не особо упорядочено, делалось кусками. \n",
    "def bert_transform(data: pd.Series, \n",
    "                   device: torch.device,\n",
    "                   batch_size: int = 0) -> pd.DataFrame:\n",
    "    \n",
    "    if not batch_size:\n",
    "        batch_size = data.shape[0]\n",
    "    \n",
    "    #distilbert load. \n",
    "    model_class, tokenizer_class, pretrained_weights = (ppb.DistilBertModel, \n",
    "                                                        ppb.DistilBertTokenizer, \n",
    "                                                        'distilbert-base-uncased')\n",
    "    tokenizer = tokenizer_class.from_pretrained(pretrained_weights)\n",
    "    model_bert = model_class.from_pretrained(pretrained_weights).to(device)\n",
    "    \n",
    "    b_token = data.progress_apply((lambda x: tokenizer.encode(x, \n",
    "                                                     add_special_tokens=True,\n",
    "                                                     truncation=True)))\n",
    "    max_len = max(b_token.map(len))\n",
    "    padded = np.array([i + [0]*(max_len-len(i)) for i in b_token.values])\n",
    "    attention_mask = np.where(padded != 0, 1, 0)\n",
    "    embeddings = []\n",
    "    start_ = 0\n",
    "    stop_ = batch_size\n",
    "    for j in tqdm(range(padded.shape[0] // batch_size)):\n",
    "        batch = torch.LongTensor(padded[start_:stop_]).to(device)  \n",
    "        attention_mask_batch = torch.LongTensor(attention_mask[start_:stop_]).to(device)  \n",
    "        with torch.no_grad():\n",
    "            batch_embeddings = model_bert(batch, attention_mask=attention_mask_batch)\n",
    "        embeddings.append(batch_embeddings[0][:,0,:].cpu().numpy())\n",
    "        start_ += batch_size\n",
    "        stop_ += batch_size\n",
    "    bert_features = np.concatenate(embeddings)\n",
    "    return pd.DataFrame(bert_features)"
   ]
  },
  {
   "cell_type": "code",
   "execution_count": 26,
   "id": "0b7473a1",
   "metadata": {
    "executionInfo": {
     "elapsed": 54103,
     "status": "ok",
     "timestamp": 1673163500977,
     "user": {
      "displayName": "Татьяна Моисеева",
      "userId": "17359335256304290394"
     },
     "user_tz": -180
    },
    "id": "0b7473a1"
   },
   "outputs": [],
   "source": [
    "try:\n",
    "    bert_features = pd.read_csv('full-bert-train.csv', index_col=[0])\n",
    "except:\n",
    "    bert_features = bert_transform(df_train['clear_text'], device, BATCH)\n",
    "    pd.DataFrame(bert_features).to_csv('full-bert-train.csv')"
   ]
  },
  {
   "cell_type": "code",
   "execution_count": 25,
   "id": "c6a85be9",
   "metadata": {
    "executionInfo": {
     "elapsed": 6059,
     "status": "ok",
     "timestamp": 1673163216014,
     "user": {
      "displayName": "Татьяна Моисеева",
      "userId": "17359335256304290394"
     },
     "user_tz": -180
    },
    "id": "c6a85be9"
   },
   "outputs": [],
   "source": [
    "try:\n",
    "    bert_features_valid  = pd.read_csv('full-bert-valid.csv', index_col=[0])\n",
    "except:\n",
    "    bert_features_valid  = bert_transform(df_valid['clear_text'], device, BATCH)\n",
    "    pd.DataFrame(bert_features_valid).to_csv('full-bert-valid.csv')"
   ]
  },
  {
   "cell_type": "code",
   "execution_count": 28,
   "id": "701ff88c",
   "metadata": {
    "executionInfo": {
     "elapsed": 6038,
     "status": "ok",
     "timestamp": 1673163536598,
     "user": {
      "displayName": "Татьяна Моисеева",
      "userId": "17359335256304290394"
     },
     "user_tz": -180
    },
    "id": "701ff88c"
   },
   "outputs": [],
   "source": [
    "X_train = pd.concat([bert_features, pd.DataFrame(train_cat_features)], axis=1)\n",
    "X_train = X_train.dropna()\n",
    "X_valid = pd.concat([bert_features_valid, pd.DataFrame(valid_cat_features)], axis=1)\n",
    "X_valid = X_valid.dropna()"
   ]
  },
  {
   "cell_type": "markdown",
   "id": "cad57739",
   "metadata": {
    "id": "cad57739"
   },
   "source": [
    "_________________\n",
    "Целевой. Тут получился без логарифма\n"
   ]
  },
  {
   "cell_type": "code",
   "execution_count": 118,
   "id": "dc56e7d2",
   "metadata": {
    "executionInfo": {
     "elapsed": 456,
     "status": "ok",
     "timestamp": 1673167424770,
     "user": {
      "displayName": "Татьяна Моисеева",
      "userId": "17359335256304290394"
     },
     "user_tz": -180
    },
    "id": "dc56e7d2"
   },
   "outputs": [],
   "source": [
    "#df_train['salary_normalized'] = np.log1p(df_train['salary_normalized'])\n",
    "try:\n",
    "    #load \n",
    "    with open(\"full_minmax.pkl\", \"rb\") as f:\n",
    "        minmax = pickle.load(f)\n",
    "except:\n",
    "    minmax = MinMaxScaler().fit(df_train['salary_normalized'].values.reshape(-1, 1))\n",
    "    #save \n",
    "    with open(\"full_minmax.pkl\", \"wb\") as f:\n",
    "        pickle.dump(minmax, f)"
   ]
  },
  {
   "cell_type": "code",
   "execution_count": 119,
   "id": "c7a57d5f",
   "metadata": {
    "executionInfo": {
     "elapsed": 4,
     "status": "ok",
     "timestamp": 1673167427239,
     "user": {
      "displayName": "Татьяна Моисеева",
      "userId": "17359335256304290394"
     },
     "user_tz": -180
    },
    "id": "c7a57d5f"
   },
   "outputs": [],
   "source": [
    "y_train = minmax.transform(df_train['salary_normalized'].values.reshape(-1, 1))\n",
    "y_valid = minmax.transform(df_valid['salary_normalized'].values.reshape(-1, 1))"
   ]
  },
  {
   "cell_type": "code",
   "execution_count": 120,
   "id": "ye2-k_xXD2Zb",
   "metadata": {
    "executionInfo": {
     "elapsed": 454,
     "status": "ok",
     "timestamp": 1673167428490,
     "user": {
      "displayName": "Татьяна Моисеева",
      "userId": "17359335256304290394"
     },
     "user_tz": -180
    },
    "id": "ye2-k_xXD2Zb"
   },
   "outputs": [],
   "source": [
    "y_train = y_train[:X_train.shape[0]]\n",
    "y_valid = y_valid[:X_valid.shape[0]]"
   ]
  },
  {
   "cell_type": "markdown",
   "id": "311b4dd0",
   "metadata": {
    "id": "311b4dd0"
   },
   "source": [
    "_________________"
   ]
  },
  {
   "cell_type": "code",
   "execution_count": 32,
   "id": "58fe308b",
   "metadata": {
    "colab": {
     "base_uri": "https://localhost:8080/"
    },
    "executionInfo": {
     "elapsed": 9,
     "status": "ok",
     "timestamp": 1673163565591,
     "user": {
      "displayName": "Татьяна Моисеева",
      "userId": "17359335256304290394"
     },
     "user_tz": -180
    },
    "id": "58fe308b",
    "outputId": "86177431-37a4-4a4a-82c9-f7839e1a59fc"
   },
   "outputs": [
    {
     "data": {
      "text/plain": [
       "<torch._C.Generator at 0x7f61a3fda110>"
      ]
     },
     "execution_count": 32,
     "metadata": {},
     "output_type": "execute_result"
    }
   ],
   "source": [
    "n_input = X_train.shape[1]\n",
    "torch.manual_seed(RAND)"
   ]
  },
  {
   "cell_type": "code",
   "execution_count": 98,
   "id": "9ZK3Rt2HGg0L",
   "metadata": {
    "colab": {
     "base_uri": "https://localhost:8080/"
    },
    "executionInfo": {
     "elapsed": 12,
     "status": "ok",
     "timestamp": 1673166155445,
     "user": {
      "displayName": "Татьяна Моисеева",
      "userId": "17359335256304290394"
     },
     "user_tz": -180
    },
    "id": "9ZK3Rt2HGg0L",
    "outputId": "f3195b49-ba7f-4964-f40c-9c780e58e915"
   },
   "outputs": [
    {
     "data": {
      "text/plain": [
       "device(type='cuda')"
      ]
     },
     "execution_count": 98,
     "metadata": {},
     "output_type": "execute_result"
    }
   ],
   "source": [
    "device"
   ]
  },
  {
   "cell_type": "code",
   "execution_count": 24,
   "id": "a5047ea1",
   "metadata": {
    "executionInfo": {
     "elapsed": 3,
     "status": "ok",
     "timestamp": 1673170716858,
     "user": {
      "displayName": "Татьяна Моисеева",
      "userId": "17359335256304290394"
     },
     "user_tz": -180
    },
    "id": "a5047ea1"
   },
   "outputs": [],
   "source": [
    "# плохо у меня с фантазией на названия\n",
    "# _____________________\n",
    "# Ist das der Zerstörer oder der Schöpfer?\n",
    "\n",
    "class TextNet(nn.Module):\n",
    "    def __init__(self, n_input, n_hidden, layers):\n",
    "        super(TextNet, self).__init__()\n",
    "        \n",
    "        self.input_layers = nn.Sequential(\n",
    "            nn.Linear(n_input, n_hidden),\n",
    "            nn.Dropout(0.1),\n",
    "           # nn.ReLU()\n",
    "        )\n",
    "        \n",
    "        \n",
    "        mid_layers = []\n",
    "        for _ in range(layers):\n",
    "            mid_layers.append(nn.Linear(n_hidden, n_hidden))\n",
    "            mid_layers.append(nn.Dropout(0.1))\n",
    "            mid_layers.append(nn.ReLU()) \n",
    "        self.mid_layers = nn.Sequential(*mid_layers)\n",
    "        \n",
    "        \n",
    "        self.out_layres = nn.Sequential(       \n",
    "            nn.Linear(n_hidden, int(n_hidden/2)),\n",
    "            nn.Sigmoid(), #nn.ReLU(), #\n",
    "            nn.Linear(int(n_hidden/2), 1)\n",
    "        )\n",
    "    \n",
    "          \n",
    "    def forward(self, x):\n",
    "        y = self.input_layers(x)\n",
    "        y = self.mid_layers(y)\n",
    "        y = self.out_layres(y)\n",
    "        return y"
   ]
  },
  {
   "cell_type": "code",
   "execution_count": 149,
   "id": "78cbfd2e",
   "metadata": {
    "executionInfo": {
     "elapsed": 5,
     "status": "ok",
     "timestamp": 1673170719122,
     "user": {
      "displayName": "Татьяна Моисеева",
      "userId": "17359335256304290394"
     },
     "user_tz": -180
    },
    "id": "78cbfd2e"
   },
   "outputs": [],
   "source": [
    "nn_model = TextNet(n_input, HIDDEN_N, 1)\n",
    "if torch.cuda.is_available():\n",
    "    nn_model = nn_model.to(device)"
   ]
  },
  {
   "cell_type": "code",
   "execution_count": 130,
   "id": "p5DtAPfrprNr",
   "metadata": {
    "colab": {
     "base_uri": "https://localhost:8080/"
    },
    "executionInfo": {
     "elapsed": 469,
     "status": "ok",
     "timestamp": 1673167796723,
     "user": {
      "displayName": "Татьяна Моисеева",
      "userId": "17359335256304290394"
     },
     "user_tz": -180
    },
    "id": "p5DtAPfrprNr",
    "outputId": "3a5c0d87-9155-4e41-ea60-97c372f4050c"
   },
   "outputs": [
    {
     "data": {
      "text/plain": [
       "TextNet(\n",
       "  (input_layers): Sequential(\n",
       "    (0): Linear(in_features=800, out_features=530, bias=True)\n",
       "    (1): Dropout(p=0.1, inplace=False)\n",
       "  )\n",
       "  (mid_layers): Sequential(\n",
       "    (0): Linear(in_features=530, out_features=530, bias=True)\n",
       "    (1): Dropout(p=0.1, inplace=False)\n",
       "    (2): ReLU()\n",
       "  )\n",
       "  (out_layres): Sequential(\n",
       "    (0): Linear(in_features=530, out_features=265, bias=True)\n",
       "    (1): Sigmoid()\n",
       "    (2): Linear(in_features=265, out_features=1, bias=True)\n",
       "  )\n",
       ")"
      ]
     },
     "execution_count": 130,
     "metadata": {},
     "output_type": "execute_result"
    }
   ],
   "source": [
    "nn_model"
   ]
  },
  {
   "cell_type": "code",
   "execution_count": 150,
   "id": "NRHLfHvJprRy",
   "metadata": {
    "executionInfo": {
     "elapsed": 1082,
     "status": "ok",
     "timestamp": 1673170724696,
     "user": {
      "displayName": "Татьяна Моисеева",
      "userId": "17359335256304290394"
     },
     "user_tz": -180
    },
    "id": "NRHLfHvJprRy"
   },
   "outputs": [],
   "source": [
    "def create_tensor_dataloader(features: pd.DataFrame, \n",
    "                             target: pd.Series,\n",
    "                             batch_: int = BATCH,\n",
    "                             split: float=0) -> DataLoader:\n",
    "    \n",
    "    #create dataset\n",
    "    features = torch.tensor(features.values, device=device,  dtype=torch.float)\n",
    "    target = torch.tensor(target, device=device,  dtype=torch.float) #labels\n",
    "        \n",
    "    dataset = TensorDataset(features, target)\n",
    "    \n",
    "    if split:\n",
    "        train, valid = train_test_split(dataset, test_size=split, random_state=RAND)\n",
    "        train = DataLoader(train, batch_size=batch_, drop_last=True) \n",
    "        valid = DataLoader(valid, batch_size=batch_, drop_last=True) \n",
    "        return train, valid\n",
    "    else:\n",
    "        return DataLoader(dataset, batch_size=batch_, drop_last=True) "
   ]
  },
  {
   "cell_type": "code",
   "execution_count": 151,
   "id": "h9x8Z-I_prVI",
   "metadata": {
    "executionInfo": {
     "elapsed": 1245,
     "status": "ok",
     "timestamp": 1673170729584,
     "user": {
      "displayName": "Татьяна Моисеева",
      "userId": "17359335256304290394"
     },
     "user_tz": -180
    },
    "id": "h9x8Z-I_prVI"
   },
   "outputs": [],
   "source": [
    "tensor_train = create_tensor_dataloader(X_train, y_train)\n",
    "tensor_valid = create_tensor_dataloader(X_valid, y_valid)"
   ]
  },
  {
   "cell_type": "code",
   "execution_count": 152,
   "id": "9HgqfyWjU8Qe",
   "metadata": {
    "executionInfo": {
     "elapsed": 522,
     "status": "ok",
     "timestamp": 1673170734938,
     "user": {
      "displayName": "Татьяна Моисеева",
      "userId": "17359335256304290394"
     },
     "user_tz": -180
    },
    "id": "9HgqfyWjU8Qe"
   },
   "outputs": [],
   "source": [
    "### не финальная моделька. просто какая-то из."
   ]
  },
  {
   "cell_type": "code",
   "execution_count": 153,
   "id": "NBMQqP0AprYA",
   "metadata": {
    "colab": {
     "base_uri": "https://localhost:8080/"
    },
    "executionInfo": {
     "elapsed": 784551,
     "status": "ok",
     "timestamp": 1673171522153,
     "user": {
      "displayName": "Татьяна Моисеева",
      "userId": "17359335256304290394"
     },
     "user_tz": -180
    },
    "id": "NBMQqP0AprYA",
    "outputId": "cb6022bc-7a1b-4ef2-ad95-7eff118fc147"
   },
   "outputs": [
    {
     "name": "stderr",
     "output_type": "stream",
     "text": [
      "100%|██████████| 200/200 [13:04<00:00,  3.92s/it]\n"
     ]
    }
   ],
   "source": [
    "nn_model.train()\n",
    "loss_function =  nn.L1Loss() # nn.MSELoss() # \n",
    "optimizer = torch.optim.Adam(nn_model.parameters(), lr=ETA)\n",
    "  \n",
    "for epoch in tqdm(range(EPOCH)):   \n",
    "    for inputs, targets in tensor_train:\n",
    "        optimizer.zero_grad()\n",
    "        outputs = nn_model(inputs)\n",
    "        loss = loss_function(outputs, targets)\n",
    "        loss.backward()\n",
    "        optimizer.step() "
   ]
  },
  {
   "cell_type": "code",
   "execution_count": 154,
   "id": "kqdsMWbLprZ_",
   "metadata": {
    "colab": {
     "base_uri": "https://localhost:8080/"
    },
    "executionInfo": {
     "elapsed": 469,
     "status": "ok",
     "timestamp": 1673171545799,
     "user": {
      "displayName": "Татьяна Моисеева",
      "userId": "17359335256304290394"
     },
     "user_tz": -180
    },
    "id": "kqdsMWbLprZ_",
    "outputId": "db5169fd-9be5-48c3-a7a6-72b7555197af"
   },
   "outputs": [
    {
     "name": "stderr",
     "output_type": "stream",
     "text": [
      "100%|██████████| 122/122 [00:00<00:00, 537.86it/s]"
     ]
    },
    {
     "name": "stdout",
     "output_type": "stream",
     "text": [
      "__________________\n",
      "MSE = 0.003160029237172051\n",
      "R2 = 0.6002499147026861\n",
      "MAE = 0.03578555290501672\n"
     ]
    },
    {
     "name": "stderr",
     "output_type": "stream",
     "text": [
      "\n"
     ]
    }
   ],
   "source": [
    "pred = np.array([])\n",
    "real = np.array([])\n",
    "nn_model.eval()\n",
    "with torch.no_grad():\n",
    "    for inputs, targets in tqdm(tensor_valid):  \n",
    "        \n",
    "        output = nn_model(inputs)\n",
    "            \n",
    "        pred = np.append(pred, output.detach().cpu())\n",
    "        real = np.append(real, targets.detach().cpu())\n",
    "       # print(f'R2 = {r2_score(real, pred)}')\n",
    "\n",
    "print('__________________')\n",
    "print(f'MSE = {mean_squared_error(real, pred)}')\n",
    "print(f'R2 = {r2_score(real, pred)}')\n",
    "print(f'MAE = {mean_absolute_error(real, pred)}')"
   ]
  },
  {
   "cell_type": "markdown",
   "id": "7f48af4e",
   "metadata": {},
   "source": [
    "MSE и MAE с учетом minmax, не очень показательно получилось :)"
   ]
  },
  {
   "cell_type": "code",
   "execution_count": 155,
   "id": "6vA2Z7bCp_fX",
   "metadata": {
    "executionInfo": {
     "elapsed": 479,
     "status": "ok",
     "timestamp": 1673171563193,
     "user": {
      "displayName": "Татьяна Моисеева",
      "userId": "17359335256304290394"
     },
     "user_tz": -180
    },
    "id": "6vA2Z7bCp_fX"
   },
   "outputs": [],
   "source": [
    "torch.save(nn_model.state_dict(), 'nn_model_state_5.pth')\n",
    "torch.save(nn_model, 'nn_model_5.pth')"
   ]
  }
 ],
 "metadata": {
  "accelerator": "GPU",
  "colab": {
   "provenance": []
  },
  "gpuClass": "standard",
  "kernelspec": {
   "display_name": "Python 3 (ipykernel)",
   "language": "python",
   "name": "python3"
  },
  "language_info": {
   "codemirror_mode": {
    "name": "ipython",
    "version": 3
   },
   "file_extension": ".py",
   "mimetype": "text/x-python",
   "name": "python",
   "nbconvert_exporter": "python",
   "pygments_lexer": "ipython3",
   "version": "3.10.8"
  }
 },
 "nbformat": 4,
 "nbformat_minor": 5
}
