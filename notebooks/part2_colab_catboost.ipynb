{
 "cells": [
  {
   "cell_type": "code",
   "execution_count": null,
   "id": "yAyjj_BQQdS-",
   "metadata": {
    "colab": {
     "base_uri": "https://localhost:8080/"
    },
    "executionInfo": {
     "elapsed": 10868,
     "status": "ok",
     "timestamp": 1673539483694,
     "user": {
      "displayName": "Татьяна Моисеева",
      "userId": "09895625684527175296"
     },
     "user_tz": -180
    },
    "id": "yAyjj_BQQdS-",
    "outputId": "a20cceaf-4971-4eb8-93bb-6ca0c0614ecb"
   },
   "outputs": [],
   "source": [
    "!pip install catboost"
   ]
  },
  {
   "cell_type": "code",
   "execution_count": 5,
   "id": "37eb73b1",
   "metadata": {
    "executionInfo": {
     "elapsed": 11,
     "status": "ok",
     "timestamp": 1673539483695,
     "user": {
      "displayName": "Татьяна Моисеева",
      "userId": "09895625684527175296"
     },
     "user_tz": -180
    },
    "id": "37eb73b1"
   },
   "outputs": [],
   "source": [
    "import pandas as pd\n",
    "import numpy as np\n",
    "\n",
    "import pickle\n",
    "\n",
    "from sklearn.model_selection import train_test_split\n",
    "from sklearn.metrics import r2_score, mean_squared_error, mean_absolute_error\n",
    "\n",
    "from catboost import Pool, CatBoostRegressor"
   ]
  },
  {
   "cell_type": "code",
   "execution_count": 6,
   "id": "a474aa7a",
   "metadata": {
    "colab": {
     "base_uri": "https://localhost:8080/"
    },
    "executionInfo": {
     "elapsed": 20342,
     "status": "ok",
     "timestamp": 1673539504028,
     "user": {
      "displayName": "Татьяна Моисеева",
      "userId": "09895625684527175296"
     },
     "user_tz": -180
    },
    "id": "a474aa7a",
    "outputId": "35216b7f-1869-4893-f581-ab480ae8f306"
   },
   "outputs": [
    {
     "name": "stdout",
     "output_type": "stream",
     "text": [
      "Mounted at /content/drive/\n",
      "/content/drive/My Drive\n"
     ]
    }
   ],
   "source": [
    "RAND = sum(ord(x) for x in 'NEVER SURRENDER')\n",
    "\n",
    "\n",
    "from google.colab import drive\n",
    "drive.mount('/content/drive/')\n",
    "%cd /content/drive/My Drive/\n",
    "from google.colab import output\n",
    "output.enable_custom_widget_manager()"
   ]
  },
  {
   "cell_type": "code",
   "execution_count": 7,
   "id": "HVkJm_7_QxTn",
   "metadata": {
    "executionInfo": {
     "elapsed": 12,
     "status": "ok",
     "timestamp": 1673539504031,
     "user": {
      "displayName": "Татьяна Моисеева",
      "userId": "09895625684527175296"
     },
     "user_tz": -180
    },
    "id": "HVkJm_7_QxTn"
   },
   "outputs": [],
   "source": [
    "def metrics_(real, pred):\n",
    "    print(f'RMSE = {mean_squared_error(real, pred)**.5}')\n",
    "    print(f'R2 = {r2_score(real, pred)}')\n",
    "    print(f'MAE = {mean_absolute_error(real, pred)}')\n"
   ]
  },
  {
   "cell_type": "code",
   "execution_count": 8,
   "id": "ead25099",
   "metadata": {
    "executionInfo": {
     "elapsed": 17317,
     "status": "ok",
     "timestamp": 1673539521894,
     "user": {
      "displayName": "Татьяна Моисеева",
      "userId": "09895625684527175296"
     },
     "user_tz": -180
    },
    "id": "ead25099"
   },
   "outputs": [],
   "source": [
    "df = pd.read_csv('tocolab.csv', index_col=[0])\n",
    "df.columns = df.columns.str.replace('(.)([A-Z])', r'\\1_\\2', regex=True).str.lower()"
   ]
  },
  {
   "cell_type": "code",
   "execution_count": 9,
   "id": "d94e805e",
   "metadata": {
    "colab": {
     "base_uri": "https://localhost:8080/"
    },
    "executionInfo": {
     "elapsed": 53843,
     "status": "ok",
     "timestamp": 1673539575724,
     "user": {
      "displayName": "Татьяна Моисеева",
      "userId": "09895625684527175296"
     },
     "user_tz": -180
    },
    "id": "d94e805e",
    "outputId": "48c46a41-9aba-4a4b-e4f8-e2ab383f5b36"
   },
   "outputs": [
    {
     "name": "stdout",
     "output_type": "stream",
     "text": [
      "CPU times: user 48.6 s, sys: 943 ms, total: 49.6 s\n",
      "Wall time: 53.4 s\n"
     ]
    }
   ],
   "source": [
    "%%time\n",
    "#http https www\n",
    "df['full_description'] = df['full_description'].str.replace(r'((https?:\\/\\/)|w{3}).*?( |$)',' ', regex=True)\n",
    "df['full_description'] = (df['full_description'].str.replace(r'[^A-Za-z\\']',' ', regex=True)\n",
    "                                                .str.lower()\n",
    "                                                .str.strip()\n",
    ")\n",
    "df['full_description'] = df['full_description'].str.replace(r'\\W{2,}',' ', regex=True)"
   ]
  },
  {
   "cell_type": "markdown",
   "id": "be8e14be",
   "metadata": {
    "id": "be8e14be"
   },
   "source": [
    "2000 последних элементов будет \"тестовой\", чисто для удобства проверять ручками. В этой части он не нужен."
   ]
  },
  {
   "cell_type": "code",
   "execution_count": 10,
   "id": "6e508734",
   "metadata": {
    "executionInfo": {
     "elapsed": 36,
     "status": "ok",
     "timestamp": 1673539575726,
     "user": {
      "displayName": "Татьяна Моисеева",
      "userId": "09895625684527175296"
     },
     "user_tz": -180
    },
    "id": "6e508734"
   },
   "outputs": [],
   "source": [
    "test = df.tail(2000).reset_index(drop=True)\n",
    "df = df[:-2000].reset_index(drop=True)"
   ]
  },
  {
   "cell_type": "code",
   "execution_count": 11,
   "id": "RtbqiDZNYFqA",
   "metadata": {
    "executionInfo": {
     "elapsed": 31,
     "status": "ok",
     "timestamp": 1673539575727,
     "user": {
      "displayName": "Татьяна Моисеева",
      "userId": "09895625684527175296"
     },
     "user_tz": -180
    },
    "id": "RtbqiDZNYFqA"
   },
   "outputs": [],
   "source": [
    "df_train, df_valid = train_test_split(df, test_size=0.2, random_state=RAND)"
   ]
  },
  {
   "cell_type": "code",
   "execution_count": 12,
   "id": "TERUZyMJ-4g4",
   "metadata": {
    "colab": {
     "base_uri": "https://localhost:8080/"
    },
    "executionInfo": {
     "elapsed": 25,
     "status": "ok",
     "timestamp": 1673539575728,
     "user": {
      "displayName": "Татьяна Моисеева",
      "userId": "09895625684527175296"
     },
     "user_tz": -180
    },
    "id": "TERUZyMJ-4g4",
    "outputId": "bb995317-92d6-4f58-bec8-1fa828444ff4"
   },
   "outputs": [
    {
     "name": "stdout",
     "output_type": "stream",
     "text": [
      "(194214, 4) (48554, 4)\n"
     ]
    }
   ],
   "source": [
    "print(df_train.shape,df_valid.shape)"
   ]
  },
  {
   "cell_type": "markdown",
   "id": "13891b5a",
   "metadata": {
    "id": "13891b5a"
   },
   "source": [
    "**Тренировка CatBoost**<br>\n",
    "Предварительно были подобраны параметры, тут тренировалось несколько моделей.\n",
    "\n",
    "Один из вариантов тренировки ниже, финальная модель получилась с логарифмом целевого."
   ]
  },
  {
   "cell_type": "code",
   "execution_count": 36,
   "id": "Rdqi9i-hR1HT",
   "metadata": {
    "executionInfo": {
     "elapsed": 245,
     "status": "ok",
     "timestamp": 1673544817154,
     "user": {
      "displayName": "Татьяна Моисеева",
      "userId": "09895625684527175296"
     },
     "user_tz": -180
    },
    "id": "Rdqi9i-hR1HT"
   },
   "outputs": [],
   "source": [
    "X_train = df_train[['full_description','location_normalized','category']]\n",
    "y_train = df_train['salary_normalized']\n",
    "X_valid = df_valid[['full_description','location_normalized','category']]\n",
    "y_valid = df_valid['salary_normalized']"
   ]
  },
  {
   "cell_type": "code",
   "execution_count": 37,
   "id": "BaCMKKnNCQVf",
   "metadata": {
    "executionInfo": {
     "elapsed": 251,
     "status": "ok",
     "timestamp": 1673544817838,
     "user": {
      "displayName": "Татьяна Моисеева",
      "userId": "09895625684527175296"
     },
     "user_tz": -180
    },
    "id": "BaCMKKnNCQVf"
   },
   "outputs": [],
   "source": [
    "X_train[['location_normalized','category']] = X_train[['location_normalized','category']].astype('category')\n",
    "X_valid[['location_normalized','category']] = X_valid[['location_normalized','category']].astype('category')"
   ]
  },
  {
   "cell_type": "code",
   "execution_count": 14,
   "id": "mD6xB-B1QxXC",
   "metadata": {
    "executionInfo": {
     "elapsed": 19,
     "status": "ok",
     "timestamp": 1673539575731,
     "user": {
      "displayName": "Татьяна Моисеева",
      "userId": "09895625684527175296"
     },
     "user_tz": -180
    },
    "id": "mD6xB-B1QxXC"
   },
   "outputs": [],
   "source": [
    "X_test = test[['full_description','location_normalized','category']]\n",
    "y_test = test['salary_normalized']"
   ]
  },
  {
   "cell_type": "code",
   "execution_count": 41,
   "id": "794bf0e0",
   "metadata": {
    "executionInfo": {
     "elapsed": 5,
     "status": "ok",
     "timestamp": 1673544847613,
     "user": {
      "displayName": "Татьяна Моисеева",
      "userId": "09895625684527175296"
     },
     "user_tz": -180
    },
    "id": "794bf0e0"
   },
   "outputs": [],
   "source": [
    "catboost_params = {\n",
    "    'iterations': 12000,\n",
    "    'eval_metric': 'RMSE',\n",
    "    'verbose': 1000,\n",
    "    'random_state': RAND,\n",
    "    'depth': 5, \n",
    "    'learning_rate': 0.12\n",
    "}\n",
    "#  'one_hot_max_size': 30"
   ]
  },
  {
   "cell_type": "code",
   "execution_count": 42,
   "id": "joZeTa_ZR1QN",
   "metadata": {
    "executionInfo": {
     "elapsed": 588,
     "status": "ok",
     "timestamp": 1673544850504,
     "user": {
      "displayName": "Татьяна Моисеева",
      "userId": "09895625684527175296"
     },
     "user_tz": -180
    },
    "id": "joZeTa_ZR1QN"
   },
   "outputs": [],
   "source": [
    "text_features = ['full_description']\n",
    "cat_features = list(X_train.columns)\n",
    "train_pool = Pool(\n",
    "    X_train, \n",
    "    y_train, \n",
    "    cat_features=cat_features, \n",
    "    text_features=text_features\n",
    ")\n",
    "val_pool = Pool(\n",
    "    X_valid, \n",
    "    y_valid, \n",
    "    cat_features=cat_features, \n",
    "    text_features=text_features\n",
    ")"
   ]
  },
  {
   "cell_type": "code",
   "execution_count": 43,
   "id": "tVpUZljZUCn5",
   "metadata": {
    "colab": {
     "base_uri": "https://localhost:8080/"
    },
    "executionInfo": {
     "elapsed": 5104415,
     "status": "ok",
     "timestamp": 1673549959792,
     "user": {
      "displayName": "Татьяна Моисеева",
      "userId": "09895625684527175296"
     },
     "user_tz": -180
    },
    "id": "tVpUZljZUCn5",
    "outputId": "c58456f1-b343-40d4-ae41-f28e25c5cdde"
   },
   "outputs": [
    {
     "name": "stdout",
     "output_type": "stream",
     "text": [
      "0:\tlearn: 17213.6830871\ttest: 16988.5418278\tbest: 16988.5418278 (0)\ttotal: 661ms\tremaining: 2h 12m 6s\n",
      "1000:\tlearn: 10320.2772946\ttest: 10715.4936895\tbest: 10715.4936895 (1000)\ttotal: 6m 58s\tremaining: 1h 16m 39s\n",
      "2000:\tlearn: 9418.1531415\ttest: 10269.7582303\tbest: 10269.7582303 (2000)\ttotal: 13m 30s\tremaining: 1h 7m 30s\n",
      "3000:\tlearn: 8789.8934867\ttest: 10005.8453351\tbest: 10005.8453351 (3000)\ttotal: 20m 12s\tremaining: 1h 35s\n",
      "4000:\tlearn: 8299.5586608\ttest: 9829.0440781\tbest: 9829.0440781 (4000)\ttotal: 26m 41s\tremaining: 53m 21s\n",
      "5000:\tlearn: 7883.6462771\ttest: 9682.0078195\tbest: 9682.0078195 (5000)\ttotal: 33m 50s\tremaining: 47m 21s\n",
      "6000:\tlearn: 7527.4219027\ttest: 9571.9861253\tbest: 9571.9861253 (6000)\ttotal: 41m 2s\tremaining: 41m 1s\n",
      "7000:\tlearn: 7214.2540584\ttest: 9478.4154943\tbest: 9478.4154943 (7000)\ttotal: 48m 17s\tremaining: 34m 29s\n",
      "8000:\tlearn: 6931.9574192\ttest: 9397.3923075\tbest: 9397.3923075 (8000)\ttotal: 55m 26s\tremaining: 27m 42s\n",
      "9000:\tlearn: 6674.9959013\ttest: 9324.9507940\tbest: 9324.9336272 (8994)\ttotal: 1h 2m 29s\tremaining: 20m 49s\n",
      "10000:\tlearn: 6442.5114240\ttest: 9266.7463981\tbest: 9266.7148573 (9997)\ttotal: 1h 9m 41s\tremaining: 13m 55s\n",
      "11000:\tlearn: 6226.1123435\ttest: 9213.5497067\tbest: 9213.5497067 (11000)\ttotal: 1h 16m 54s\tremaining: 6m 59s\n",
      "11999:\tlearn: 6025.2809947\ttest: 9166.8921327\tbest: 9166.8921327 (11999)\ttotal: 1h 24m 14s\tremaining: 0us\n",
      "\n",
      "bestTest = 9166.892133\n",
      "bestIteration = 11999\n",
      "\n"
     ]
    },
    {
     "data": {
      "text/plain": [
       "<catboost.core.CatBoostRegressor at 0x7f965a9242b0>"
      ]
     },
     "execution_count": 43,
     "metadata": {},
     "output_type": "execute_result"
    }
   ],
   "source": [
    "model = CatBoostRegressor(**catboost_params, task_type=\"GPU\")\n",
    "model.fit(train_pool, eval_set=val_pool, early_stopping_rounds=20, use_best_model=True)"
   ]
  },
  {
   "cell_type": "code",
   "execution_count": 62,
   "id": "B-PDbs1MUCq_",
   "metadata": {
    "colab": {
     "base_uri": "https://localhost:8080/"
    },
    "executionInfo": {
     "elapsed": 6622,
     "status": "ok",
     "timestamp": 1673552832938,
     "user": {
      "displayName": "Татьяна Моисеева",
      "userId": "09895625684527175296"
     },
     "user_tz": -180
    },
    "id": "B-PDbs1MUCq_",
    "outputId": "8c86ccac-8555-4af9-a457-8da62c336dfb"
   },
   "outputs": [
    {
     "data": {
      "text/plain": [
       "0.7252585305051216"
      ]
     },
     "execution_count": 62,
     "metadata": {},
     "output_type": "execute_result"
    }
   ],
   "source": [
    "model.score(val_pool)"
   ]
  },
  {
   "cell_type": "code",
   "execution_count": 61,
   "id": "0lJXGoXypnJK",
   "metadata": {
    "colab": {
     "base_uri": "https://localhost:8080/"
    },
    "executionInfo": {
     "elapsed": 247,
     "status": "ok",
     "timestamp": 1673552804009,
     "user": {
      "displayName": "Татьяна Моисеева",
      "userId": "09895625684527175296"
     },
     "user_tz": -180
    },
    "id": "0lJXGoXypnJK",
    "outputId": "c0099526-c266-4b46-ae13-217874e304c0"
   },
   "outputs": [
    {
     "data": {
      "text/plain": [
       "{'iterations': 12000,\n",
       " 'learning_rate': 0.12,\n",
       " 'depth': 5,\n",
       " 'loss_function': 'RMSE',\n",
       " 'verbose': 1000,\n",
       " 'eval_metric': 'RMSE',\n",
       " 'random_state': 1114}"
      ]
     },
     "execution_count": 61,
     "metadata": {},
     "output_type": "execute_result"
    }
   ],
   "source": [
    "model.get_params()"
   ]
  },
  {
   "cell_type": "code",
   "execution_count": 66,
   "id": "z9ubcQ8WR2bn",
   "metadata": {
    "executionInfo": {
     "elapsed": 968,
     "status": "ok",
     "timestamp": 1673558950290,
     "user": {
      "displayName": "Татьяна Моисеева",
      "userId": "09895625684527175296"
     },
     "user_tz": -180
    },
    "id": "z9ubcQ8WR2bn"
   },
   "outputs": [],
   "source": [
    "pred = model.predict(X_test)"
   ]
  },
  {
   "cell_type": "code",
   "execution_count": 68,
   "id": "tVUQ9NS4R2gA",
   "metadata": {
    "colab": {
     "base_uri": "https://localhost:8080/"
    },
    "executionInfo": {
     "elapsed": 240,
     "status": "ok",
     "timestamp": 1673558973265,
     "user": {
      "displayName": "Татьяна Моисеева",
      "userId": "09895625684527175296"
     },
     "user_tz": -180
    },
    "id": "tVUQ9NS4R2gA",
    "outputId": "888d2c71-59f4-4407-c345-9e4c8a20226a",
    "scrolled": true
   },
   "outputs": [
    {
     "name": "stdout",
     "output_type": "stream",
     "text": [
      "RMSE = 8569.768591965525\n",
      "R2 = 0.5426865417974165\n",
      "MAE = 5413.0825636713225\n"
     ]
    }
   ],
   "source": [
    "metrics_(pred, y_test)"
   ]
  },
  {
   "cell_type": "markdown",
   "id": "jFOJlmtkWDmj",
   "metadata": {
    "id": "jFOJlmtkWDmj"
   },
   "source": [
    "### Кусок подбора параметров.\n",
    "\n",
    "Сначала был он, основные параметры подобраны. Частично слетели выводы из-за того, что закончилось GPU Colab. Доделывалось уже на том, что выше. "
   ]
  },
  {
   "cell_type": "code",
   "execution_count": 57,
   "id": "c594e4ed",
   "metadata": {
    "colab": {
     "base_uri": "https://localhost:8080/"
    },
    "executionInfo": {
     "elapsed": 265,
     "status": "ok",
     "timestamp": 1673551393597,
     "user": {
      "displayName": "Татьяна Моисеева",
      "userId": "09895625684527175296"
     },
     "user_tz": -180
    },
    "id": "c594e4ed",
    "outputId": "cf7811dd-7248-497d-8f99-ab2b9509df29"
   },
   "outputs": [
    {
     "name": "stderr",
     "output_type": "stream",
     "text": [
      "/usr/local/lib/python3.8/dist-packages/pandas/core/frame.py:3641: SettingWithCopyWarning: \n",
      "A value is trying to be set on a copy of a slice from a DataFrame.\n",
      "Try using .loc[row_indexer,col_indexer] = value instead\n",
      "\n",
      "See the caveats in the documentation: https://pandas.pydata.org/pandas-docs/stable/user_guide/indexing.html#returning-a-view-versus-a-copy\n",
      "  self[k1] = value[k2]\n"
     ]
    }
   ],
   "source": [
    "Xf_train = df[['full_description','location_normalized','category']]\n",
    "yf_train = np.log(df['salary_normalized'])\n",
    "Xf_train[['location_normalized','category']] = Xf_train[['location_normalized','category']].astype('category')"
   ]
  },
  {
   "cell_type": "code",
   "execution_count": 58,
   "id": "5226458b",
   "metadata": {
    "executionInfo": {
     "elapsed": 393,
     "status": "ok",
     "timestamp": 1673551396073,
     "user": {
      "displayName": "Татьяна Моисеева",
      "userId": "09895625684527175296"
     },
     "user_tz": -180
    },
    "id": "5226458b"
   },
   "outputs": [],
   "source": [
    "trainf_pool = Pool(\n",
    "    Xf_train, \n",
    "    yf_train, \n",
    "    cat_features=cat_features, \n",
    "    text_features=text_features\n",
    ")\n",
    "\n"
   ]
  },
  {
   "cell_type": "code",
   "execution_count": null,
   "id": "95ff4d42",
   "metadata": {
    "colab": {
     "base_uri": "https://localhost:8080/"
    },
    "collapsed": true,
    "executionInfo": {
     "elapsed": 4241726,
     "status": "ok",
     "timestamp": 1673085808934,
     "user": {
      "displayName": "Татьяна Моисеева",
      "userId": "09895625684527175296"
     },
     "user_tz": -180
    },
    "id": "95ff4d42",
    "outputId": "381fcd3f-d51a-421e-c934-24f3a309ab0f"
   },
   "outputs": [
    {
     "name": "stdout",
     "output_type": "stream",
     "text": [
      "0:\tlearn: -3.5100205\ttest: -3.5051956\tbest: -3.5051956 (0)\ttotal: 73.5ms\tremaining: 2m 26s\n",
      "500:\tlearn: 0.2644826\ttest: 0.2733541\tbest: 0.2733541 (500)\ttotal: 24.7s\tremaining: 1m 13s\n",
      "1000:\tlearn: 0.2675325\ttest: 0.2743896\tbest: 0.2743929 (996)\ttotal: 51.1s\tremaining: 51s\n",
      "1500:\tlearn: 0.2690872\ttest: 0.2745481\tbest: 0.2745628 (1485)\ttotal: 1m 15s\tremaining: 25.1s\n",
      "1999:\tlearn: 0.2703216\ttest: 0.2744605\tbest: 0.2745628 (1485)\ttotal: 1m 42s\tremaining: 0us\n",
      "\n",
      "bestTest = 0.2745628119\n",
      "bestIteration = 1485\n",
      "\n",
      "0:\tloss: 0.2745628\tbest: 0.2745628 (0)\ttotal: 2m 16s\tremaining: 15m 58s\n",
      "0:\tlearn: -3.0029149\ttest: -2.9949758\tbest: -2.9949758 (0)\ttotal: 70.1ms\tremaining: 2m 20s\n",
      "500:\tlearn: 0.2693532\ttest: 0.2745683\tbest: 0.2746051 (427)\ttotal: 24.5s\tremaining: 1m 13s\n",
      "1000:\tlearn: 0.2725149\ttest: 0.2742176\tbest: 0.2746051 (427)\ttotal: 49.1s\tremaining: 49s\n",
      "1500:\tlearn: 0.2747217\ttest: 0.2740276\tbest: 0.2746051 (427)\ttotal: 1m 13s\tremaining: 24.5s\n",
      "1999:\tlearn: 0.2764189\ttest: 0.2737309\tbest: 0.2746051 (427)\ttotal: 1m 38s\tremaining: 0us\n",
      "\n",
      "bestTest = 0.2746051075\n",
      "bestIteration = 427\n",
      "\n",
      "1:\tloss: 0.2746051\tbest: 0.2746051 (1)\ttotal: 3m 55s\tremaining: 11m 45s\n",
      "0:\tlearn: -3.5100380\ttest: -3.5052079\tbest: -3.5052079 (0)\ttotal: 73.6ms\tremaining: 2m 27s\n",
      "500:\tlearn: 0.2641867\ttest: 0.2732575\tbest: 0.2732575 (500)\ttotal: 24.7s\tremaining: 1m 13s\n",
      "1000:\tlearn: 0.2671183\ttest: 0.2743532\tbest: 0.2743532 (1000)\ttotal: 50.9s\tremaining: 50.8s\n",
      "1500:\tlearn: 0.2685836\ttest: 0.2744849\tbest: 0.2744983 (1425)\ttotal: 1m 15s\tremaining: 25s\n",
      "1999:\tlearn: 0.2697383\ttest: 0.2744565\tbest: 0.2745053 (1642)\ttotal: 1m 39s\tremaining: 0us\n",
      "\n",
      "bestTest = 0.2745052857\n",
      "bestIteration = 1642\n",
      "\n",
      "2:\tloss: 0.2745053\tbest: 0.2746051 (1)\ttotal: 5m 34s\tremaining: 9m 17s\n",
      "0:\tlearn: -3.0029690\ttest: -2.9950137\tbest: -2.9950137 (0)\ttotal: 68.5ms\tremaining: 2m 17s\n",
      "500:\tlearn: 0.2689946\ttest: 0.2746494\tbest: 0.2746892 (331)\ttotal: 24.8s\tremaining: 1m 14s\n",
      "1000:\tlearn: 0.2720811\ttest: 0.2743417\tbest: 0.2746892 (331)\ttotal: 49.4s\tremaining: 49.3s\n",
      "1500:\tlearn: 0.2742367\ttest: 0.2739407\tbest: 0.2746892 (331)\ttotal: 1m 14s\tremaining: 24.7s\n",
      "1999:\tlearn: 0.2759746\ttest: 0.2735910\tbest: 0.2746892 (331)\ttotal: 1m 40s\tremaining: 0us\n",
      "\n",
      "bestTest = 0.2746892405\n",
      "bestIteration = 331\n",
      "\n",
      "3:\tloss: 0.2746892\tbest: 0.2746892 (3)\ttotal: 7m 15s\tremaining: 7m 15s\n",
      "0:\tlearn: -3.5100276\ttest: -3.5051993\tbest: -3.5051993 (0)\ttotal: 85.5ms\tremaining: 2m 50s\n",
      "500:\tlearn: 0.2712820\ttest: 0.2745055\tbest: 0.2745105 (496)\ttotal: 37.5s\tremaining: 1m 52s\n",
      "1000:\tlearn: 0.2768686\ttest: 0.2742186\tbest: 0.2745622 (623)\ttotal: 1m 17s\tremaining: 1m 17s\n",
      "1500:\tlearn: 0.2806901\ttest: 0.2736691\tbest: 0.2745622 (623)\ttotal: 1m 57s\tremaining: 39.1s\n",
      "1999:\tlearn: 0.2838546\ttest: 0.2730837\tbest: 0.2745622 (623)\ttotal: 2m 39s\tremaining: 0us\n",
      "\n",
      "bestTest = 0.2745622107\n",
      "bestIteration = 623\n",
      "\n",
      "4:\tloss: 0.2745622\tbest: 0.2746892 (3)\ttotal: 9m 54s\tremaining: 5m 56s\n",
      "0:\tlearn: -3.0029367\ttest: -2.9949871\tbest: -2.9949871 (0)\ttotal: 83.1ms\tremaining: 2m 46s\n",
      "500:\tlearn: 0.2816008\ttest: 0.2735664\tbest: 0.2746289 (167)\ttotal: 39.8s\tremaining: 1m 59s\n",
      "1000:\tlearn: 0.2895484\ttest: 0.2717758\tbest: 0.2746289 (167)\ttotal: 1m 20s\tremaining: 1m 19s\n",
      "1500:\tlearn: 0.2950519\ttest: 0.2703077\tbest: 0.2746289 (167)\ttotal: 2m 2s\tremaining: 40.7s\n",
      "1999:\tlearn: 0.2993822\ttest: 0.2689689\tbest: 0.2746289 (167)\ttotal: 2m 42s\tremaining: 0us\n",
      "\n",
      "bestTest = 0.2746289483\n",
      "bestIteration = 167\n",
      "\n",
      "5:\tloss: 0.2746289\tbest: 0.2746892 (3)\ttotal: 12m 37s\tremaining: 4m 12s\n",
      "0:\tlearn: -3.5100496\ttest: -3.5052116\tbest: -3.5052116 (0)\ttotal: 91.1ms\tremaining: 3m 2s\n",
      "500:\tlearn: 0.2707442\ttest: 0.2745586\tbest: 0.2745637 (495)\ttotal: 37.6s\tremaining: 1m 52s\n",
      "1000:\tlearn: 0.2760210\ttest: 0.2742535\tbest: 0.2746359 (596)\ttotal: 1m 17s\tremaining: 1m 17s\n",
      "1500:\tlearn: 0.2794990\ttest: 0.2736857\tbest: 0.2746359 (596)\ttotal: 2m\tremaining: 40s\n",
      "1999:\tlearn: 0.2822176\ttest: 0.2731925\tbest: 0.2746359 (596)\ttotal: 2m 40s\tremaining: 0us\n",
      "\n",
      "bestTest = 0.2746359155\n",
      "bestIteration = 596\n",
      "\n",
      "6:\tloss: 0.2746359\tbest: 0.2746892 (3)\ttotal: 15m 18s\tremaining: 2m 11s\n",
      "0:\tlearn: -3.0030049\ttest: -2.9950250\tbest: -2.9950250 (0)\ttotal: 83ms\tremaining: 2m 46s\n",
      "500:\tlearn: 0.2804990\ttest: 0.2734575\tbest: 0.2746467 (164)\ttotal: 39.7s\tremaining: 1m 58s\n",
      "1000:\tlearn: 0.2880829\ttest: 0.2717275\tbest: 0.2746467 (164)\ttotal: 1m 22s\tremaining: 1m 21s\n",
      "1500:\tlearn: 0.2931716\ttest: 0.2704148\tbest: 0.2746467 (164)\ttotal: 2m 2s\tremaining: 40.6s\n",
      "1999:\tlearn: 0.2971563\ttest: 0.2692138\tbest: 0.2746467 (164)\ttotal: 2m 42s\tremaining: 0us\n",
      "\n",
      "bestTest = 0.274646719\n",
      "bestIteration = 164\n",
      "\n",
      "7:\tloss: 0.2746467\tbest: 0.2746892 (3)\ttotal: 18m\tremaining: 0us\n",
      "Estimating final quality...\n",
      "Training on fold [0/2]\n",
      "0:\tlearn: -3.0079393\ttest: -2.9964332\tbest: -2.9964332 (0)\ttotal: 466ms\tremaining: 15m 30s\n",
      "500:\tlearn: 0.6195360\ttest: 0.5931959\tbest: 0.5931959 (500)\ttotal: 3m 47s\tremaining: 11m 19s\n",
      "1000:\tlearn: 0.6780128\ttest: 0.6268691\tbest: 0.6268691 (1000)\ttotal: 7m 26s\tremaining: 7m 25s\n",
      "1500:\tlearn: 0.7158368\ttest: 0.6444882\tbest: 0.6444882 (1500)\ttotal: 11m 6s\tremaining: 3m 41s\n",
      "1999:\tlearn: 0.7446705\ttest: 0.6565256\tbest: 0.6565256 (1999)\ttotal: 14m 46s\tremaining: 0us\n",
      "\n",
      "bestTest = 0.6565255504\n",
      "bestIteration = 1999\n",
      "\n",
      "Training on fold [1/2]\n",
      "0:\tlearn: -2.9936751\ttest: -3.0047785\tbest: -3.0047785 (0)\ttotal: 465ms\tremaining: 15m 29s\n",
      "500:\tlearn: 0.6230289\ttest: 0.5928509\tbest: 0.5928509 (500)\ttotal: 3m 46s\tremaining: 11m 18s\n",
      "1000:\tlearn: 0.6820001\ttest: 0.6258968\tbest: 0.6258968 (1000)\ttotal: 7m 30s\tremaining: 7m 29s\n",
      "1500:\tlearn: 0.7192840\ttest: 0.6424538\tbest: 0.6424538 (1500)\ttotal: 11m 10s\tremaining: 3m 42s\n",
      "1999:\tlearn: 0.7472592\ttest: 0.6545376\tbest: 0.6545376 (1999)\ttotal: 14m 50s\tremaining: 0us\n",
      "\n",
      "bestTest = 0.6545376097\n",
      "bestIteration = 1999\n",
      "\n"
     ]
    }
   ],
   "source": [
    "cat_model = CatBoostRegressor(**catboost_params)  #, task_type=\"GPU\"\n",
    "grid_search_result = cat_model.grid_search(grid, trainf_pool, cv=2)"
   ]
  },
  {
   "cell_type": "code",
   "execution_count": null,
   "id": "6ab3a668",
   "metadata": {
    "colab": {
     "base_uri": "https://localhost:8080/"
    },
    "executionInfo": {
     "elapsed": 357,
     "status": "ok",
     "timestamp": 1673086059169,
     "user": {
      "displayName": "Татьяна Моисеева",
      "userId": "09895625684527175296"
     },
     "user_tz": -180
    },
    "id": "6ab3a668",
    "outputId": "be45612d-cef3-4fef-b8cc-44640fea4002"
   },
   "outputs": [
    {
     "data": {
      "text/plain": [
       "{'depth': 6, 'learning_rate': 0.1, 'l2_leaf_reg': 5.0}"
      ]
     },
     "execution_count": 22,
     "metadata": {},
     "output_type": "execute_result"
    }
   ],
   "source": [
    "grid_search_result['params']"
   ]
  },
  {
   "cell_type": "code",
   "execution_count": null,
   "id": "248d5f01",
   "metadata": {
    "colab": {
     "base_uri": "https://localhost:8080/"
    },
    "executionInfo": {
     "elapsed": 123466,
     "status": "ok",
     "timestamp": 1673026418675,
     "user": {
      "displayName": "Татьяна Моисеева",
      "userId": "09895625684527175296"
     },
     "user_tz": -180
    },
    "id": "248d5f01",
    "outputId": "cb256a85-935f-4922-f505-c85f10accdb3"
   },
   "outputs": [
    {
     "name": "stdout",
     "output_type": "stream",
     "text": [
      "0:\tlearn: 17124.2531548\ttotal: 73.6ms\tremaining: 3m 40s\n",
      "500:\tlearn: 9596.5892555\ttotal: 16.9s\tremaining: 1m 24s\n",
      "1000:\tlearn: 8372.9043019\ttotal: 32.6s\tremaining: 1m 5s\n",
      "1500:\tlearn: 7515.4873340\ttotal: 48.3s\tremaining: 48.3s\n",
      "2000:\tlearn: 6830.7770319\ttotal: 1m 3s\tremaining: 31.9s\n",
      "2500:\tlearn: 6262.2652315\ttotal: 1m 19s\tremaining: 15.9s\n",
      "2999:\tlearn: 5785.5069494\ttotal: 1m 38s\tremaining: 0us\n"
     ]
    }
   ],
   "source": [
    "cat_model = CatBoostRegressor(**catboost_params, **grid_search_result['params'], task_type=\"GPU\")\n",
    "cat_model.fit(trainf_pool)"
   ]
  },
  {
   "cell_type": "code",
   "execution_count": null,
   "id": "100c3b22",
   "metadata": {
    "colab": {
     "base_uri": "https://localhost:8080/",
     "height": 143
    },
    "executionInfo": {
     "elapsed": 450,
     "status": "ok",
     "timestamp": 1673026427637,
     "user": {
      "displayName": "Татьяна Моисеева",
      "userId": "09895625684527175296"
     },
     "user_tz": -180
    },
    "id": "100c3b22",
    "outputId": "1d9fbbdc-31ae-4bf7-8316-284b5fc7b170"
   },
   "outputs": [
    {
     "data": {
      "text/html": [
       "\n",
       "  <div id=\"df-7dde8b9d-f95f-4453-93fc-5845206da353\">\n",
       "    <div class=\"colab-df-container\">\n",
       "      <div>\n",
       "<style scoped>\n",
       "    .dataframe tbody tr th:only-of-type {\n",
       "        vertical-align: middle;\n",
       "    }\n",
       "\n",
       "    .dataframe tbody tr th {\n",
       "        vertical-align: top;\n",
       "    }\n",
       "\n",
       "    .dataframe thead th {\n",
       "        text-align: right;\n",
       "    }\n",
       "</style>\n",
       "<table border=\"1\" class=\"dataframe\">\n",
       "  <thead>\n",
       "    <tr style=\"text-align: right;\">\n",
       "      <th></th>\n",
       "      <th>Feature Id</th>\n",
       "      <th>Importances</th>\n",
       "    </tr>\n",
       "  </thead>\n",
       "  <tbody>\n",
       "    <tr>\n",
       "      <th>0</th>\n",
       "      <td>full_description</td>\n",
       "      <td>85.459559</td>\n",
       "    </tr>\n",
       "    <tr>\n",
       "      <th>1</th>\n",
       "      <td>category</td>\n",
       "      <td>8.765777</td>\n",
       "    </tr>\n",
       "    <tr>\n",
       "      <th>2</th>\n",
       "      <td>location_normalized</td>\n",
       "      <td>5.774665</td>\n",
       "    </tr>\n",
       "  </tbody>\n",
       "</table>\n",
       "</div>\n",
       "      <button class=\"colab-df-convert\" onclick=\"convertToInteractive('df-7dde8b9d-f95f-4453-93fc-5845206da353')\"\n",
       "              title=\"Convert this dataframe to an interactive table.\"\n",
       "              style=\"display:none;\">\n",
       "        \n",
       "  <svg xmlns=\"http://www.w3.org/2000/svg\" height=\"24px\"viewBox=\"0 0 24 24\"\n",
       "       width=\"24px\">\n",
       "    <path d=\"M0 0h24v24H0V0z\" fill=\"none\"/>\n",
       "    <path d=\"M18.56 5.44l.94 2.06.94-2.06 2.06-.94-2.06-.94-.94-2.06-.94 2.06-2.06.94zm-11 1L8.5 8.5l.94-2.06 2.06-.94-2.06-.94L8.5 2.5l-.94 2.06-2.06.94zm10 10l.94 2.06.94-2.06 2.06-.94-2.06-.94-.94-2.06-.94 2.06-2.06.94z\"/><path d=\"M17.41 7.96l-1.37-1.37c-.4-.4-.92-.59-1.43-.59-.52 0-1.04.2-1.43.59L10.3 9.45l-7.72 7.72c-.78.78-.78 2.05 0 2.83L4 21.41c.39.39.9.59 1.41.59.51 0 1.02-.2 1.41-.59l7.78-7.78 2.81-2.81c.8-.78.8-2.07 0-2.86zM5.41 20L4 18.59l7.72-7.72 1.47 1.35L5.41 20z\"/>\n",
       "  </svg>\n",
       "      </button>\n",
       "      \n",
       "  <style>\n",
       "    .colab-df-container {\n",
       "      display:flex;\n",
       "      flex-wrap:wrap;\n",
       "      gap: 12px;\n",
       "    }\n",
       "\n",
       "    .colab-df-convert {\n",
       "      background-color: #E8F0FE;\n",
       "      border: none;\n",
       "      border-radius: 50%;\n",
       "      cursor: pointer;\n",
       "      display: none;\n",
       "      fill: #1967D2;\n",
       "      height: 32px;\n",
       "      padding: 0 0 0 0;\n",
       "      width: 32px;\n",
       "    }\n",
       "\n",
       "    .colab-df-convert:hover {\n",
       "      background-color: #E2EBFA;\n",
       "      box-shadow: 0px 1px 2px rgba(60, 64, 67, 0.3), 0px 1px 3px 1px rgba(60, 64, 67, 0.15);\n",
       "      fill: #174EA6;\n",
       "    }\n",
       "\n",
       "    [theme=dark] .colab-df-convert {\n",
       "      background-color: #3B4455;\n",
       "      fill: #D2E3FC;\n",
       "    }\n",
       "\n",
       "    [theme=dark] .colab-df-convert:hover {\n",
       "      background-color: #434B5C;\n",
       "      box-shadow: 0px 1px 3px 1px rgba(0, 0, 0, 0.15);\n",
       "      filter: drop-shadow(0px 1px 2px rgba(0, 0, 0, 0.3));\n",
       "      fill: #FFFFFF;\n",
       "    }\n",
       "  </style>\n",
       "\n",
       "      <script>\n",
       "        const buttonEl =\n",
       "          document.querySelector('#df-7dde8b9d-f95f-4453-93fc-5845206da353 button.colab-df-convert');\n",
       "        buttonEl.style.display =\n",
       "          google.colab.kernel.accessAllowed ? 'block' : 'none';\n",
       "\n",
       "        async function convertToInteractive(key) {\n",
       "          const element = document.querySelector('#df-7dde8b9d-f95f-4453-93fc-5845206da353');\n",
       "          const dataTable =\n",
       "            await google.colab.kernel.invokeFunction('convertToInteractive',\n",
       "                                                     [key], {});\n",
       "          if (!dataTable) return;\n",
       "\n",
       "          const docLinkHtml = 'Like what you see? Visit the ' +\n",
       "            '<a target=\"_blank\" href=https://colab.research.google.com/notebooks/data_table.ipynb>data table notebook</a>'\n",
       "            + ' to learn more about interactive tables.';\n",
       "          element.innerHTML = '';\n",
       "          dataTable['output_type'] = 'display_data';\n",
       "          await google.colab.output.renderOutput(dataTable, element);\n",
       "          const docLink = document.createElement('div');\n",
       "          docLink.innerHTML = docLinkHtml;\n",
       "          element.appendChild(docLink);\n",
       "        }\n",
       "      </script>\n",
       "    </div>\n",
       "  </div>\n",
       "  "
      ],
      "text/plain": [
       "            Feature Id  Importances\n",
       "0     full_description    85.459559\n",
       "1             category     8.765777\n",
       "2  location_normalized     5.774665"
      ]
     },
     "execution_count": 147,
     "metadata": {},
     "output_type": "execute_result"
    }
   ],
   "source": [
    "cat_model.get_feature_importance(prettified=True)"
   ]
  }
 ],
 "metadata": {
  "accelerator": "GPU",
  "colab": {
   "provenance": []
  },
  "gpuClass": "standard",
  "kernelspec": {
   "display_name": "Python 3 (ipykernel)",
   "language": "python",
   "name": "python3"
  },
  "language_info": {
   "codemirror_mode": {
    "name": "ipython",
    "version": 3
   },
   "file_extension": ".py",
   "mimetype": "text/x-python",
   "name": "python",
   "nbconvert_exporter": "python",
   "pygments_lexer": "ipython3",
   "version": "3.10.8"
  }
 },
 "nbformat": 4,
 "nbformat_minor": 5
}
