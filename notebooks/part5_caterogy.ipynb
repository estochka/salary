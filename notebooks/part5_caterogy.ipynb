{
 "cells": [
  {
   "cell_type": "markdown",
   "metadata": {},
   "source": [
    "Тут в сааамом конце подобие нейросетки с нормальным выводом метрик. <br>\n",
    "Остальное просто проверка забвной теории и результаты. Без подбора параметров на том, что есть."
   ]
  },
  {
   "cell_type": "code",
   "execution_count": null,
   "metadata": {
    "colab": {
     "base_uri": "https://localhost:8080/"
    },
    "executionInfo": {
     "elapsed": 16754,
     "status": "ok",
     "timestamp": 1673712001900,
     "user": {
      "displayName": "Татьяна Моисеева",
      "userId": "09895625684527175296"
     },
     "user_tz": -180
    },
    "id": "sM1bZMbhxDKB",
    "outputId": "34a7d4e4-c043-4ee7-ddbc-90c74d1ae462"
   },
   "outputs": [],
   "source": [
    "!pip install catboost"
   ]
  },
  {
   "cell_type": "code",
   "execution_count": 1,
   "metadata": {
    "executionInfo": {
     "elapsed": 3054,
     "status": "ok",
     "timestamp": 1673724892158,
     "user": {
      "displayName": "Татьяна Моисеева",
      "userId": "09895625684527175296"
     },
     "user_tz": -180
    },
    "id": "F5EFpMQuxrqn"
   },
   "outputs": [],
   "source": [
    "import pandas as pd\n",
    "import numpy as np\n",
    "\n",
    "from sklearn.metrics import r2_score, mean_squared_error, mean_absolute_error, f1_score\n",
    "from sklearn.pipeline import Pipeline\n",
    "from sklearn.impute import SimpleImputer\n",
    "from sklearn.preprocessing import OneHotEncoder, OrdinalEncoder, StandardScaler, LabelEncoder, MinMaxScaler\n",
    "from sklearn.decomposition import TruncatedSVD\n",
    "from sklearn.feature_extraction.text import TfidfVectorizer \n",
    "from sklearn.base import BaseEstimator, TransformerMixin\n",
    "from sklearn.compose import make_column_transformer\n",
    "from sklearn.model_selection import train_test_split, GridSearchCV\n",
    "from sklearn import metrics\n",
    "from sklearn.linear_model import LogisticRegression\n",
    "from sklearn.ensemble import RandomForestClassifier\n",
    "\n",
    "from catboost import Pool, CatBoostClassifier, CatBoostRegressor"
   ]
  },
  {
   "cell_type": "code",
   "execution_count": 2,
   "metadata": {
    "executionInfo": {
     "elapsed": 3061,
     "status": "ok",
     "timestamp": 1673724899064,
     "user": {
      "displayName": "Татьяна Моисеева",
      "userId": "09895625684527175296"
     },
     "user_tz": -180
    },
    "id": "NUbrRV5BnWGE"
   },
   "outputs": [],
   "source": [
    "import torch\n",
    "from torch import nn\n",
    "from torch.utils.data import DataLoader, TensorDataset\n",
    "\n",
    "from tqdm import tqdm, notebook"
   ]
  },
  {
   "cell_type": "code",
   "execution_count": 3,
   "metadata": {
    "colab": {
     "base_uri": "https://localhost:8080/"
    },
    "executionInfo": {
     "elapsed": 1757,
     "status": "ok",
     "timestamp": 1673724901772,
     "user": {
      "displayName": "Татьяна Моисеева",
      "userId": "09895625684527175296"
     },
     "user_tz": -180
    },
    "id": "v7yrH3PExx2u",
    "outputId": "d4135a3c-1a75-4518-d797-f4bb2dd0d09f"
   },
   "outputs": [
    {
     "name": "stdout",
     "output_type": "stream",
     "text": [
      "Drive already mounted at /content/drive/; to attempt to forcibly remount, call drive.mount(\"/content/drive/\", force_remount=True).\n",
      "/content/drive/My Drive\n"
     ]
    }
   ],
   "source": [
    "RAND = sum(ord(x) for x in 'NEVER SURRENDER')\n",
    "\n",
    "\n",
    "from google.colab import drive\n",
    "drive.mount('/content/drive/')\n",
    "%cd /content/drive/My Drive/"
   ]
  },
  {
   "cell_type": "code",
   "execution_count": 4,
   "metadata": {
    "executionInfo": {
     "elapsed": 17,
     "status": "ok",
     "timestamp": 1673724901774,
     "user": {
      "displayName": "Татьяна Моисеева",
      "userId": "09895625684527175296"
     },
     "user_tz": -180
    },
    "id": "UpbjCbxJ0sPl"
   },
   "outputs": [],
   "source": [
    "from google.colab import output\n",
    "output.enable_custom_widget_manager()"
   ]
  },
  {
   "cell_type": "markdown",
   "metadata": {
    "id": "G-QRT_P6yg5v"
   },
   "source": [
    "_________________________________\n",
    "Фукнции\n"
   ]
  },
  {
   "cell_type": "code",
   "execution_count": 5,
   "metadata": {
    "executionInfo": {
     "elapsed": 15,
     "status": "ok",
     "timestamp": 1673724901775,
     "user": {
      "displayName": "Татьяна Моисеева",
      "userId": "09895625684527175296"
     },
     "user_tz": -180
    },
    "id": "CN8yeAHiyjjI"
   },
   "outputs": [],
   "source": [
    "def metrics_(real, pred):\n",
    "    print(f'RMSE = {mean_squared_error(real, pred)**.5}')\n",
    "    print(f'R2 = {r2_score(real, pred)}')\n",
    "    print(f'MAE = {mean_absolute_error(real, pred)}')"
   ]
  },
  {
   "cell_type": "code",
   "execution_count": 6,
   "metadata": {
    "executionInfo": {
     "elapsed": 7,
     "status": "ok",
     "timestamp": 1673724902771,
     "user": {
      "displayName": "Татьяна Моисеева",
      "userId": "09895625684527175296"
     },
     "user_tz": -180
    },
    "id": "nATAHG3cywwm"
   },
   "outputs": [],
   "source": [
    "class LocationCategory(BaseEstimator, TransformerMixin):\n",
    "\n",
    "    def __init__(self, name_of_column, number_of_category):\n",
    "        self.location_dict = None\n",
    "        self.name_of_column = name_of_column\n",
    "        self.number_of_category = number_of_category\n",
    "\n",
    "    def fit(self, features, y=None):\n",
    "        self.location_dict = self.create_dict(features[self.name_of_column])\n",
    "        return self\n",
    "\n",
    "    def transform(self, features):\n",
    "        feature = features.copy()\n",
    "        feature[self.name_of_column] = feature[self.name_of_column].apply(lambda x: self.location_dict.get(x, -1))\n",
    "        return feature\n",
    "\n",
    "    def create_dict(self, feature):\n",
    "\n",
    "        # create groups by value counts\n",
    "        groups = feature.value_counts()\n",
    "        # split by ~equals sum per group\n",
    "        group_sum = round(groups.sum() / self.number_of_category)\n",
    "\n",
    "        current_sum = 0\n",
    "        group_num = 0\n",
    "        group_dict = {}\n",
    "\n",
    "        for index, itm in zip(groups.index, groups.to_numpy()):\n",
    "            if (current_sum + itm) > group_sum:\n",
    "                if abs(current_sum + itm - group_sum) < abs(current_sum - group_sum):\n",
    "                    # include current itm in group\n",
    "                    current_sum = 0\n",
    "                    rem_sum = groups.loc[index:].sum() - itm\n",
    "                    group_dict[index] = group_num\n",
    "                    group_num += 1\n",
    "                    if group_num == (self.number_of_category - 1):\n",
    "                        break\n",
    "                else:\n",
    "                    # exclude current itm\n",
    "                    group_num += 1\n",
    "                    rem_sum = groups.loc[index:].sum()\n",
    "                    if group_num == (self.number_of_category - 1):\n",
    "                        break\n",
    "                    current_sum = itm\n",
    "                    group_dict[index] = group_num\n",
    "\n",
    "                # refresh group sum\n",
    "                group_sum = round(rem_sum / (self.number_of_category - group_num))\n",
    "\n",
    "            else:\n",
    "                current_sum += itm\n",
    "                group_dict[index] = group_num\n",
    "        return group_dict\n",
    "\n",
    "\n",
    "# pd.Series\n",
    "class TextClear(BaseEstimator, TransformerMixin):\n",
    "\n",
    "    def fit(self, feature, y=None):\n",
    "        return self\n",
    "\n",
    "    def transform(self, feature, y=None):\n",
    "        feature = feature.str.replace(r'((https?:\\/\\/)|w{3}).*?( |$)', ' ', regex=True)\n",
    "        feature = feature.str.replace(r'[^A-Za-z\\']', ' ', regex=True).str.lower().str.strip()\n",
    "        feature = feature.str.replace(r'\\W{2,}', ' ', regex=True)\n",
    "        return feature\n",
    "\n",
    "\n",
    "# pd.Series\n",
    "class TextLemma(BaseEstimator, TransformerMixin):\n",
    "    # spacy\n",
    "    def __init__(self, nlp):\n",
    "        self.nlp = nlp\n",
    "\n",
    "    def fit(self, feature, y=None):\n",
    "        return self\n",
    "\n",
    "    def transform(self, feature, y=None):\n",
    "        return feature.apply(lambda row: ' '.join([w.lemma_ for w in self.nlp(row) if not w.is_stop]))\n",
    "\n",
    "\n",
    "class WordsNumber(BaseEstimator, TransformerMixin):\n",
    "\n",
    "    def __init__(self, name_of_column):\n",
    "        self.name_of_column = name_of_column\n",
    "        \n",
    "    def fit(self, features, y=None):\n",
    "        return self\n",
    "\n",
    "    def transform(self, features, y=None):\n",
    "        data = features.copy()\n",
    "        data['word_num'] = data[self.name_of_column].str.count(' ')\n",
    "        return data\n"
   ]
  },
  {
   "cell_type": "markdown",
   "metadata": {
    "id": "ipRtbyabyOiV"
   },
   "source": [
    "## Решение через классификацию\n",
    "\n",
    "\n",
    "Для чистоты эксперименты обработка признаков не меняется, работа только с целевым.\n",
    "\n",
    "Проблемы того, что ошибка в классификации может \"штрафовать\" больше, чем аналогичная в регрессии ясна. Но все равно попробовать можно"
   ]
  },
  {
   "cell_type": "code",
   "execution_count": 7,
   "metadata": {
    "executionInfo": {
     "elapsed": 13876,
     "status": "ok",
     "timestamp": 1673724924093,
     "user": {
      "displayName": "Татьяна Моисеева",
      "userId": "09895625684527175296"
     },
     "user_tz": -180
    },
    "id": "xlnr_0yIydYh"
   },
   "outputs": [],
   "source": [
    "df = pd.read_csv('tocolab.csv', index_col=[0]).reset_index(drop='True')\n",
    "df.columns = df.columns.str.replace('(.)([A-Z])', r'\\1_\\2', regex=True).str.lower()"
   ]
  },
  {
   "cell_type": "markdown",
   "metadata": {
    "id": "FwSXFL3P0KX9"
   },
   "source": [
    "**Формирование категорий**\n",
    "\n",
    "\n",
    "\n"
   ]
  },
  {
   "cell_type": "code",
   "execution_count": 8,
   "metadata": {
    "executionInfo": {
     "elapsed": 5,
     "status": "ok",
     "timestamp": 1673724924752,
     "user": {
      "displayName": "Татьяна Моисеева",
      "userId": "09895625684527175296"
     },
     "user_tz": -180
    },
    "id": "NXtdOv5r0Jat"
   },
   "outputs": [],
   "source": [
    "df['salary_log'] = np.log1p(df['salary_normalized']) # "
   ]
  },
  {
   "cell_type": "code",
   "execution_count": null,
   "metadata": {
    "id": "YNArC2CcQJus"
   },
   "outputs": [],
   "source": [
    "#df.loc[df['salary_log'] > 120_000, 'salary_log']  = 120_000\n",
    "# останки от варианта без логарифма"
   ]
  },
  {
   "cell_type": "code",
   "execution_count": 9,
   "metadata": {
    "colab": {
     "base_uri": "https://localhost:8080/",
     "height": 265
    },
    "executionInfo": {
     "elapsed": 482,
     "status": "ok",
     "timestamp": 1673724925231,
     "user": {
      "displayName": "Татьяна Моисеева",
      "userId": "09895625684527175296"
     },
     "user_tz": -180
    },
    "id": "3uJ4hcO30fLv",
    "outputId": "e7481e5a-edd9-4cf4-9531-6482ef0db0eb"
   },
   "outputs": [
    {
     "data": {
      "image/png": "[encoded data removed]",
      "text/plain": [
       "<Figure size 432x288 with 1 Axes>"
      ]
     },
     "metadata": {
      "needs_background": "light"
     },
     "output_type": "display_data"
    }
   ],
   "source": [
    "df['salary_log'].hist();"
   ]
  },
  {
   "cell_type": "code",
   "execution_count": 10,
   "metadata": {
    "executionInfo": {
     "elapsed": 6,
     "status": "ok",
     "timestamp": 1673724925231,
     "user": {
      "displayName": "Татьяна Моисеева",
      "userId": "09895625684527175296"
     },
     "user_tz": -180
    },
    "id": "QvienEkR02Ha"
   },
   "outputs": [],
   "source": [
    "df['q_val'] = pd.qcut(df['salary_log'], 20)\n",
    "df['q_val'] = df['q_val'].apply(lambda x: x.mid)"
   ]
  },
  {
   "cell_type": "code",
   "execution_count": 11,
   "metadata": {
    "colab": {
     "base_uri": "https://localhost:8080/",
     "height": 265
    },
    "executionInfo": {
     "elapsed": 591,
     "status": "ok",
     "timestamp": 1673724925817,
     "user": {
      "displayName": "Татьяна Моисеева",
      "userId": "09895625684527175296"
     },
     "user_tz": -180
    },
    "id": "2yhVqAyf5JIv",
    "outputId": "15fb3cc3-54a1-40d3-bb2d-1244b179b240"
   },
   "outputs": [
    {
     "data": {
      "image/png": "[encoded data removed]",
      "text/plain": [
       "<Figure size 432x288 with 1 Axes>"
      ]
     },
     "metadata": {
      "needs_background": "light"
     },
     "output_type": "display_data"
    }
   ],
   "source": [
    "df['q_val'].hist(bins=20);"
   ]
  },
  {
   "cell_type": "code",
   "execution_count": 12,
   "metadata": {
    "executionInfo": {
     "elapsed": 23,
     "status": "ok",
     "timestamp": 1673724925818,
     "user": {
      "displayName": "Татьяна Моисеева",
      "userId": "09895625684527175296"
     },
     "user_tz": -180
    },
    "id": "YNTIWDpZ5BNp"
   },
   "outputs": [],
   "source": [
    "df['val'] = pd.cut(df['salary_log'], 20)\n",
    "df['val'] = df['val'].apply(lambda x: x.mid)"
   ]
  },
  {
   "cell_type": "code",
   "execution_count": 13,
   "metadata": {
    "colab": {
     "base_uri": "https://localhost:8080/",
     "height": 265
    },
    "executionInfo": {
     "elapsed": 22,
     "status": "ok",
     "timestamp": 1673724925818,
     "user": {
      "displayName": "Татьяна Моисеева",
      "userId": "09895625684527175296"
     },
     "user_tz": -180
    },
    "id": "e20SNI-_6e09",
    "outputId": "f74e55d9-5fe2-4fba-ef7e-1a93accdb883"
   },
   "outputs": [
    {
     "data": {
      "image/png": "[encoded data removed]",
      "text/plain": [
       "<Figure size 432x288 with 1 Axes>"
      ]
     },
     "metadata": {
      "needs_background": "light"
     },
     "output_type": "display_data"
    }
   ],
   "source": [
    "df['val'].hist(bins=20);"
   ]
  },
  {
   "cell_type": "markdown",
   "metadata": {
    "id": "dxRJ95QLRW9k"
   },
   "source": [
    "Посмотрим метрики, как новый признак будет предсказывать целевой.\n",
    "(было несколько вариантов разбиения, 5-10-20)"
   ]
  },
  {
   "cell_type": "code",
   "execution_count": 14,
   "metadata": {
    "colab": {
     "base_uri": "https://localhost:8080/"
    },
    "executionInfo": {
     "elapsed": 21,
     "status": "ok",
     "timestamp": 1673724925819,
     "user": {
      "displayName": "Татьяна Моисеева",
      "userId": "09895625684527175296"
     },
     "user_tz": -180
    },
    "id": "huEjwTR9gtLu",
    "outputId": "3abc0c20-2eb1-4dfe-fca2-2fddee4c91db"
   },
   "outputs": [
    {
     "name": "stdout",
     "output_type": "stream",
     "text": [
      "RMSE = 2060.6993251588\n",
      "R2 = 0.9866695934132989\n",
      "MAE = 1555.9225649898005\n"
     ]
    }
   ],
   "source": [
    "metrics_(np.expm1(df['val'].astype('float')),  df['salary_normalized'])"
   ]
  },
  {
   "cell_type": "code",
   "execution_count": 15,
   "metadata": {
    "colab": {
     "base_uri": "https://localhost:8080/"
    },
    "executionInfo": {
     "elapsed": 15,
     "status": "ok",
     "timestamp": 1673724925819,
     "user": {
      "displayName": "Татьяна Моисеева",
      "userId": "09895625684527175296"
     },
     "user_tz": -180
    },
    "id": "DsLDuRXnhxSp",
    "outputId": "9d058497-7f80-446b-8e11-315c08f9bb19"
   },
   "outputs": [
    {
     "name": "stdout",
     "output_type": "stream",
     "text": [
      "RMSE = 0.12219244669235631\n",
      "R2 = 0.9526466727958853\n",
      "MAE = 0.05777777724905601\n"
     ]
    }
   ],
   "source": [
    "metrics_(df['q_val'],  df['salary_log'])"
   ]
  },
  {
   "cell_type": "markdown",
   "metadata": {
    "id": "2S_tFim20E5i"
   },
   "source": [
    "### CatBoost\n"
   ]
  },
  {
   "cell_type": "code",
   "execution_count": 20,
   "metadata": {
    "executionInfo": {
     "elapsed": 62520,
     "status": "ok",
     "timestamp": 1673725026075,
     "user": {
      "displayName": "Татьяна Моисеева",
      "userId": "09895625684527175296"
     },
     "user_tz": -180
    },
    "id": "1RLAY42qzTsd"
   },
   "outputs": [],
   "source": [
    "df['full_description'] = TextClear().transform(df['full_description'])"
   ]
  },
  {
   "cell_type": "code",
   "execution_count": 21,
   "metadata": {
    "executionInfo": {
     "elapsed": 14,
     "status": "ok",
     "timestamp": 1673725026802,
     "user": {
      "displayName": "Татьяна Моисеева",
      "userId": "09895625684527175296"
     },
     "user_tz": -180
    },
    "id": "MGP6f1LYz4FA"
   },
   "outputs": [],
   "source": [
    "test = df.tail(2000).reset_index(drop=True)\n",
    "df = df[:-2000].reset_index(drop=True)"
   ]
  },
  {
   "cell_type": "code",
   "execution_count": 22,
   "metadata": {
    "colab": {
     "base_uri": "https://localhost:8080/"
    },
    "executionInfo": {
     "elapsed": 466,
     "status": "ok",
     "timestamp": 1673725027258,
     "user": {
      "displayName": "Татьяна Моисеева",
      "userId": "09895625684527175296"
     },
     "user_tz": -180
    },
    "id": "H7jemVdOdllJ",
    "outputId": "772076a8-07b0-431e-d5ee-c9f131d83909"
   },
   "outputs": [
    {
     "name": "stdout",
     "output_type": "stream",
     "text": [
      "(194214, 7) (48554, 7)\n"
     ]
    }
   ],
   "source": [
    "df_train, df_valid = train_test_split(df, test_size=0.2, random_state=RAND, stratify=df['val'])\n",
    "print(df_train.shape,df_valid.shape)"
   ]
  },
  {
   "cell_type": "code",
   "execution_count": 411,
   "metadata": {
    "colab": {
     "base_uri": "https://localhost:8080/"
    },
    "executionInfo": {
     "elapsed": 758,
     "status": "ok",
     "timestamp": 1673710943080,
     "user": {
      "displayName": "Татьяна Моисеева",
      "userId": "09895625684527175296"
     },
     "user_tz": -180
    },
    "id": "ZTjzTOGY9PRG",
    "outputId": "a2570703-9160-4ff6-accb-c1ee89cf6e73"
   },
   "outputs": [
    {
     "name": "stderr",
     "output_type": "stream",
     "text": [
      "/usr/local/lib/python3.8/dist-packages/pandas/core/frame.py:3641: SettingWithCopyWarning: \n",
      "A value is trying to be set on a copy of a slice from a DataFrame.\n",
      "Try using .loc[row_indexer,col_indexer] = value instead\n",
      "\n",
      "See the caveats in the documentation: https://pandas.pydata.org/pandas-docs/stable/user_guide/indexing.html#returning-a-view-versus-a-copy\n",
      "  self[k1] = value[k2]\n"
     ]
    }
   ],
   "source": [
    "X_train = df_train[['full_description','location_normalized','category']]\n",
    "X_valid = df_valid[['full_description','location_normalized','category']]\n",
    "X_train[['location_normalized','category']] = X_train[['location_normalized','category']].astype('category')\n",
    "X_valid[['location_normalized','category']] = X_valid[['location_normalized','category']].astype('category')"
   ]
  },
  {
   "cell_type": "code",
   "execution_count": 412,
   "metadata": {
    "executionInfo": {
     "elapsed": 26,
     "status": "ok",
     "timestamp": 1673710943082,
     "user": {
      "displayName": "Татьяна Моисеева",
      "userId": "09895625684527175296"
     },
     "user_tz": -180
    },
    "id": "ITmgS2-FOEsf"
   },
   "outputs": [],
   "source": [
    "cat_le = LabelEncoder()"
   ]
  },
  {
   "cell_type": "code",
   "execution_count": 413,
   "metadata": {
    "executionInfo": {
     "elapsed": 25,
     "status": "ok",
     "timestamp": 1673710943084,
     "user": {
      "displayName": "Татьяна Моисеева",
      "userId": "09895625684527175296"
     },
     "user_tz": -180
    },
    "id": "h2DlwOxH-uCG"
   },
   "outputs": [],
   "source": [
    "y_train = cat_le.fit_transform(df_train['val'])\n",
    "y_valid = cat_le.transform(df_valid['val'])"
   ]
  },
  {
   "cell_type": "code",
   "execution_count": 414,
   "metadata": {
    "executionInfo": {
     "elapsed": 24,
     "status": "ok",
     "timestamp": 1673710943085,
     "user": {
      "displayName": "Татьяна Моисеева",
      "userId": "09895625684527175296"
     },
     "user_tz": -180
    },
    "id": "v3MWiik19Ebi"
   },
   "outputs": [],
   "source": [
    "X_test = test[['full_description','location_normalized','category']]"
   ]
  },
  {
   "cell_type": "code",
   "execution_count": 415,
   "metadata": {
    "executionInfo": {
     "elapsed": 552,
     "status": "ok",
     "timestamp": 1673710943616,
     "user": {
      "displayName": "Татьяна Моисеева",
      "userId": "09895625684527175296"
     },
     "user_tz": -180
    },
    "id": "3rqvvG2T_PM_"
   },
   "outputs": [],
   "source": [
    "text_features = ['full_description']\n",
    "cat_features = list(X_train.columns)\n",
    "train_pool = Pool(\n",
    "    X_train, \n",
    "    y_train, \n",
    "    cat_features=cat_features, \n",
    "    text_features=text_features\n",
    ")\n",
    "val_pool = Pool(\n",
    "    X_valid, \n",
    "    y_valid, \n",
    "    cat_features=cat_features, \n",
    "    text_features=text_features\n",
    ")"
   ]
  },
  {
   "cell_type": "code",
   "execution_count": 146,
   "metadata": {
    "executionInfo": {
     "elapsed": 13,
     "status": "ok",
     "timestamp": 1673693290700,
     "user": {
      "displayName": "Татьяна Моисеева",
      "userId": "09895625684527175296"
     },
     "user_tz": -180
    },
    "id": "MQIzAWZv9Tg_"
   },
   "outputs": [],
   "source": [
    "catboost_params = {\n",
    "    'iterations': 20_000,\n",
    "    'loss_function': 'MultiClass',\n",
    "    'verbose': 1000,\n",
    "    'random_state': RAND,\n",
    "    'depth': 6, \n",
    "    'learning_rate': 0.1,\n",
    "    'auto_class_weights': 'Balanced',\n",
    "    'eval_metric': 'TotalF1',\n",
    "    'bootstrap_type':'Bernoulli',\n",
    "    'leaf_estimation_method': 'Gradient'\n",
    "}\n",
    "                     \n",
    "#  'one_hot_max_size': 30\n",
    "#     "
   ]
  },
  {
   "cell_type": "code",
   "execution_count": 147,
   "metadata": {
    "colab": {
     "base_uri": "https://localhost:8080/"
    },
    "executionInfo": {
     "elapsed": 1774908,
     "status": "ok",
     "timestamp": 1673695068249,
     "user": {
      "displayName": "Татьяна Моисеева",
      "userId": "09895625684527175296"
     },
     "user_tz": -180
    },
    "id": "fR6q-qRn9Tnm",
    "outputId": "7997b171-804b-43c6-8ead-5ec697e6fe03"
   },
   "outputs": [
    {
     "name": "stdout",
     "output_type": "stream",
     "text": [
      "0:\tlearn: 0.1424917\ttest: 0.1373536\tbest: 0.1373536 (0)\ttotal: 127ms\tremaining: 42m 22s\n",
      "1000:\tlearn: 0.6499512\ttest: 0.3768445\tbest: 0.3768445 (1000)\ttotal: 1m 16s\tremaining: 24m 13s\n",
      "2000:\tlearn: 0.7241784\ttest: 0.4023447\tbest: 0.4024142 (1993)\ttotal: 2m 45s\tremaining: 24m 47s\n",
      "3000:\tlearn: 0.7744183\ttest: 0.4161282\tbest: 0.4163942 (2986)\ttotal: 4m 23s\tremaining: 24m 50s\n",
      "4000:\tlearn: 0.8108306\ttest: 0.4280895\tbest: 0.4281021 (3991)\ttotal: 5m 52s\tremaining: 23m 30s\n",
      "5000:\tlearn: 0.8389325\ttest: 0.4330997\tbest: 0.4331583 (4997)\ttotal: 7m 13s\tremaining: 21m 40s\n",
      "6000:\tlearn: 0.8612016\ttest: 0.4364181\tbest: 0.4376643 (5899)\ttotal: 8m 32s\tremaining: 19m 56s\n",
      "7000:\tlearn: 0.8798190\ttest: 0.4412776\tbest: 0.4413321 (6888)\ttotal: 10m\tremaining: 18m 35s\n",
      "8000:\tlearn: 0.8949362\ttest: 0.4422289\tbest: 0.4442770 (7754)\ttotal: 11m 34s\tremaining: 17m 21s\n",
      "9000:\tlearn: 0.9078969\ttest: 0.4453572\tbest: 0.4456388 (8928)\ttotal: 12m 51s\tremaining: 15m 42s\n",
      "10000:\tlearn: 0.9184946\ttest: 0.4478890\tbest: 0.4478890 (10000)\ttotal: 14m 10s\tremaining: 14m 10s\n",
      "11000:\tlearn: 0.9278974\ttest: 0.4501562\tbest: 0.4501562 (11000)\ttotal: 15m 27s\tremaining: 12m 38s\n",
      "12000:\tlearn: 0.9362702\ttest: 0.4515268\tbest: 0.4521280 (11960)\ttotal: 17m 1s\tremaining: 11m 20s\n",
      "13000:\tlearn: 0.9432864\ttest: 0.4524102\tbest: 0.4529162 (12847)\ttotal: 18m 30s\tremaining: 9m 58s\n",
      "14000:\tlearn: 0.9495080\ttest: 0.4539786\tbest: 0.4541369 (13860)\ttotal: 19m 50s\tremaining: 8m 30s\n",
      "15000:\tlearn: 0.9547489\ttest: 0.4563793\tbest: 0.4564200 (14806)\ttotal: 21m 7s\tremaining: 7m 2s\n",
      "16000:\tlearn: 0.9593136\ttest: 0.4568418\tbest: 0.4574389 (15704)\ttotal: 22m 25s\tremaining: 5m 36s\n",
      "17000:\tlearn: 0.9633572\ttest: 0.4586677\tbest: 0.4592154 (16927)\ttotal: 23m 41s\tremaining: 4m 10s\n",
      "18000:\tlearn: 0.9668904\ttest: 0.4578723\tbest: 0.4592901 (17168)\ttotal: 24m 58s\tremaining: 2m 46s\n",
      "19000:\tlearn: 0.9700045\ttest: 0.4584408\tbest: 0.4592901 (17168)\ttotal: 26m 14s\tremaining: 1m 22s\n",
      "19999:\tlearn: 0.9727775\ttest: 0.4581693\tbest: 0.4592901 (17168)\ttotal: 27m 38s\tremaining: 0us\n",
      "bestTest = 0.4592901265\n",
      "bestIteration = 17168\n",
      "Shrink model to first 17169 iterations.\n"
     ]
    },
    {
     "data": {
      "text/plain": [
       "<catboost.core.CatBoostClassifier at 0x7fb5967122b0>"
      ]
     },
     "execution_count": 147,
     "metadata": {},
     "output_type": "execute_result"
    }
   ],
   "source": [
    "cat_class_model = CatBoostClassifier(**catboost_params , task_type='GPU')\n",
    "cat_class_model.fit(train_pool, eval_set=val_pool, use_best_model=True)"
   ]
  },
  {
   "cell_type": "code",
   "execution_count": 150,
   "metadata": {
    "executionInfo": {
     "elapsed": 1452,
     "status": "ok",
     "timestamp": 1673695078347,
     "user": {
      "displayName": "Татьяна Моисеева",
      "userId": "09895625684527175296"
     },
     "user_tz": -180
    },
    "id": "ZzziiCaJ9TqR"
   },
   "outputs": [],
   "source": [
    "pred = cat_le.inverse_transform(cat_class_model.predict(X_test).ravel())"
   ]
  },
  {
   "cell_type": "markdown",
   "metadata": {
    "id": "o7mDsNr_7m3U"
   },
   "source": [
    "Разбиение на 20 и логарифм. MAE прям неплох."
   ]
  },
  {
   "cell_type": "code",
   "execution_count": 151,
   "metadata": {
    "colab": {
     "base_uri": "https://localhost:8080/"
    },
    "executionInfo": {
     "elapsed": 8,
     "status": "ok",
     "timestamp": 1673695079702,
     "user": {
      "displayName": "Татьяна Моисеева",
      "userId": "09895625684527175296"
     },
     "user_tz": -180
    },
    "id": "_WSiB5YrI-KB",
    "outputId": "41ed0147-66cc-40aa-99e5-f76c3d832678"
   },
   "outputs": [
    {
     "name": "stdout",
     "output_type": "stream",
     "text": [
      "RMSE = 9992.78369188969\n",
      "R2 = 0.546725655311064\n",
      "MAE = 5647.861575830578\n"
     ]
    }
   ],
   "source": [
    "metrics_(test['salary_normalized'], np.expm1(pred))"
   ]
  },
  {
   "cell_type": "markdown",
   "metadata": {
    "id": "VfAVwgR85Inn"
   },
   "source": [
    "без логарифма <br>\n",
    "на 10\n",
    "- RMSE = 11675.832669107587\n",
    "- R2 = 0.6593639975636454\n",
    "- MAE = 7819.042<br>\n",
    "\n",
    "на 20\n",
    "- RMSE = 11634.556632393647\n",
    "- R2 = 0.5385808057042745\n",
    "- MAE = 7152.07925\n",
    "\n"
   ]
  },
  {
   "cell_type": "markdown",
   "metadata": {
    "id": "rIijmnvl9d-S"
   },
   "source": [
    "В общем и целом неплохо и забавно. Возможно, если тщательно подобрать разбиение и гиперпараметры, то RMSE будет лучше, чем у регрессии."
   ]
  },
  {
   "cell_type": "markdown",
   "metadata": {
    "id": "jaT2eWrGWFE1"
   },
   "source": [
    "___________________"
   ]
  },
  {
   "cell_type": "code",
   "execution_count": null,
   "metadata": {
    "id": "m9kcmWE8WEYT"
   },
   "outputs": [],
   "source": [
    "qcat_le = LabelEncoder()\n",
    "qy_train = qcat_le.fit_transform(df_train['q_val'])\n",
    "qy_valid = qcat_le.transform(df_valid['q_val'])"
   ]
  },
  {
   "cell_type": "code",
   "execution_count": null,
   "metadata": {
    "id": "g4PUllhtWMiv"
   },
   "outputs": [],
   "source": [
    "qtrain_pool = Pool(\n",
    "    X_train, \n",
    "    qy_train, \n",
    "    cat_features=cat_features, \n",
    "    text_features=text_features\n",
    ")\n",
    "qval_pool = Pool(\n",
    "    X_valid, \n",
    "    qy_valid, \n",
    "    cat_features=cat_features, \n",
    "    text_features=text_features\n",
    ")"
   ]
  },
  {
   "cell_type": "code",
   "execution_count": null,
   "metadata": {
    "id": "4w8X2af0WSlh"
   },
   "outputs": [],
   "source": [
    "qcat_class_model = CatBoostClassifier(**catboost_params, task_type='GPU')\n",
    "qcat_class_model.fit(qtrain_pool, eval_set=qval_pool, use_best_model=True)"
   ]
  },
  {
   "cell_type": "code",
   "execution_count": null,
   "metadata": {
    "id": "kxeoLYCUWXv3"
   },
   "outputs": [],
   "source": [
    "qpred = qcat_class_model.predict(X_test)"
   ]
  },
  {
   "cell_type": "code",
   "execution_count": null,
   "metadata": {
    "colab": {
     "base_uri": "https://localhost:8080/"
    },
    "executionInfo": {
     "elapsed": 33,
     "status": "ok",
     "timestamp": 1673618761784,
     "user": {
      "displayName": "Татьяна Моисеева",
      "userId": "17359335256304290394"
     },
     "user_tz": -180
    },
    "id": "utlnNPbOWjpz",
    "outputId": "d9474a04-6a7c-4cc6-8fb6-166bded0f2d1"
   },
   "outputs": [
    {
     "name": "stdout",
     "output_type": "stream",
     "text": [
      "RMSE = 13294.471761828181\n",
      "R2 = 0.19771192442591035\n",
      "MAE = 7316.766044433593\n"
     ]
    }
   ],
   "source": [
    "metrics_(test['salary_normalized'], qpred)"
   ]
  },
  {
   "cell_type": "markdown",
   "metadata": {
    "id": "T2Umckb9SC1H"
   },
   "source": [
    "Эта часть была на признаке без логарифма. Не очень удачно получилось :) \n"
   ]
  },
  {
   "cell_type": "markdown",
   "metadata": {
    "id": "N1esHf9nWv9D"
   },
   "source": [
    "_________________________"
   ]
  },
  {
   "cell_type": "markdown",
   "metadata": {
    "id": "IknBrRePX64l"
   },
   "source": [
    "Регрессия с \"урезанным\" целевым"
   ]
  },
  {
   "cell_type": "code",
   "execution_count": null,
   "metadata": {
    "id": "SCizn9MLWxNQ"
   },
   "outputs": [],
   "source": [
    "ry_train = df_train['val']\n",
    "ry_valid = df_valid['val']\n"
   ]
  },
  {
   "cell_type": "code",
   "execution_count": null,
   "metadata": {
    "id": "ko4vHHUcYFzJ"
   },
   "outputs": [],
   "source": [
    "rtrain_pool = Pool(\n",
    "    X_train, \n",
    "    ry_train, \n",
    "    cat_features=cat_features, \n",
    "    text_features=text_features\n",
    ")\n",
    "rval_pool = Pool(\n",
    "    X_valid, \n",
    "    ry_valid, \n",
    "    cat_features=cat_features, \n",
    "    text_features=text_features\n",
    ")"
   ]
  },
  {
   "cell_type": "code",
   "execution_count": null,
   "metadata": {
    "id": "fY02iEQ4YNrH"
   },
   "outputs": [],
   "source": [
    "rcatboost_params = {\n",
    "    'iterations': 20_000,\n",
    "    'eval_metric': 'RMSE',\n",
    "    'verbose': 1000,\n",
    "    'random_state': RAND,\n",
    "    'depth': 4, \n",
    "    'learning_rate': 0.2\n",
    "}\n",
    "#  'one_hot_max_size': 30"
   ]
  },
  {
   "cell_type": "code",
   "execution_count": null,
   "metadata": {
    "colab": {
     "base_uri": "https://localhost:8080/"
    },
    "executionInfo": {
     "elapsed": 94225,
     "status": "ok",
     "timestamp": 1673641017428,
     "user": {
      "displayName": "Татьяна Моисеева",
      "userId": "09895625684527175296"
     },
     "user_tz": -180
    },
    "id": "5SOQoLOQYNun",
    "outputId": "8c97f2ac-3e61-48d2-f3a8-9ce79379e06f"
   },
   "outputs": [
    {
     "name": "stdout",
     "output_type": "stream",
     "text": [
      "0:\tlearn: 17187.6277777\ttest: 17181.8828596\tbest: 17181.8828596 (0)\ttotal: 18.3ms\tremaining: 6m 5s\n",
      "1000:\tlearn: 10909.5728823\ttest: 11380.7521867\tbest: 11380.7521867 (1000)\ttotal: 8.56s\tremaining: 2m 42s\n",
      "2000:\tlearn: 10191.3661201\ttest: 10998.7723576\tbest: 10998.7723576 (2000)\ttotal: 17s\tremaining: 2m 32s\n",
      "3000:\tlearn: 9688.4423028\ttest: 10780.7137487\tbest: 10780.7137487 (3000)\ttotal: 25.3s\tremaining: 2m 23s\n",
      "4000:\tlearn: 9286.7558687\ttest: 10628.6505483\tbest: 10628.6505483 (4000)\ttotal: 33.6s\tremaining: 2m 14s\n",
      "5000:\tlearn: 8942.5932564\ttest: 10499.2179057\tbest: 10499.2179057 (5000)\ttotal: 41.9s\tremaining: 2m 5s\n",
      "6000:\tlearn: 8648.9326724\ttest: 10392.8447196\tbest: 10392.8447196 (6000)\ttotal: 50.3s\tremaining: 1m 57s\n",
      "7000:\tlearn: 8381.6163674\ttest: 10307.3809963\tbest: 10307.3809963 (7000)\ttotal: 58.6s\tremaining: 1m 48s\n",
      "8000:\tlearn: 8138.7022111\ttest: 10241.2220880\tbest: 10241.2220880 (8000)\ttotal: 1m 6s\tremaining: 1m 40s\n",
      "bestTest = 10236.02642\n",
      "bestIteration = 8090\n",
      "Shrink model to first 8091 iterations.\n"
     ]
    },
    {
     "data": {
      "text/plain": [
       "<catboost.core.CatBoostRegressor at 0x7f3539d3e730>"
      ]
     },
     "execution_count": 49,
     "metadata": {},
     "output_type": "execute_result"
    }
   ],
   "source": [
    "model = CatBoostRegressor(**rcatboost_params, task_type=\"GPU\")\n",
    "model.fit(rtrain_pool, eval_set=rval_pool, early_stopping_rounds=20, use_best_model=True)"
   ]
  },
  {
   "cell_type": "code",
   "execution_count": null,
   "metadata": {
    "id": "Gt2bATxmYNxd"
   },
   "outputs": [],
   "source": [
    "rpred = model.predict(X_test)"
   ]
  },
  {
   "cell_type": "code",
   "execution_count": null,
   "metadata": {
    "colab": {
     "base_uri": "https://localhost:8080/"
    },
    "executionInfo": {
     "elapsed": 18,
     "status": "ok",
     "timestamp": 1673641017999,
     "user": {
      "displayName": "Татьяна Моисеева",
      "userId": "09895625684527175296"
     },
     "user_tz": -180
    },
    "id": "omIRrl-YYNzV",
    "outputId": "2de650c7-c090-4376-d91d-2ee745e9930e"
   },
   "outputs": [
    {
     "name": "stdout",
     "output_type": "stream",
     "text": [
      "RMSE = 9713.914331590411\n",
      "R2 = 0.5716717650036278\n",
      "MAE = 6714.016476435935\n"
     ]
    }
   ],
   "source": [
    "metrics_(test['salary_normalized'], rpred)"
   ]
  },
  {
   "cell_type": "markdown",
   "metadata": {
    "id": "qv-pLZXMSROy"
   },
   "source": [
    "Эта тоже вполне себе. Обучается побыстрее, чем оригинальный целевой. Тоже можно попробовать улучшать."
   ]
  },
  {
   "cell_type": "markdown",
   "metadata": {
    "id": "mDg6Mo9ReO0x"
   },
   "source": [
    "___________________"
   ]
  },
  {
   "cell_type": "markdown",
   "metadata": {
    "id": "QrJCHKCvSiWi"
   },
   "source": [
    "**Проверка на логистической регресии и леса**"
   ]
  },
  {
   "cell_type": "markdown",
   "metadata": {
    "id": "S-JOGN8rSyg8"
   },
   "source": [
    "Логистическая"
   ]
  },
  {
   "cell_type": "code",
   "execution_count": 16,
   "metadata": {
    "executionInfo": {
     "elapsed": 3,
     "status": "ok",
     "timestamp": 1673724930535,
     "user": {
      "displayName": "Татьяна Моисеева",
      "userId": "09895625684527175296"
     },
     "user_tz": -180
    },
    "id": "Q_mfjhdkeNub"
   },
   "outputs": [],
   "source": [
    "categorical_features = ['location_normalized', 'category']\n",
    "categorical_pipeline = Pipeline([\n",
    "    ('loc_category', LocationCategory('location_normalized', 10)),\n",
    "    ('imputer', SimpleImputer(strategy='constant', fill_value='unknown')),\n",
    "    ('encoder', OneHotEncoder(handle_unknown='ignore')),\n",
    "])\n",
    "text_features = 'full_description'\n",
    "text_pipeline = Pipeline([('clear', TextClear()),\n",
    "                         # ('lemma', TextLemma(var.nlp)),\n",
    "                         ('tfidf', TfidfVectorizer(stop_words='english', min_df=5))\n",
    "                         ])\n",
    "col_transform = make_column_transformer((text_pipeline, text_features),\n",
    "                                       (categorical_pipeline, categorical_features),\n",
    "                                       (StandardScaler(), ['word_num'])\n",
    "                                      )\n",
    "preprocessor = Pipeline([('add_num', WordsNumber('full_description')),\n",
    "              ('columns', col_transform)])"
   ]
  },
  {
   "cell_type": "code",
   "execution_count": 42,
   "metadata": {
    "executionInfo": {
     "elapsed": 99931,
     "status": "ok",
     "timestamp": 1673716335926,
     "user": {
      "displayName": "Татьяна Моисеева",
      "userId": "09895625684527175296"
     },
     "user_tz": -180
    },
    "id": "3QFblXjDeNye"
   },
   "outputs": [],
   "source": [
    "features_ohe = preprocessor.fit_transform(df_train)\n",
    "valid_f_ohe = preprocessor.transform(df_valid)"
   ]
  },
  {
   "cell_type": "code",
   "execution_count": 43,
   "metadata": {
    "executionInfo": {
     "elapsed": 14,
     "status": "ok",
     "timestamp": 1673716335930,
     "user": {
      "displayName": "Татьяна Моисеева",
      "userId": "09895625684527175296"
     },
     "user_tz": -180
    },
    "id": "OvWulqRCUAnu"
   },
   "outputs": [],
   "source": [
    "lr_le = LabelEncoder()"
   ]
  },
  {
   "cell_type": "code",
   "execution_count": 44,
   "metadata": {
    "executionInfo": {
     "elapsed": 13,
     "status": "ok",
     "timestamp": 1673716335932,
     "user": {
      "displayName": "Татьяна Моисеева",
      "userId": "09895625684527175296"
     },
     "user_tz": -180
    },
    "id": "NERYmPL9fNWG"
   },
   "outputs": [],
   "source": [
    "valid_t =  lr_le.fit_transform(df_valid['val'])\n",
    "target_ohe = lr_le.transform(df_train['val'])"
   ]
  },
  {
   "cell_type": "code",
   "execution_count": 50,
   "metadata": {
    "executionInfo": {
     "elapsed": 262,
     "status": "ok",
     "timestamp": 1673718291856,
     "user": {
      "displayName": "Татьяна Моисеева",
      "userId": "09895625684527175296"
     },
     "user_tz": -180
    },
    "id": "TYxM2mtzYcFE"
   },
   "outputs": [],
   "source": [
    "from sklearn.linear_model import RidgeClassifier"
   ]
  },
  {
   "cell_type": "code",
   "execution_count": 51,
   "metadata": {
    "colab": {
     "base_uri": "https://localhost:8080/"
    },
    "executionInfo": {
     "elapsed": 611879,
     "status": "ok",
     "timestamp": 1673718917666,
     "user": {
      "displayName": "Татьяна Моисеева",
      "userId": "09895625684527175296"
     },
     "user_tz": -180
    },
    "id": "8tUBKv7zfXUT",
    "outputId": "1e33116f-e5d3-4a83-db90-907425a20f25"
   },
   "outputs": [
    {
     "data": {
      "text/plain": [
       "RidgeClassifier(class_weight='balanced', random_state=1114)"
      ]
     },
     "execution_count": 51,
     "metadata": {},
     "output_type": "execute_result"
    }
   ],
   "source": [
    "lr_model = RidgeClassifier(class_weight='balanced', random_state=RAND)\n",
    "lr_model.fit(features_ohe, target_ohe)"
   ]
  },
  {
   "cell_type": "code",
   "execution_count": 52,
   "metadata": {
    "executionInfo": {
     "elapsed": 375,
     "status": "ok",
     "timestamp": 1673719112155,
     "user": {
      "displayName": "Татьяна Моисеева",
      "userId": "09895625684527175296"
     },
     "user_tz": -180
    },
    "id": "NJm03ZKPgG5i"
   },
   "outputs": [],
   "source": [
    "lr_pred = lr_model.predict(valid_f_ohe)"
   ]
  },
  {
   "cell_type": "code",
   "execution_count": 53,
   "metadata": {
    "executionInfo": {
     "elapsed": 4,
     "status": "ok",
     "timestamp": 1673719113806,
     "user": {
      "displayName": "Татьяна Моисеева",
      "userId": "09895625684527175296"
     },
     "user_tz": -180
    },
    "id": "2XTclKXdo7rw"
   },
   "outputs": [],
   "source": [
    "lr_pred = lr_le.inverse_transform(lr_pred)"
   ]
  },
  {
   "cell_type": "code",
   "execution_count": 54,
   "metadata": {
    "colab": {
     "base_uri": "https://localhost:8080/"
    },
    "executionInfo": {
     "elapsed": 5,
     "status": "ok",
     "timestamp": 1673719115126,
     "user": {
      "displayName": "Татьяна Моисеева",
      "userId": "09895625684527175296"
     },
     "user_tz": -180
    },
    "id": "-cBRIiq8gM3_",
    "outputId": "60e18e60-87f4-4357-c500-0b404ab98071"
   },
   "outputs": [
    {
     "name": "stdout",
     "output_type": "stream",
     "text": [
      "RMSE = 38438.26818160782\n",
      "R2 = -3.7288155700214016\n",
      "MAE = 34133.13270336121\n"
     ]
    }
   ],
   "source": [
    "metrics_(df_valid['salary_normalized'], lr_pred)"
   ]
  },
  {
   "cell_type": "markdown",
   "metadata": {
    "id": "eOoLljNihPjf"
   },
   "source": [
    "_________________\n"
   ]
  },
  {
   "cell_type": "markdown",
   "metadata": {
    "id": "Kyypp4OJS17y"
   },
   "source": [
    "Лес"
   ]
  },
  {
   "cell_type": "code",
   "execution_count": 17,
   "metadata": {
    "executionInfo": {
     "elapsed": 256,
     "status": "ok",
     "timestamp": 1673724952723,
     "user": {
      "displayName": "Татьяна Моисеева",
      "userId": "09895625684527175296"
     },
     "user_tz": -180
    },
    "id": "xq8Td0tXhQ46"
   },
   "outputs": [],
   "source": [
    "categorical_pipeline_ord = Pipeline([\n",
    "    ('loc_category', LocationCategory('location_normalized', 3)),\n",
    "    ('imputer', SimpleImputer(strategy='constant', fill_value='unknown')),\n",
    "    ('encoder', OrdinalEncoder(handle_unknown='use_encoded_value', unknown_value=-1)),\n",
    "])\n",
    "text_pipeline_ord = Pipeline([('clear', TextClear()),\n",
    "                         # ('lemma', TextLemma(var.nlp)),\n",
    "                         ('tfidf', TfidfVectorizer(stop_words='english', min_df=5)),\n",
    "                         ('PCA', TruncatedSVD(n_components=800,  random_state=RAND))\n",
    "                         ])"
   ]
  },
  {
   "cell_type": "code",
   "execution_count": 18,
   "metadata": {
    "executionInfo": {
     "elapsed": 4,
     "status": "ok",
     "timestamp": 1673724953676,
     "user": {
      "displayName": "Татьяна Моисеева",
      "userId": "09895625684527175296"
     },
     "user_tz": -180
    },
    "id": "s2Jbg-M9hRp-"
   },
   "outputs": [],
   "source": [
    "preprosessor_ord = make_column_transformer((text_pipeline_ord, text_features),\n",
    "                                       (categorical_pipeline_ord, categorical_features))"
   ]
  },
  {
   "cell_type": "code",
   "execution_count": 23,
   "metadata": {
    "executionInfo": {
     "elapsed": 415905,
     "status": "ok",
     "timestamp": 1673725443775,
     "user": {
      "displayName": "Татьяна Моисеева",
      "userId": "09895625684527175296"
     },
     "user_tz": -180
    },
    "id": "d3Z2lLiqhUuE"
   },
   "outputs": [],
   "source": [
    "features_ord = preprosessor_ord.fit_transform(df_train)\n",
    "target_ord = df_train['val']"
   ]
  },
  {
   "cell_type": "code",
   "execution_count": 24,
   "metadata": {
    "executionInfo": {
     "elapsed": 26374,
     "status": "ok",
     "timestamp": 1673725470139,
     "user": {
      "displayName": "Татьяна Моисеева",
      "userId": "09895625684527175296"
     },
     "user_tz": -180
    },
    "id": "DVtzJnnChU2C"
   },
   "outputs": [],
   "source": [
    "valid_f_ord =  preprosessor_ord.transform(df_valid)"
   ]
  },
  {
   "cell_type": "code",
   "execution_count": 25,
   "metadata": {
    "executionInfo": {
     "elapsed": 24,
     "status": "ok",
     "timestamp": 1673725470145,
     "user": {
      "displayName": "Татьяна Моисеева",
      "userId": "09895625684527175296"
     },
     "user_tz": -180
    },
    "id": "bhYjU2MJ_F6N"
   },
   "outputs": [],
   "source": [
    "rfc_le = LabelEncoder()\n",
    "target_ord = rfc_le.fit_transform(target_ord)"
   ]
  },
  {
   "cell_type": "code",
   "execution_count": 26,
   "metadata": {
    "colab": {
     "base_uri": "https://localhost:8080/"
    },
    "executionInfo": {
     "elapsed": 353818,
     "status": "ok",
     "timestamp": 1673725823944,
     "user": {
      "displayName": "Татьяна Моисеева",
      "userId": "09895625684527175296"
     },
     "user_tz": -180
    },
    "id": "VoKBqbZUhU4-",
    "outputId": "ca4ac1ee-d2a2-4308-c719-605e5b0e2ce7"
   },
   "outputs": [
    {
     "data": {
      "text/plain": [
       "RandomForestClassifier(class_weight='balanced', max_depth=4, random_state=1114)"
      ]
     },
     "execution_count": 26,
     "metadata": {},
     "output_type": "execute_result"
    }
   ],
   "source": [
    "rfc_model = RandomForestClassifier(random_state=RAND, class_weight='balanced', max_depth=4)\n",
    "rfc_model.fit(features_ord, target_ord)"
   ]
  },
  {
   "cell_type": "code",
   "execution_count": 30,
   "metadata": {
    "executionInfo": {
     "elapsed": 1762,
     "status": "ok",
     "timestamp": 1673725895139,
     "user": {
      "displayName": "Татьяна Моисеева",
      "userId": "09895625684527175296"
     },
     "user_tz": -180
    },
    "id": "VBYI1LyehU7k"
   },
   "outputs": [],
   "source": [
    "rfc_predict = rfc_model.predict(valid_f_ord)"
   ]
  },
  {
   "cell_type": "code",
   "execution_count": 31,
   "metadata": {
    "executionInfo": {
     "elapsed": 263,
     "status": "ok",
     "timestamp": 1673725901720,
     "user": {
      "displayName": "Татьяна Моисеева",
      "userId": "09895625684527175296"
     },
     "user_tz": -180
    },
    "id": "pOXW4ESZl4pP"
   },
   "outputs": [],
   "source": [
    "rfc_predict = rfc_le.inverse_transform(rfc_predict)"
   ]
  },
  {
   "cell_type": "code",
   "execution_count": 32,
   "metadata": {
    "colab": {
     "base_uri": "https://localhost:8080/"
    },
    "executionInfo": {
     "elapsed": 254,
     "status": "ok",
     "timestamp": 1673725904014,
     "user": {
      "displayName": "Татьяна Моисеева",
      "userId": "09895625684527175296"
     },
     "user_tz": -180
    },
    "id": "c04TC9uVl4sW",
    "outputId": "3a2772c0-5646-4031-c261-9100be847f19"
   },
   "outputs": [
    {
     "name": "stdout",
     "output_type": "stream",
     "text": [
      "RMSE = 44319.39051760548\n",
      "R2 = -5.286549071841689\n",
      "MAE = 31016.95986174657\n"
     ]
    }
   ],
   "source": [
    "metrics_(df_valid['salary_normalized'], np.expm1(rfc_predict))"
   ]
  },
  {
   "cell_type": "markdown",
   "metadata": {
    "id": "fzKIYclLS5CB"
   },
   "source": [
    "Лес как-то совсем неудачно получился :)"
   ]
  },
  {
   "cell_type": "markdown",
   "metadata": {
    "id": "nKygkqaBl43C"
   },
   "source": [
    "_____________________________"
   ]
  },
  {
   "cell_type": "markdown",
   "metadata": {
    "id": "corNbr037zIb"
   },
   "source": [
    "**Нейросетка**"
   ]
  },
  {
   "cell_type": "code",
   "execution_count": 368,
   "metadata": {
    "executionInfo": {
     "elapsed": 8,
     "status": "ok",
     "timestamp": 1673705489320,
     "user": {
      "displayName": "Татьяна Моисеева",
      "userId": "09895625684527175296"
     },
     "user_tz": -180
    },
    "id": "UM5WKd4FmAPS"
   },
   "outputs": [],
   "source": [
    "tqdm.pandas()\n",
    "\n",
    "HIDDEN_N = 530  # 800 * 2/3\n",
    "ETA = 0.00001\n",
    "BATCH = 500\n",
    "EPOCH = 1_000"
   ]
  },
  {
   "cell_type": "code",
   "execution_count": 8,
   "metadata": {
    "executionInfo": {
     "elapsed": 6,
     "status": "ok",
     "timestamp": 1673695243114,
     "user": {
      "displayName": "Татьяна Моисеева",
      "userId": "09895625684527175296"
     },
     "user_tz": -180
    },
    "id": "ThVl5R9_mASY"
   },
   "outputs": [],
   "source": [
    "device = torch.device(\"cuda\" if torch.cuda.is_available() else \"cpu\")"
   ]
  },
  {
   "cell_type": "code",
   "execution_count": 9,
   "metadata": {
    "executionInfo": {
     "elapsed": 4,
     "status": "ok",
     "timestamp": 1673695244933,
     "user": {
      "displayName": "Татьяна Моисеева",
      "userId": "09895625684527175296"
     },
     "user_tz": -180
    },
    "id": "JiFfwN9dmAcX"
   },
   "outputs": [],
   "source": [
    "def create_tensor_dataloader(features: pd.DataFrame, \n",
    "                             target: pd.Series,\n",
    "                             batch_: int = 500,\n",
    "                             split: float=0) -> DataLoader:\n",
    "    \n",
    "    #create dataset\n",
    "    features = torch.tensor(features.values, device=device,  dtype=torch.float)\n",
    "    target = torch.tensor(target, device=device,  dtype=torch.float) #labels\n",
    "        \n",
    "    dataset = TensorDataset(features, target)\n",
    "    \n",
    "    if split:\n",
    "        train, valid = train_test_split(dataset, test_size=split, random_state=RAND)\n",
    "        train = DataLoader(train, batch_size=batch_, drop_last=True) \n",
    "        valid = DataLoader(valid, batch_size=batch_, drop_last=True) \n",
    "        return train, valid\n",
    "    else:\n",
    "        return DataLoader(dataset, batch_size=batch_, drop_last=True) "
   ]
  },
  {
   "cell_type": "code",
   "execution_count": 10,
   "metadata": {
    "executionInfo": {
     "elapsed": 35993,
     "status": "ok",
     "timestamp": 1673695283785,
     "user": {
      "displayName": "Татьяна Моисеева",
      "userId": "09895625684527175296"
     },
     "user_tz": -180
    },
    "id": "c-HiJNY8rJ7l"
   },
   "outputs": [],
   "source": [
    "bert_features = pd.read_csv('full-bert-train.csv', index_col=[0])\n",
    "bert_features_valid  = pd.read_csv('full-bert-valid.csv', index_col=[0])"
   ]
  },
  {
   "cell_type": "code",
   "execution_count": 11,
   "metadata": {
    "executionInfo": {
     "elapsed": 7208,
     "status": "ok",
     "timestamp": 1673695292296,
     "user": {
      "displayName": "Татьяна Моисеева",
      "userId": "09895625684527175296"
     },
     "user_tz": -180
    },
    "id": "BNBvyuZ7tkYE"
   },
   "outputs": [],
   "source": [
    "df_b = pd.read_csv('tocolab.csv', index_col=[0])[:-100]\n",
    "df_b.columns = df_b.columns.str.replace('(.)([A-Z])', r'\\1_\\2', regex=True).str.lower()"
   ]
  },
  {
   "cell_type": "code",
   "execution_count": 12,
   "metadata": {
    "executionInfo": {
     "elapsed": 14,
     "status": "ok",
     "timestamp": 1673695293159,
     "user": {
      "displayName": "Татьяна Моисеева",
      "userId": "09895625684527175296"
     },
     "user_tz": -180
    },
    "id": "rForaLFIuSf_"
   },
   "outputs": [],
   "source": [
    "df_b['val'] = pd.qcut(df_b['salary_normalized'], 15)\n",
    "df_b['val'] = df_b['val'].apply(lambda x: x.mid)"
   ]
  },
  {
   "cell_type": "code",
   "execution_count": 13,
   "metadata": {
    "executionInfo": {
     "elapsed": 11,
     "status": "ok",
     "timestamp": 1673695293160,
     "user": {
      "displayName": "Татьяна Моисеева",
      "userId": "09895625684527175296"
     },
     "user_tz": -180
    },
    "id": "nC_XIzZvtme_"
   },
   "outputs": [],
   "source": [
    "df_train_b, df_valid_b = train_test_split(df_b, test_size=0.1, random_state=RAND)"
   ]
  },
  {
   "cell_type": "code",
   "execution_count": 14,
   "metadata": {
    "executionInfo": {
     "elapsed": 11,
     "status": "ok",
     "timestamp": 1673695293161,
     "user": {
      "displayName": "Татьяна Моисеева",
      "userId": "09895625684527175296"
     },
     "user_tz": -180
    },
    "id": "FHdSYuKErJ-X"
   },
   "outputs": [],
   "source": [
    "nn_pipe = Pipeline([\n",
    "    ('loc_category', LocationCategory('location_normalized', 10)),\n",
    "    ('imputer', SimpleImputer(strategy='constant', fill_value='unknown')),\n",
    "    ('encoder', OneHotEncoder(handle_unknown='ignore', sparse=False)),\n",
    "])"
   ]
  },
  {
   "cell_type": "code",
   "execution_count": 15,
   "metadata": {
    "executionInfo": {
     "elapsed": 444,
     "status": "ok",
     "timestamp": 1673695293596,
     "user": {
      "displayName": "Татьяна Моисеева",
      "userId": "09895625684527175296"
     },
     "user_tz": -180
    },
    "id": "ova4YbXorKBO"
   },
   "outputs": [],
   "source": [
    "train_cat_features = nn_pipe.fit_transform(df_train_b[['location_normalized', 'category']])\n",
    "valid_cat_features = nn_pipe.transform(df_valid_b[['location_normalized', 'category']])"
   ]
  },
  {
   "cell_type": "code",
   "execution_count": 16,
   "metadata": {
    "executionInfo": {
     "elapsed": 5174,
     "status": "ok",
     "timestamp": 1673695298766,
     "user": {
      "displayName": "Татьяна Моисеева",
      "userId": "09895625684527175296"
     },
     "user_tz": -180
    },
    "id": "sp7bnkBirKD7"
   },
   "outputs": [],
   "source": [
    "nnX_train = pd.concat([bert_features, pd.DataFrame(train_cat_features)], axis=1)\n",
    "nnX_train = nnX_train.dropna()\n",
    "nnX_valid = pd.concat([bert_features_valid, pd.DataFrame(valid_cat_features)], axis=1)\n",
    "nnX_valid = nnX_valid.dropna()"
   ]
  },
  {
   "cell_type": "code",
   "execution_count": 23,
   "metadata": {
    "executionInfo": {
     "elapsed": 518,
     "status": "ok",
     "timestamp": 1673695318474,
     "user": {
      "displayName": "Татьяна Моисеева",
      "userId": "09895625684527175296"
     },
     "user_tz": -180
    },
    "id": "4qvIJNBUvQtG"
   },
   "outputs": [],
   "source": [
    "nny_train = df_train_b['val'][:nnX_train.shape[0]]\n",
    "nny_valid = df_valid_b['val'][:nnX_valid.shape[0]]"
   ]
  },
  {
   "cell_type": "code",
   "execution_count": 24,
   "metadata": {
    "executionInfo": {
     "elapsed": 5,
     "status": "ok",
     "timestamp": 1673695322277,
     "user": {
      "displayName": "Татьяна Моисеева",
      "userId": "09895625684527175296"
     },
     "user_tz": -180
    },
    "id": "ziEhvz_w50C1"
   },
   "outputs": [],
   "source": [
    "le = LabelEncoder()\n",
    "nny_train = le.fit_transform(nny_train.values)\n",
    "nny_valid = le.transform(nny_valid.values)"
   ]
  },
  {
   "cell_type": "code",
   "execution_count": 245,
   "metadata": {
    "executionInfo": {
     "elapsed": 2329,
     "status": "ok",
     "timestamp": 1673701870714,
     "user": {
      "displayName": "Татьяна Моисеева",
      "userId": "09895625684527175296"
     },
     "user_tz": -180
    },
    "id": "-QnKbNOjmZZ3"
   },
   "outputs": [],
   "source": [
    "tensor_train = create_tensor_dataloader(nnX_train, nny_train)\n",
    "tensor_valid = create_tensor_dataloader(nnX_valid, nny_valid)"
   ]
  },
  {
   "cell_type": "code",
   "execution_count": 246,
   "metadata": {
    "colab": {
     "base_uri": "https://localhost:8080/"
    },
    "executionInfo": {
     "elapsed": 27,
     "status": "ok",
     "timestamp": 1673701870715,
     "user": {
      "displayName": "Татьяна Моисеева",
      "userId": "09895625684527175296"
     },
     "user_tz": -180
    },
    "id": "ZqLeZnOUmAU8",
    "outputId": "05a386b7-b569-4c9e-df67-a6a4c6c67bc7"
   },
   "outputs": [
    {
     "data": {
      "text/plain": [
       "<torch._C.Generator at 0x7f84e47dce70>"
      ]
     },
     "execution_count": 246,
     "metadata": {},
     "output_type": "execute_result"
    }
   ],
   "source": [
    "n_input = nnX_train.shape[1]\n",
    "torch.manual_seed(RAND)"
   ]
  },
  {
   "cell_type": "code",
   "execution_count": 247,
   "metadata": {
    "colab": {
     "base_uri": "https://localhost:8080/"
    },
    "executionInfo": {
     "elapsed": 22,
     "status": "ok",
     "timestamp": 1673701870717,
     "user": {
      "displayName": "Татьяна Моисеева",
      "userId": "09895625684527175296"
     },
     "user_tz": -180
    },
    "id": "RXRKdicbyJKH",
    "outputId": "0a849716-9723-48bb-9e8a-261c2e1af6d8"
   },
   "outputs": [
    {
     "data": {
      "text/plain": [
       "807"
      ]
     },
     "execution_count": 247,
     "metadata": {},
     "output_type": "execute_result"
    }
   ],
   "source": [
    "n_input"
   ]
  },
  {
   "cell_type": "code",
   "execution_count": 349,
   "metadata": {
    "executionInfo": {
     "elapsed": 5,
     "status": "ok",
     "timestamp": 1673705350869,
     "user": {
      "displayName": "Татьяна Моисеева",
      "userId": "09895625684527175296"
     },
     "user_tz": -180
    },
    "id": "Kt3G4GhNmAXs"
   },
   "outputs": [],
   "source": [
    "# Ist das der Zerstörer oder der Schöpfer?\n",
    "\n",
    "class TextNet(nn.Module):\n",
    "    def __init__(self, n_input, n_hidden, layers):\n",
    "        super(TextNet, self).__init__()\n",
    "        \n",
    "        self.input_layers = nn.Sequential(\n",
    "            nn.Linear(n_input, n_hidden),\n",
    "            nn.Dropout(0.1),\n",
    "            nn.ReLU()\n",
    "        )\n",
    "        \n",
    "        \n",
    "        mid_layers = []\n",
    "        for _ in range(layers):\n",
    "            mid_layers.append(nn.Linear(n_hidden, n_hidden))\n",
    "           # mid_layers.append(nn.Dropout(0.1))\n",
    "            mid_layers.append(nn.ReLU()) \n",
    "        self.mid_layers = nn.Sequential(*mid_layers)\n",
    "        \n",
    "        \n",
    "        self.out_layres = nn.Sequential(       \n",
    "            nn.Linear(n_hidden, int(n_hidden/2)),\n",
    "            nn.ReLU(), #nn.Sigmoid(), #\n",
    "            nn.Linear(int(n_hidden/2), 20),\n",
    "            nn.Softmax(dim=1)\n",
    "        )\n",
    "    \n",
    "          \n",
    "    def forward(self, x):\n",
    "        y = self.input_layers(x)\n",
    "        y = self.mid_layers(y)\n",
    "        y = self.out_layres(y)\n",
    "        return y"
   ]
  },
  {
   "cell_type": "code",
   "execution_count": 362,
   "metadata": {
    "executionInfo": {
     "elapsed": 529,
     "status": "ok",
     "timestamp": 1673705458785,
     "user": {
      "displayName": "Татьяна Моисеева",
      "userId": "09895625684527175296"
     },
     "user_tz": -180
    },
    "id": "Yraaom93mAaD"
   },
   "outputs": [],
   "source": [
    "nn_model = TextNet(n_input, HIDDEN_N, 0)\n",
    "if torch.cuda.is_available():\n",
    "    nn_model = nn_model.to(device)"
   ]
  },
  {
   "cell_type": "code",
   "execution_count": 363,
   "metadata": {
    "colab": {
     "base_uri": "https://localhost:8080/"
    },
    "executionInfo": {
     "elapsed": 6,
     "status": "ok",
     "timestamp": 1673705461173,
     "user": {
      "displayName": "Татьяна Моисеева",
      "userId": "09895625684527175296"
     },
     "user_tz": -180
    },
    "id": "X-I19nNW9mqO",
    "outputId": "a6534815-89a9-4272-e4ed-06612fbbb073"
   },
   "outputs": [
    {
     "data": {
      "text/plain": [
       "TextNet(\n",
       "  (input_layers): Sequential(\n",
       "    (0): Linear(in_features=807, out_features=530, bias=True)\n",
       "    (1): Dropout(p=0.1, inplace=False)\n",
       "    (2): ReLU()\n",
       "  )\n",
       "  (mid_layers): Sequential()\n",
       "  (out_layres): Sequential(\n",
       "    (0): Linear(in_features=530, out_features=265, bias=True)\n",
       "    (1): ReLU()\n",
       "    (2): Linear(in_features=265, out_features=20, bias=True)\n",
       "    (3): Softmax(dim=1)\n",
       "  )\n",
       ")"
      ]
     },
     "execution_count": 363,
     "metadata": {},
     "output_type": "execute_result"
    }
   ],
   "source": [
    "nn_model"
   ]
  },
  {
   "cell_type": "code",
   "execution_count": 382,
   "metadata": {
    "colab": {
     "base_uri": "https://localhost:8080/"
    },
    "executionInfo": {
     "elapsed": 424339,
     "status": "ok",
     "timestamp": 1673706145339,
     "user": {
      "displayName": "Татьяна Моисеева",
      "userId": "09895625684527175296"
     },
     "user_tz": -180
    },
    "id": "xRAQv4d8mZsU",
    "outputId": "4ee88cb9-e2b5-48c0-9505-561f21c4fb79"
   },
   "outputs": [
    {
     "name": "stderr",
     "output_type": "stream",
     "text": [
      "100%|██████████| 200/200 [07:04<00:00,  2.12s/it]\n"
     ]
    }
   ],
   "source": [
    "nn_model.train()\n",
    "loss_function = nn.CrossEntropyLoss(reduction='sum')\n",
    "optimizer = torch.optim.Adam(nn_model.parameters(), lr=ETA)\n",
    "#torch.optim.SGD(nn_model.parameters(), lr=ETA, momentum=0.9)\n",
    "#Adam(nn_model.parameters(), lr=ETA)\n",
    "  \n",
    "for epoch in tqdm(range(200)):   \n",
    "    for inputs, targets in tensor_train:\n",
    "        optimizer.zero_grad()\n",
    "        outputs = nn_model(inputs)\n",
    "        targets = targets.to(torch.int64)\n",
    "        loss = loss_function(outputs, targets)\n",
    "        loss.backward()\n",
    "        optimizer.step() \n"
   ]
  },
  {
   "cell_type": "code",
   "execution_count": 383,
   "metadata": {
    "colab": {
     "base_uri": "https://localhost:8080/"
    },
    "executionInfo": {
     "elapsed": 23,
     "status": "ok",
     "timestamp": 1673706145342,
     "user": {
      "displayName": "Татьяна Моисеева",
      "userId": "09895625684527175296"
     },
     "user_tz": -180
    },
    "id": "Xd2M3SV8mZvm",
    "outputId": "0d3a6384-cc56-40f2-b528-6be686aad71e"
   },
   "outputs": [
    {
     "name": "stderr",
     "output_type": "stream",
     "text": [
      "100%|██████████| 48/48 [00:00<00:00, 293.71it/s]\n"
     ]
    }
   ],
   "source": [
    "pred = np.array([])\n",
    "real = np.array([])\n",
    "nn_model.eval()\n",
    "with torch.no_grad():\n",
    "    for i, (inputs, targets) in enumerate(tqdm(tensor_valid)):  \n",
    "        \n",
    "        output = nn_model(inputs) \n",
    "        _,prediction=torch.max(output,1)\n",
    "        pred = np.append(pred, prediction.detach().cpu())\n",
    "        real = np.append(real, targets.detach().cpu())\n",
    "      #  if i%100 == 0:                 \n",
    "      #    print(f'F1 = {f1_score(real, pred, average=None)}')\n",
    "\n"
   ]
  },
  {
   "cell_type": "code",
   "execution_count": 384,
   "metadata": {
    "executionInfo": {
     "elapsed": 16,
     "status": "ok",
     "timestamp": 1673706145343,
     "user": {
      "displayName": "Татьяна Моисеева",
      "userId": "09895625684527175296"
     },
     "user_tz": -180
    },
    "id": "XnbfzFgI796o"
   },
   "outputs": [],
   "source": [
    "nnpred = le.inverse_transform(pred.astype('int'))"
   ]
  },
  {
   "cell_type": "code",
   "execution_count": 385,
   "metadata": {
    "colab": {
     "base_uri": "https://localhost:8080/"
    },
    "executionInfo": {
     "elapsed": 17,
     "status": "ok",
     "timestamp": 1673706145345,
     "user": {
      "displayName": "Татьяна Моисеева",
      "userId": "09895625684527175296"
     },
     "user_tz": -180
    },
    "id": "cO5OxKVV8KWv",
    "outputId": "21eb84c2-e0d0-4f03-bab3-90895b82d786"
   },
   "outputs": [
    {
     "name": "stdout",
     "output_type": "stream",
     "text": [
      "RMSE = 13987.991607083797\n",
      "R2 = 0.34978504101670893\n",
      "MAE = 9515.2437046875\n"
     ]
    }
   ],
   "source": [
    "metrics_(df_valid_b['salary_normalized'][0:24000], nnpred)"
   ]
  },
  {
   "cell_type": "markdown",
   "metadata": {
    "id": "YTqu5V9fwG7k"
   },
   "source": [
    "____________________\n",
    "Тут \"оригинальная\" НН сеть на минмаксе. Чисто чтоб метрики в удобноваримом формате, дублирование кода, ага :) "
   ]
  },
  {
   "cell_type": "code",
   "execution_count": 42,
   "metadata": {
    "executionInfo": {
     "elapsed": 17,
     "status": "ok",
     "timestamp": 1673696006851,
     "user": {
      "displayName": "Татьяна Моисеева",
      "userId": "09895625684527175296"
     },
     "user_tz": -180
    },
    "id": "4rQnFy7txKLs"
   },
   "outputs": [],
   "source": [
    "mmax = MinMaxScaler().fit(df_train_b['salary_normalized'].values.reshape(-1, 1))"
   ]
  },
  {
   "cell_type": "code",
   "execution_count": 61,
   "metadata": {
    "executionInfo": {
     "elapsed": 394,
     "status": "ok",
     "timestamp": 1673696454177,
     "user": {
      "displayName": "Татьяна Моисеева",
      "userId": "09895625684527175296"
     },
     "user_tz": -180
    },
    "id": "YpM05Bmwwb4R"
   },
   "outputs": [],
   "source": [
    "mm_nny_train = mmax.transform(df_train_b['salary_normalized'].values.reshape(-1, 1))\n",
    "mm_nny_valid = df_valid_b['salary_normalized'][:nnX_valid.shape[0]]"
   ]
  },
  {
   "cell_type": "code",
   "execution_count": 94,
   "metadata": {
    "executionInfo": {
     "elapsed": 364,
     "status": "ok",
     "timestamp": 1673697015526,
     "user": {
      "displayName": "Татьяна Моисеева",
      "userId": "09895625684527175296"
     },
     "user_tz": -180
    },
    "id": "GepTUocgG6E9"
   },
   "outputs": [],
   "source": [
    "mm_nny_train = mm_nny_train[:nnX_train.shape[0]]\n",
    "mm_nny_valid = mm_nny_valid[:nnX_valid.shape[0]].values.reshape(-1, 1)"
   ]
  },
  {
   "cell_type": "code",
   "execution_count": 261,
   "metadata": {
    "executionInfo": {
     "elapsed": 1707,
     "status": "ok",
     "timestamp": 1673702849570,
     "user": {
      "displayName": "Татьяна Моисеева",
      "userId": "09895625684527175296"
     },
     "user_tz": -180
    },
    "id": "_PNBOCA8y1p2"
   },
   "outputs": [],
   "source": [
    "mm_tensor_train = create_tensor_dataloader(nnX_train, mm_nny_train)\n",
    "mm_tensor_valid = create_tensor_dataloader(nnX_valid, mm_nny_valid)"
   ]
  },
  {
   "cell_type": "code",
   "execution_count": 386,
   "metadata": {
    "colab": {
     "base_uri": "https://localhost:8080/"
    },
    "executionInfo": {
     "elapsed": 26,
     "status": "ok",
     "timestamp": 1673706146208,
     "user": {
      "displayName": "Татьяна Моисеева",
      "userId": "09895625684527175296"
     },
     "user_tz": -180
    },
    "id": "db2d9Hwby1tQ",
    "outputId": "f71e9317-e3f8-48da-dc47-ebde2c73a065"
   },
   "outputs": [
    {
     "data": {
      "text/plain": [
       "<torch._C.Generator at 0x7f84e47dce70>"
      ]
     },
     "execution_count": 386,
     "metadata": {},
     "output_type": "execute_result"
    }
   ],
   "source": [
    "n_input = nnX_train.shape[1]\n",
    "torch.manual_seed(RAND)"
   ]
  },
  {
   "cell_type": "code",
   "execution_count": 387,
   "metadata": {
    "executionInfo": {
     "elapsed": 21,
     "status": "ok",
     "timestamp": 1673706146208,
     "user": {
      "displayName": "Татьяна Моисеева",
      "userId": "09895625684527175296"
     },
     "user_tz": -180
    },
    "id": "mcOAIvg6wmbU"
   },
   "outputs": [],
   "source": [
    "# Ist das der Zerstörer oder der Schöpfer?\n",
    "np.random.seed(RAND)\n",
    "\n",
    "class TextNetMin(nn.Module):\n",
    "    def __init__(self, n_input, n_hidden, layers):\n",
    "        super(TextNetMin, self).__init__()\n",
    "        \n",
    "        self.input_layers = nn.Sequential(\n",
    "            nn.Linear(n_input, n_hidden),\n",
    "            nn.Dropout(0.1),\n",
    "            nn.ReLU()\n",
    "        )\n",
    "        \n",
    "        \n",
    "        mid_layers = []\n",
    "        n_hid_1 = n_hidden\n",
    "        for _ in range(layers):\n",
    "          n_hid_2 = np.random.randint(200, 600)\n",
    "          mid_layers.append(nn.Linear(n_hid_1, n_hid_2))\n",
    "          mid_layers.append(nn.Dropout(0.1))\n",
    "          n_hid_1 = n_hid_2\n",
    "          mid_layers.append(nn.ReLU()) \n",
    "        self.mid_layers = nn.Sequential(*mid_layers)\n",
    "        \n",
    "        \n",
    "        self.out_layres = nn.Sequential(       \n",
    "            nn.Linear(n_hid_1, int(n_hidden/2)),\n",
    "            nn.ReLU(), #nn.Sigmoid(), #\n",
    "            nn.Linear(int(n_hidden/2), 1)\n",
    "        )\n",
    "    \n",
    "          \n",
    "    def forward(self, x):\n",
    "        y = self.input_layers(x)\n",
    "        y = self.mid_layers(y)\n",
    "        y = self.out_layres(y)\n",
    "        return y"
   ]
  },
  {
   "cell_type": "code",
   "execution_count": 388,
   "metadata": {
    "executionInfo": {
     "elapsed": 20,
     "status": "ok",
     "timestamp": 1673706146209,
     "user": {
      "displayName": "Татьяна Моисеева",
      "userId": "09895625684527175296"
     },
     "user_tz": -180
    },
    "id": "q6q2Azgtynyx"
   },
   "outputs": [],
   "source": [
    "min_model = TextNetMin(n_input, HIDDEN_N, 3)\n",
    "if torch.cuda.is_available():\n",
    "    min_model = min_model.to(device)"
   ]
  },
  {
   "cell_type": "code",
   "execution_count": 389,
   "metadata": {
    "colab": {
     "base_uri": "https://localhost:8080/"
    },
    "executionInfo": {
     "elapsed": 18,
     "status": "ok",
     "timestamp": 1673706146209,
     "user": {
      "displayName": "Татьяна Моисеева",
      "userId": "09895625684527175296"
     },
     "user_tz": -180
    },
    "id": "CKzosVEOFe01",
    "outputId": "148c18ca-9755-4df9-95ca-0137dea62493"
   },
   "outputs": [
    {
     "data": {
      "text/plain": [
       "TextNetMin(\n",
       "  (input_layers): Sequential(\n",
       "    (0): Linear(in_features=807, out_features=530, bias=True)\n",
       "    (1): Dropout(p=0.1, inplace=False)\n",
       "    (2): ReLU()\n",
       "  )\n",
       "  (mid_layers): Sequential(\n",
       "    (0): Linear(in_features=530, out_features=385, bias=True)\n",
       "    (1): Dropout(p=0.1, inplace=False)\n",
       "    (2): ReLU()\n",
       "    (3): Linear(in_features=385, out_features=239, bias=True)\n",
       "    (4): Dropout(p=0.1, inplace=False)\n",
       "    (5): ReLU()\n",
       "    (6): Linear(in_features=239, out_features=393, bias=True)\n",
       "    (7): Dropout(p=0.1, inplace=False)\n",
       "    (8): ReLU()\n",
       "  )\n",
       "  (out_layres): Sequential(\n",
       "    (0): Linear(in_features=393, out_features=265, bias=True)\n",
       "    (1): Sigmoid()\n",
       "    (2): Linear(in_features=265, out_features=1, bias=True)\n",
       "  )\n",
       ")"
      ]
     },
     "execution_count": 389,
     "metadata": {},
     "output_type": "execute_result"
    }
   ],
   "source": [
    "min_model"
   ]
  },
  {
   "cell_type": "code",
   "execution_count": 395,
   "metadata": {
    "colab": {
     "base_uri": "https://localhost:8080/"
    },
    "executionInfo": {
     "elapsed": 1263312,
     "status": "ok",
     "timestamp": 1673710626794,
     "user": {
      "displayName": "Татьяна Моисеева",
      "userId": "09895625684527175296"
     },
     "user_tz": -180
    },
    "id": "qICshXC8yn16",
    "outputId": "cef7baf7-b481-4c17-bc38-6e9ea1874f7a"
   },
   "outputs": [
    {
     "name": "stderr",
     "output_type": "stream",
     "text": [
      "100%|██████████| 500/500 [21:03<00:00,  2.53s/it]\n"
     ]
    }
   ],
   "source": [
    "min_model.train()\n",
    "loss_function = nn.L1Loss() # nn.MSELoss() #\n",
    "optimizer = torch.optim.Adam(min_model.parameters(), lr=ETA)\n",
    "  \n",
    "for epoch in tqdm(range(500)):   \n",
    "    for i, (inputs, targets) in enumerate(mm_tensor_train):\n",
    "        optimizer.zero_grad()\n",
    "        outputs = min_model(inputs)\n",
    "        loss = loss_function(outputs, targets)\n",
    "        loss.backward()\n",
    "        optimizer.step() "
   ]
  },
  {
   "cell_type": "markdown",
   "metadata": {
    "id": "va0WHRPU2S4N"
   },
   "source": [
    "Для MSELoss"
   ]
  },
  {
   "cell_type": "code",
   "execution_count": 393,
   "metadata": {
    "colab": {
     "base_uri": "https://localhost:8080/"
    },
    "executionInfo": {
     "elapsed": 48,
     "status": "ok",
     "timestamp": 1673709184231,
     "user": {
      "displayName": "Татьяна Моисеева",
      "userId": "09895625684527175296"
     },
     "user_tz": -180
    },
    "id": "kNhrrl-Pyn5L",
    "outputId": "f636bfc4-a090-450a-e8d7-1d9923056913"
   },
   "outputs": [
    {
     "name": "stdout",
     "output_type": "stream",
     "text": [
      "__________________\n",
      "RMSE = 9940.806342906826\n",
      "R2 = 0.6716103525899006\n",
      "MAE = 6360.609746034216\n"
     ]
    }
   ],
   "source": [
    "pred = np.array([])\n",
    "real = np.array([])\n",
    "min_model.eval()\n",
    "with torch.no_grad():\n",
    "    for i, (inputs, targets) in enumerate(mm_tensor_valid):  \n",
    "        \n",
    "        output = min_model(inputs)\n",
    "\n",
    "        res = mmax.inverse_transform(output.detach().cpu())    \n",
    "        pred = np.append(pred, res)\n",
    "        real = np.append(real, targets.detach().cpu())\n",
    "       # if i%10 == 0: \n",
    "       #   print(f'R2 = {r2_score(res, targets.detach().cpu())}')\n",
    "\n",
    "print('__________________')\n",
    "print(f'RMSE = {mean_squared_error(real, pred)**.5}')\n",
    "print(f'R2 = {r2_score(real, pred)}')\n",
    "print(f'MAE = {mean_absolute_error(real, pred)}')"
   ]
  },
  {
   "cell_type": "markdown",
   "metadata": {
    "id": "xVif7NbY2bzb"
   },
   "source": [
    "Для L1Loss"
   ]
  },
  {
   "cell_type": "code",
   "execution_count": 396,
   "metadata": {
    "colab": {
     "base_uri": "https://localhost:8080/"
    },
    "executionInfo": {
     "elapsed": 331,
     "status": "ok",
     "timestamp": 1673710642404,
     "user": {
      "displayName": "Татьяна Моисеева",
      "userId": "09895625684527175296"
     },
     "user_tz": -180
    },
    "id": "B1phyXiY2ZeV",
    "outputId": "ce65d5ca-c054-4ce1-e274-af48a1c236a4"
   },
   "outputs": [
    {
     "name": "stdout",
     "output_type": "stream",
     "text": [
      "__________________\n",
      "RMSE = 9832.22069071981\n",
      "R2 = 0.6787453173903014\n",
      "MAE = 6204.229758794279\n"
     ]
    }
   ],
   "source": [
    "pred = np.array([])\n",
    "real = np.array([])\n",
    "min_model.eval()\n",
    "with torch.no_grad():\n",
    "    for i, (inputs, targets) in enumerate(mm_tensor_valid):  \n",
    "        \n",
    "        output = min_model(inputs)\n",
    "\n",
    "        res = mmax.inverse_transform(output.detach().cpu())    \n",
    "        pred = np.append(pred, res)\n",
    "        real = np.append(real, targets.detach().cpu())\n",
    "       # if i%10 == 0: \n",
    "       #   print(f'R2 = {r2_score(res, targets.detach().cpu())}')\n",
    "\n",
    "print('__________________')\n",
    "print(f'RMSE = {mean_squared_error(real, pred)**.5}')\n",
    "print(f'R2 = {r2_score(real, pred)}')\n",
    "print(f'MAE = {mean_absolute_error(real, pred)}')"
   ]
  }
 ],
 "metadata": {
  "colab": {
   "provenance": []
  },
  "gpuClass": "standard",
  "kernelspec": {
   "display_name": "Python 3 (ipykernel)",
   "language": "python",
   "name": "python3"
  },
  "language_info": {
   "codemirror_mode": {
    "name": "ipython",
    "version": 3
   },
   "file_extension": ".py",
   "mimetype": "text/x-python",
   "name": "python",
   "nbconvert_exporter": "python",
   "pygments_lexer": "ipython3",
   "version": "3.10.8"
  }
 },
 "nbformat": 4,
 "nbformat_minor": 1
}
