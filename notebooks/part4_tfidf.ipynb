{
 "cells": [
  {
   "cell_type": "markdown",
   "metadata": {},
   "source": [
    "Тут живут разные модельки на TF-IDF. Тут уже используется Pipeline с несколькими самописными классами, которые идут в \"проде\"."
   ]
  },
  {
   "cell_type": "code",
   "execution_count": 1,
   "metadata": {
    "executionInfo": {
     "elapsed": 1733,
     "status": "ok",
     "timestamp": 1673513424323,
     "user": {
      "displayName": "Татьяна Моисеева",
      "userId": "09895625684527175296"
     },
     "user_tz": -180
    },
    "id": "LXzQ6D5SRT04"
   },
   "outputs": [],
   "source": [
    "import pandas as pd\n",
    "import numpy as np\n",
    "\n",
    "from sklearn.pipeline import Pipeline\n",
    "from sklearn.impute import SimpleImputer\n",
    "from sklearn.preprocessing import OneHotEncoder, OrdinalEncoder, StandardScaler\n",
    "from sklearn.decomposition import TruncatedSVD\n",
    "\n",
    "from sklearn.feature_extraction.text import TfidfVectorizer \n",
    "from sklearn.base import BaseEstimator, TransformerMixin\n",
    "from sklearn.compose import make_column_transformer\n",
    "from sklearn.model_selection import train_test_split, GridSearchCV"
   ]
  },
  {
   "cell_type": "code",
   "execution_count": 2,
   "metadata": {
    "executionInfo": {
     "elapsed": 15,
     "status": "ok",
     "timestamp": 1673513424326,
     "user": {
      "displayName": "Татьяна Моисеева",
      "userId": "09895625684527175296"
     },
     "user_tz": -180
    },
    "id": "5oKvbti2Y-Ky"
   },
   "outputs": [],
   "source": [
    "\n",
    "from sklearn.ensemble import GradientBoostingRegressor, ExtraTreesRegressor\n",
    "from sklearn.model_selection import GridSearchCV, cross_val_score\n",
    "from sklearn.linear_model import LinearRegression, Ridge, SGDRegressor"
   ]
  },
  {
   "cell_type": "code",
   "execution_count": null,
   "metadata": {
    "colab": {
     "base_uri": "https://localhost:8080/"
    },
    "executionInfo": {
     "elapsed": 2115,
     "status": "ok",
     "timestamp": 1673513426429,
     "user": {
      "displayName": "Татьяна Моисеева",
      "userId": "09895625684527175296"
     },
     "user_tz": -180
    },
    "id": "qG01vLORRhSt",
    "outputId": "e4bf85a7-a9d4-4a04-8f13-4fad5efedb17"
   },
   "outputs": [],
   "source": [
    "from google.colab import drive\n",
    "drive.mount('/content/drive/')\n",
    "\n",
    "\n",
    "RAND = sum(ord(x) for x in 'NEVER SURRENDER')"
   ]
  },
  {
   "cell_type": "markdown",
   "metadata": {
    "id": "fclH-c0uqJNu"
   },
   "source": [
    "## Смена BERT на TF-IDF\n"
   ]
  },
  {
   "cell_type": "code",
   "execution_count": 4,
   "metadata": {
    "executionInfo": {
     "elapsed": 6850,
     "status": "ok",
     "timestamp": 1673513433261,
     "user": {
      "displayName": "Татьяна Моисеева",
      "userId": "09895625684527175296"
     },
     "user_tz": -180
    },
    "id": "Zl-XIwp-RhNI"
   },
   "outputs": [],
   "source": [
    "df_train = pd.read_csv('/content/drive/MyDrive/train.csv')"
   ]
  },
  {
   "cell_type": "code",
   "execution_count": 5,
   "metadata": {
    "executionInfo": {
     "elapsed": 402,
     "status": "ok",
     "timestamp": 1673513433655,
     "user": {
      "displayName": "Татьяна Моисеева",
      "userId": "09895625684527175296"
     },
     "user_tz": -180
    },
    "id": "VuwWYkapoxhq"
   },
   "outputs": [],
   "source": [
    "df_valid =  pd.read_csv('/content/drive/MyDrive/valid.csv')"
   ]
  },
  {
   "cell_type": "code",
   "execution_count": 6,
   "metadata": {
    "executionInfo": {
     "elapsed": 84,
     "status": "ok",
     "timestamp": 1673513433658,
     "user": {
      "displayName": "Татьяна Моисеева",
      "userId": "09895625684527175296"
     },
     "user_tz": -180
    },
    "id": "tO4ozBLXU-Ff"
   },
   "outputs": [],
   "source": [
    "df_train.columns = df_train.columns.str.replace('(.)([A-Z])',r'\\1_\\2', regex=True).str.lower()"
   ]
  },
  {
   "cell_type": "code",
   "execution_count": 7,
   "metadata": {
    "executionInfo": {
     "elapsed": 78,
     "status": "ok",
     "timestamp": 1673513433659,
     "user": {
      "displayName": "Татьяна Моисеева",
      "userId": "09895625684527175296"
     },
     "user_tz": -180
    },
    "id": "FSlcaUYIowjH"
   },
   "outputs": [],
   "source": [
    "df_valid.columns = df_valid.columns.str.replace('(.)([A-Z])',r'\\1_\\2', regex=True).str.lower()"
   ]
  },
  {
   "cell_type": "code",
   "execution_count": 8,
   "metadata": {
    "colab": {
     "base_uri": "https://localhost:8080/"
    },
    "executionInfo": {
     "elapsed": 76,
     "status": "ok",
     "timestamp": 1673513433660,
     "user": {
      "displayName": "Татьяна Моисеева",
      "userId": "09895625684527175296"
     },
     "user_tz": -180
    },
    "id": "zJrIyAZQRhQN",
    "outputId": "ebc80661-f00a-4765-d95c-0ede30423fe6"
   },
   "outputs": [
    {
     "data": {
      "text/plain": [
       "(218491, 11)"
      ]
     },
     "execution_count": 8,
     "metadata": {},
     "output_type": "execute_result"
    }
   ],
   "source": [
    "df_train.shape"
   ]
  },
  {
   "cell_type": "markdown",
   "metadata": {
    "id": "S0oYYEGuqq06"
   },
   "source": [
    "**Классы для подготовки данных**\n",
    "\n",
    "Итог - sparse matrix"
   ]
  },
  {
   "cell_type": "code",
   "execution_count": 4,
   "metadata": {
    "executionInfo": {
     "elapsed": 57,
     "status": "ok",
     "timestamp": 1673513433661,
     "user": {
      "displayName": "Татьяна Моисеева",
      "userId": "09895625684527175296"
     },
     "user_tz": -180
    },
    "id": "PGcBCb2IRhVC"
   },
   "outputs": [],
   "source": [
    "class LocationCategory(BaseEstimator, TransformerMixin):\n",
    "\n",
    "    def __init__(self, name_of_column, number_of_category):\n",
    "        self.location_dict = None\n",
    "        self.name_of_column = name_of_column\n",
    "        self.number_of_category = number_of_category\n",
    "\n",
    "    def fit(self, features, y=None):\n",
    "        self.location_dict = self.create_dict(features[self.name_of_column])\n",
    "        return self\n",
    "\n",
    "    def transform(self, features):\n",
    "        feature = features.copy()\n",
    "        feature[self.name_of_column] = feature[self.name_of_column].apply(lambda x: self.location_dict.get(x, -1))\n",
    "        return feature\n",
    "\n",
    "    def create_dict(self, feature):\n",
    "\n",
    "        # create groups by value counts\n",
    "        groups = feature.value_counts()\n",
    "        # split by ~equals sum per group\n",
    "        group_sum = round(groups.sum() / self.number_of_category)\n",
    "\n",
    "        current_sum = 0\n",
    "        group_num = 0\n",
    "        group_dict = {}\n",
    "\n",
    "        for index, itm in zip(groups.index, groups.to_numpy()):\n",
    "            if (current_sum + itm) > group_sum:\n",
    "                if abs(current_sum + itm - group_sum) < abs(current_sum - group_sum):\n",
    "                    # include current itm in group\n",
    "                    current_sum = 0\n",
    "                    rem_sum = groups.loc[index:].sum() - itm\n",
    "                    group_dict[index] = group_num\n",
    "                    group_num += 1\n",
    "                    if group_num == (self.number_of_category - 1):\n",
    "                        break\n",
    "                else:\n",
    "                    # exclude current itm\n",
    "                    group_num += 1\n",
    "                    rem_sum = groups.loc[index:].sum()\n",
    "                    if group_num == (self.number_of_category - 1):\n",
    "                        break\n",
    "                    current_sum = itm\n",
    "                    group_dict[index] = group_num\n",
    "\n",
    "                # refresh group sum\n",
    "                group_sum = round(rem_sum / (self.number_of_category - group_num))\n",
    "\n",
    "            else:\n",
    "                current_sum += itm\n",
    "                group_dict[index] = group_num\n",
    "        return group_dict\n",
    "\n",
    "\n",
    "# pd.Series\n",
    "class TextClear(BaseEstimator, TransformerMixin):\n",
    "\n",
    "    def fit(self, feature, y=None):\n",
    "        return self\n",
    "\n",
    "    def transform(self, feature, y=None):\n",
    "        feature = feature.str.replace(r'((https?:\\/\\/)|w{3}).*?( |$)', ' ', regex=True)\n",
    "        feature = feature.str.replace(r'[^A-Za-z\\']', ' ', regex=True).str.lower().str.strip()\n",
    "        feature = feature.str.replace(r'\\W{2,}', ' ', regex=True)\n",
    "        return feature\n",
    "\n",
    "\n",
    "# pd.Series\n",
    "class TextLemma(BaseEstimator, TransformerMixin):\n",
    "    # spacy\n",
    "    def __init__(self, nlp):\n",
    "        self.nlp = nlp\n",
    "\n",
    "    def fit(self, feature, y=None):\n",
    "        return self\n",
    "\n",
    "    def transform(self, feature, y=None):\n",
    "        return feature.apply(lambda row: ' '.join([w.lemma_ for w in self.nlp(row) if not w.is_stop]))\n",
    "\n",
    "\n",
    "class WordsNumber(BaseEstimator, TransformerMixin):\n",
    "\n",
    "    def __init__(self, name_of_column):\n",
    "        self.name_of_column = name_of_column\n",
    "        \n",
    "    def fit(self, features, y=None):\n",
    "        return self\n",
    "\n",
    "    def transform(self, features, y=None):\n",
    "        data = features.copy()\n",
    "        data['word_num'] = data[self.name_of_column].str.count(' ')\n",
    "        return data\n"
   ]
  },
  {
   "cell_type": "markdown",
   "metadata": {
    "id": "RtYIJPuHq0mA"
   },
   "source": [
    "### Часть 1, OneHotEncoder для линейных моделей"
   ]
  },
  {
   "cell_type": "markdown",
   "metadata": {},
   "source": [
    "**Комментарий из будущего**<br>\n",
    "В итоге на \"проде\" будет оставлена одна обычная модель, Ridge. Немного улучшило качество модели усреднее результатов от нее + кота. Тут были проверены еще некоторые ансамбли, но ничего особо не дали, оставлено самое простое.\n"
   ]
  },
  {
   "cell_type": "code",
   "execution_count": 5,
   "metadata": {
    "executionInfo": {
     "elapsed": 56,
     "status": "ok",
     "timestamp": 1673513433663,
     "user": {
      "displayName": "Татьяна Моисеева",
      "userId": "09895625684527175296"
     },
     "user_tz": -180
    },
    "id": "rRI2_LuoUfuL"
   },
   "outputs": [],
   "source": [
    "categorical_features = ['location_normalized', 'category']\n",
    "categorical_pipeline = Pipeline([\n",
    "    ('loc_category', LocationCategory('location_normalized', 10)),\n",
    "    ('imputer', SimpleImputer(strategy='constant', fill_value='unknown')),\n",
    "    ('encoder', OneHotEncoder(handle_unknown='ignore')),\n",
    "])"
   ]
  },
  {
   "cell_type": "code",
   "execution_count": 6,
   "metadata": {
    "executionInfo": {
     "elapsed": 55,
     "status": "ok",
     "timestamp": 1673513433664,
     "user": {
      "displayName": "Татьяна Моисеева",
      "userId": "09895625684527175296"
     },
     "user_tz": -180
    },
    "id": "vm-C1QX5Uf4V"
   },
   "outputs": [],
   "source": [
    "text_features = 'full_description'\n",
    "text_pipeline = Pipeline([('clear', TextClear()),\n",
    "                         # ('lemma', TextLemma(var.nlp)),\n",
    "                         ('tfidf', TfidfVectorizer(stop_words='english', min_df=5))\n",
    "                         ])"
   ]
  },
  {
   "cell_type": "code",
   "execution_count": 7,
   "metadata": {
    "executionInfo": {
     "elapsed": 53,
     "status": "ok",
     "timestamp": 1673513433665,
     "user": {
      "displayName": "Татьяна Моисеева",
      "userId": "09895625684527175296"
     },
     "user_tz": -180
    },
    "id": "pPSsey3fUf7f"
   },
   "outputs": [],
   "source": [
    "col_transform = make_column_transformer((text_pipeline, text_features),\n",
    "                                       (categorical_pipeline, categorical_features),\n",
    "                                       (StandardScaler(), ['word_num'])\n",
    "                                      )\n"
   ]
  },
  {
   "cell_type": "code",
   "execution_count": 8,
   "metadata": {
    "executionInfo": {
     "elapsed": 50,
     "status": "ok",
     "timestamp": 1673513433666,
     "user": {
      "displayName": "Татьяна Моисеева",
      "userId": "09895625684527175296"
     },
     "user_tz": -180
    },
    "id": "at3F6chVIMlN"
   },
   "outputs": [],
   "source": [
    "preprocessor = Pipeline([('add_num', WordsNumber('full_description')),\n",
    "              ('columns', col_transform)])"
   ]
  },
  {
   "cell_type": "code",
   "execution_count": 15,
   "metadata": {
    "colab": {
     "base_uri": "https://localhost:8080/"
    },
    "executionInfo": {
     "elapsed": 86103,
     "status": "ok",
     "timestamp": 1673513519739,
     "user": {
      "displayName": "Татьяна Моисеева",
      "userId": "09895625684527175296"
     },
     "user_tz": -180
    },
    "id": "l6aMYerVUf-R",
    "outputId": "8c5637e2-33de-4d69-adf5-f425bc9f9b35"
   },
   "outputs": [
    {
     "data": {
      "text/plain": [
       "<218491x40294 sparse matrix of type '<class 'numpy.float64'>'\n",
       "\twith 23374282 stored elements in Compressed Sparse Row format>"
      ]
     },
     "execution_count": 15,
     "metadata": {},
     "output_type": "execute_result"
    }
   ],
   "source": [
    "features_ohe = preprocessor.fit_transform(df_train)\n",
    "target_ohe = df_train['salary_normalized']\n",
    "features_ohe"
   ]
  },
  {
   "cell_type": "code",
   "execution_count": 16,
   "metadata": {
    "colab": {
     "base_uri": "https://localhost:8080/"
    },
    "executionInfo": {
     "elapsed": 8786,
     "status": "ok",
     "timestamp": 1673513528518,
     "user": {
      "displayName": "Татьяна Моисеева",
      "userId": "09895625684527175296"
     },
     "user_tz": -180
    },
    "id": "m-1Yw4v2pBLI",
    "outputId": "1afc2b4b-f8e2-4205-a604-cbaf602aceba"
   },
   "outputs": [
    {
     "data": {
      "text/plain": [
       "<24277x40294 sparse matrix of type '<class 'numpy.float64'>'\n",
       "\twith 2592836 stored elements in Compressed Sparse Row format>"
      ]
     },
     "execution_count": 16,
     "metadata": {},
     "output_type": "execute_result"
    }
   ],
   "source": [
    "valid_f_ohe = preprocessor.transform(df_valid)\n",
    "valid_t =  df_valid['salary_normalized']\n",
    "valid_f_ohe"
   ]
  },
  {
   "cell_type": "markdown",
   "metadata": {
    "id": "Tgu9mbLzD1C6"
   },
   "source": [
    "Ранее было выявлено, что распределение целевого не нормальное. Буду проверять модели на \"оригинальном\" целевом и с логарифмом.\n"
   ]
  },
  {
   "cell_type": "code",
   "execution_count": 17,
   "metadata": {
    "executionInfo": {
     "elapsed": 25,
     "status": "ok",
     "timestamp": 1673513528521,
     "user": {
      "displayName": "Татьяна Моисеева",
      "userId": "09895625684527175296"
     },
     "user_tz": -180
    },
    "id": "IHyGqkpaVcPY"
   },
   "outputs": [],
   "source": [
    "def metrics_(real, pred):\n",
    "    print(f'RMSE = {mean_squared_error(real, pred) **.5}')\n",
    "    print(f'R2 = {r2_score(real, pred)}')\n",
    "    print(f'MAE = {mean_absolute_error(real, pred)}')"
   ]
  },
  {
   "cell_type": "code",
   "execution_count": 18,
   "metadata": {
    "executionInfo": {
     "elapsed": 24,
     "status": "ok",
     "timestamp": 1673513528522,
     "user": {
      "displayName": "Татьяна Моисеева",
      "userId": "09895625684527175296"
     },
     "user_tz": -180
    },
    "id": "CDr8TxyOFRcv"
   },
   "outputs": [],
   "source": [
    "def cross_linear(model_, type_)\n",
    "    if type_ == 'log':\n",
    "        targe = np.log(target_ohe)\n",
    "    else:\n",
    "        targe = target_ohe\n",
    "    m = model_.fit(features_ohe, targe)\n",
    "    pred = m.predict(valid_f_ohe)\n",
    "    if type_ == 'log':\n",
    "        pred = np.exp(pred)\n",
    "        metrics_(valid_t, pred)\n",
    "    return pred"
   ]
  },
  {
   "cell_type": "code",
   "execution_count": 32,
   "metadata": {
    "colab": {
     "base_uri": "https://localhost:8080/"
    },
    "executionInfo": {
     "elapsed": 54658,
     "status": "ok",
     "timestamp": 1673514210157,
     "user": {
      "displayName": "Татьяна Моисеева",
      "userId": "09895625684527175296"
     },
     "user_tz": -180
    },
    "id": "fyQLy4_HERjG",
    "outputId": "ba007314-a847-419b-a9c7-3193ecaf2fce"
   },
   "outputs": [
    {
     "name": "stdout",
     "output_type": "stream",
     "text": [
      "RMSE = 10231.003286782425\n",
      "R2 = 0.6565287473036264\n",
      "MAE = 7181.309422791774\n"
     ]
    }
   ],
   "source": [
    "ridge_pred = cross_linear(Ridge(alpha=0.5, random_state=RAND), '')"
   ]
  },
  {
   "cell_type": "code",
   "execution_count": 28,
   "metadata": {
    "colab": {
     "base_uri": "https://localhost:8080/"
    },
    "executionInfo": {
     "elapsed": 27535,
     "status": "ok",
     "timestamp": 1673512604776,
     "user": {
      "displayName": "Татьяна Моисеева",
      "userId": "09895625684527175296"
     },
     "user_tz": -180
    },
    "id": "m8NfP5Xrafrc",
    "outputId": "c35b1292-00d6-4392-cefb-e03dbc0b8246"
   },
   "outputs": [
    {
     "name": "stdout",
     "output_type": "stream",
     "text": [
      "RMSE = 10383.609985944573\n",
      "R2 = 0.6462058231515058\n",
      "MAE = 6776.318275768737\n"
     ]
    }
   ],
   "source": [
    "log_ridge_pred = cross_linear(Ridge(random_state=RAND), 'log')"
   ]
  },
  {
   "cell_type": "code",
   "execution_count": 24,
   "metadata": {
    "colab": {
     "base_uri": "https://localhost:8080/"
    },
    "executionInfo": {
     "elapsed": 178918,
     "status": "ok",
     "timestamp": 1673512558226,
     "user": {
      "displayName": "Татьяна Моисеева",
      "userId": "09895625684527175296"
     },
     "user_tz": -180
    },
    "id": "wWBobfVKEbD4",
    "outputId": "65c9ca20-9b93-4d70-ff6a-1580dac0fc75"
   },
   "outputs": [
    {
     "name": "stdout",
     "output_type": "stream",
     "text": [
      "RMSE = 10903.221784725252\n",
      "R2 = 0.6099110590855586\n",
      "MAE = 7608.611081839651\n",
      "CPU times: user 2min 40s, sys: 250 ms, total: 2min 40s\n",
      "Wall time: 2min 58s\n"
     ]
    }
   ],
   "source": [
    "%%time\n",
    "sgd_pred = cross_linear(SGDRegressor(random_state=RAND), '')"
   ]
  },
  {
   "cell_type": "code",
   "execution_count": null,
   "metadata": {
    "id": "XJuKCV5UEbIw"
   },
   "outputs": [],
   "source": [
    "log_sgd_pred = cross_linear(SGDRegressor(random_state=RAND), 'log')"
   ]
  },
  {
   "cell_type": "code",
   "execution_count": null,
   "metadata": {
    "colab": {
     "base_uri": "https://localhost:8080/"
    },
    "executionInfo": {
     "elapsed": 2444745,
     "status": "ok",
     "timestamp": 1673473366145,
     "user": {
      "displayName": "Татьяна Моисеева",
      "userId": "09895625684527175296"
     },
     "user_tz": -180
    },
    "id": "UFbWuTfVVndo",
    "outputId": "b922993b-f02a-4139-c0cd-94cae05896f1"
   },
   "outputs": [
    {
     "name": "stdout",
     "output_type": "stream",
     "text": [
      "RMSE = 11029.3804397552\n",
      "R2 = 0.6008315752823272\n",
      "MAE = 7624.284351785027\n"
     ]
    }
   ],
   "source": [
    "linear_pred = cross_linear(LinearRegression(), '')"
   ]
  },
  {
   "cell_type": "markdown",
   "metadata": {
    "id": "AYzXOD_8rAEx"
   },
   "source": [
    "### Часть 2, OrdinalEncoder для моделей на осневе деревьев\n",
    "\n",
    "\n"
   ]
  },
  {
   "cell_type": "code",
   "execution_count": null,
   "metadata": {
    "id": "S4qoS2UbVng2"
   },
   "outputs": [],
   "source": [
    "categorical_pipeline_ord = Pipeline([\n",
    "    ('loc_category', LocationCategory('location_normalized', 3)),\n",
    "    ('imputer', SimpleImputer(strategy='constant', fill_value='unknown')),\n",
    "    ('encoder', OrdinalEncoder(handle_unknown='use_encoded_value', unknown_value=-1)),\n",
    "])\n",
    "text_pipeline_ord = Pipeline([('clear', TextClear()),\n",
    "                         # ('lemma', TextLemma(var.nlp)),\n",
    "                         ('tfidf', TfidfVectorizer(stop_words='english', min_df=5)),\n",
    "                         ('PCA', TruncatedSVD(n_components=800,  random_state=RAND))\n",
    "                         ])"
   ]
  },
  {
   "cell_type": "code",
   "execution_count": null,
   "metadata": {
    "id": "KZ-xv3gdjPCD"
   },
   "outputs": [],
   "source": [
    "preprosessor_ord = make_column_transformer((text_pipeline_ord, text_features),\n",
    "                                       (categorical_pipeline_ord, categorical_features))"
   ]
  },
  {
   "cell_type": "code",
   "execution_count": null,
   "metadata": {
    "id": "WKQb-Q3dVnjy"
   },
   "outputs": [],
   "source": [
    "features_ord = preprosessor_ord.fit_transform(df_train)\n",
    "target_ord = df_train['salary_normalized']"
   ]
  },
  {
   "cell_type": "code",
   "execution_count": null,
   "metadata": {
    "id": "1IfVeHn7HP-L"
   },
   "outputs": [],
   "source": [
    "valid_f_ord =  preprosessor_ord.transform(df_valid)"
   ]
  },
  {
   "cell_type": "markdown",
   "metadata": {
    "id": "egtktWnWwDBM"
   },
   "source": [
    "Несколько наборов параметров были отобраны на небольшой выборке."
   ]
  },
  {
   "cell_type": "code",
   "execution_count": null,
   "metadata": {
    "id": "gCAL5nIAHCSR"
   },
   "outputs": [],
   "source": [
    "def cross_linear_o(model_):\n",
    "    m = model_.fit(features_ord[0:80_000], target_ord[0:80_000])\n",
    "    pred = m.predict(valid_f_ord)\n",
    "    metrics_(valid_t, pred)\n",
    "    return pred"
   ]
  },
  {
   "cell_type": "code",
   "execution_count": null,
   "metadata": {
    "id": "L4JTGcWtVnmC"
   },
   "outputs": [],
   "source": [
    "ert_model = ExtraTreesRegressor(random_state=RAND, max_depth=None, bootstrap=True, n_estimators = 50)"
   ]
  },
  {
   "cell_type": "code",
   "execution_count": null,
   "metadata": {
    "id": "OBJ7MOcVnebG"
   },
   "outputs": [],
   "source": [
    "gbr_model = GradientBoostingRegressor(random_state=RAND, n_estimators=50)"
   ]
  },
  {
   "cell_type": "code",
   "execution_count": null,
   "metadata": {
    "colab": {
     "base_uri": "https://localhost:8080/"
    },
    "executionInfo": {
     "elapsed": 383864,
     "status": "ok",
     "timestamp": 1673467478405,
     "user": {
      "displayName": "Татьяна Моисеева",
      "userId": "09895625684527175296"
     },
     "user_tz": -180
    },
    "id": "2vzGgrqKHsnV",
    "outputId": "bc9d7e3e-00eb-4721-8338-db100915c6a4"
   },
   "outputs": [
    {
     "name": "stdout",
     "output_type": "stream",
     "text": [
      "RMSE = 13418.828958871363\n",
      "R2 = 0.4091419182528737\n",
      "MAE = 9516.551299433126\n",
      "CPU times: user 6min 10s, sys: 483 ms, total: 6min 11s\n",
      "Wall time: 6min 23s\n"
     ]
    }
   ],
   "source": [
    "%%time\n",
    "gbr_pred = cross_linear_o(gbr_model)"
   ]
  },
  {
   "cell_type": "code",
   "execution_count": null,
   "metadata": {
    "colab": {
     "base_uri": "https://localhost:8080/"
    },
    "executionInfo": {
     "elapsed": 754087,
     "status": "ok",
     "timestamp": 1673468928732,
     "user": {
      "displayName": "Татьяна Моисеева",
      "userId": "09895625684527175296"
     },
     "user_tz": -180
    },
    "id": "H8nrz3CEZFM0",
    "outputId": "922519d8-d910-4d62-913e-f8e7fba86b51"
   },
   "outputs": [
    {
     "name": "stdout",
     "output_type": "stream",
     "text": [
      "RMSE = 11928.522879273647\n",
      "R2 = 0.5330963366531114\n",
      "MAE = 8137.258840984294\n",
      "CPU times: user 12min 35s, sys: 711 ms, total: 12min 36s\n",
      "Wall time: 12min 33s\n"
     ]
    }
   ],
   "source": [
    "%%time\n",
    "ert_pred = cross_linear_o(ert_model)"
   ]
  }
 ],
 "metadata": {
  "colab": {
   "authorship_tag": "ABX9TyOtTl3IiWZ4VB+S0HygNDkR",
   "provenance": []
  },
  "kernelspec": {
   "display_name": "Python 3 (ipykernel)",
   "language": "python",
   "name": "python3"
  },
  "language_info": {
   "codemirror_mode": {
    "name": "ipython",
    "version": 3
   },
   "file_extension": ".py",
   "mimetype": "text/x-python",
   "name": "python",
   "nbconvert_exporter": "python",
   "pygments_lexer": "ipython3",
   "version": "3.10.8"
  }
 },
 "nbformat": 4,
 "nbformat_minor": 1
}
