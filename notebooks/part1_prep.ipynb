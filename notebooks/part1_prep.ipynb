{
 "cells": [
  {
   "cell_type": "code",
   "execution_count": 1,
   "id": "babc546a",
   "metadata": {
    "pycharm": {
     "name": "#%%\n"
    }
   },
   "outputs": [],
   "source": [
    "#!pip install pandas_profiling\n",
    "#!pip install spacy\n",
    "#!python -m spacy download en_core_web_sm\n",
    "#!pip install pandas\n",
    "\n",
    "#!pip install sklearn\n",
    "#!pip install CatBoost\n",
    "#!pip install tqdm\n",
    "#!pip install torch\n",
    "#!pip install transformers\n",
    "#!pip install numpy scipy scikit-learn"
   ]
  },
  {
   "cell_type": "markdown",
   "id": "35cdf60f",
   "metadata": {},
   "source": [
    "_______________________________________________________\n",
    "# Предсказание зарплаты по данным резюме\n",
    "____________________________________________________"
   ]
  },
  {
   "cell_type": "markdown",
   "id": "1a3ebefa",
   "metadata": {},
   "source": [
    "## Часть 1."
   ]
  },
  {
   "cell_type": "markdown",
   "id": "6e4b4d89",
   "metadata": {},
   "source": [
    "**Преамбула:** \n",
    "\n",
    "В данной работе не ставила цель достичь определенных показателей качества модели. Базовая логика по подбору гиперпараметров и пр. присутствует и все. Причины в тексте будут :)<br> "
   ]
  },
  {
   "cell_type": "code",
   "execution_count": 2,
   "id": "3386218c",
   "metadata": {
    "pycharm": {
     "name": "#%%\n"
    }
   },
   "outputs": [],
   "source": [
    "import pandas as pd\n",
    "import numpy as np\n",
    "\n",
    "import pandas_profiling\n",
    "\n",
    "import spacy\n",
    "import pickle\n",
    "import transformers as ppb\n",
    "\n",
    "import torch\n",
    "from torch import nn\n",
    "from torch.utils.data import DataLoader, TensorDataset\n",
    "\n",
    "from tqdm import tqdm, notebook\n",
    "\n",
    "from sklearn.model_selection import train_test_split\n",
    "from sklearn.compose import ColumnTransformer\n",
    "from sklearn.pipeline import Pipeline\n",
    "from sklearn.impute import SimpleImputer\n",
    "from sklearn.preprocessing import OneHotEncoder, MinMaxScaler\n",
    "from sklearn.feature_extraction.text import TfidfVectorizer \n",
    "from sklearn.decomposition import TruncatedSVD\n",
    "from sklearn.metrics import r2_score, mean_squared_error, mean_absolute_error\n",
    "\n",
    "from catboost import Pool, CatBoostRegressor"
   ]
  },
  {
   "cell_type": "markdown",
   "id": "e1af4410",
   "metadata": {
    "pycharm": {
     "name": "#%% md\n"
    }
   },
   "source": [
    "Читаем смотрим"
   ]
  },
  {
   "cell_type": "code",
   "execution_count": 3,
   "id": "56a364d7",
   "metadata": {
    "pycharm": {
     "name": "#%%\n"
    }
   },
   "outputs": [],
   "source": [
    "tqdm.pandas()\n",
    "RAND = sum(ord(x) for x in 'NEVER SURRENDER')"
   ]
  },
  {
   "cell_type": "code",
   "execution_count": 4,
   "id": "7c1f3f1d",
   "metadata": {
    "pycharm": {
     "name": "#%%\n"
    }
   },
   "outputs": [
    {
     "name": "stdout",
     "output_type": "stream",
     "text": [
      "<class 'pandas.core.frame.DataFrame'>\n",
      "Int64Index: 244768 entries, 12612628 to 72705235\n",
      "Data columns (total 11 columns):\n",
      " #   Column              Non-Null Count   Dtype \n",
      "---  ------              --------------   ----- \n",
      " 0   Title               244767 non-null  object\n",
      " 1   FullDescription     244768 non-null  object\n",
      " 2   LocationRaw         244768 non-null  object\n",
      " 3   LocationNormalized  244768 non-null  object\n",
      " 4   ContractType        65442 non-null   object\n",
      " 5   ContractTime        180863 non-null  object\n",
      " 6   Company             212338 non-null  object\n",
      " 7   Category            244768 non-null  object\n",
      " 8   SalaryRaw           244768 non-null  object\n",
      " 9   SalaryNormalized    244768 non-null  int64 \n",
      " 10  SourceName          244767 non-null  object\n",
      "dtypes: int64(1), object(10)\n",
      "memory usage: 22.4+ MB\n"
     ]
    }
   ],
   "source": [
    "df = pd.read_csv('data/Train_rev1.csv', index_col=[0])\n",
    "df.info()"
   ]
  },
  {
   "cell_type": "code",
   "execution_count": 5,
   "id": "a99e9895",
   "metadata": {
    "pycharm": {
     "name": "#%%\n"
    }
   },
   "outputs": [],
   "source": [
    "# snaaaaake case\n",
    "df.columns = df.columns.str.replace('(.)([A-Z])', r'\\1_\\2', regex=True).str.lower()"
   ]
  },
  {
   "cell_type": "markdown",
   "id": "e613c679",
   "metadata": {
    "pycharm": {
     "name": "#%% md\n"
    }
   },
   "source": [
    "_____________________\n",
    "\n",
    "\n",
    "Кусок без гугл колаба, предварительная разведка на локальном компе."
   ]
  },
  {
   "cell_type": "code",
   "execution_count": 6,
   "id": "f9df1e5e",
   "metadata": {
    "pycharm": {
     "name": "#%%\n"
    }
   },
   "outputs": [],
   "source": [
    "df_mini = df.sample(20_000, random_state=RAND).reset_index(drop=True)"
   ]
  },
  {
   "cell_type": "code",
   "execution_count": 7,
   "id": "c05a40f8",
   "metadata": {
    "pycharm": {
     "name": "#%%\n"
    },
    "scrolled": true
   },
   "outputs": [],
   "source": [
    "#это уберу пока. долгий и много места занимает, но посмотреть полезно :)\n",
    "#df_mini.profile_report()"
   ]
  },
  {
   "cell_type": "markdown",
   "id": "81a10e29",
   "metadata": {
    "pycharm": {
     "name": "#%% md\n"
    }
   },
   "source": [
    "Точного задания нет, так что немного допущений тут :)\n",
    "\n",
    "Вообще по результатам тестирований на полном сете \"source_name\" вполне себе вносил вклад в результат, но будем считать, что в данном случае это будет технической информацией, которой не будет в \"реальном\" задании. Хехе.\n",
    "\n",
    "Теортетически, влияние source_name можно объяснить локацией и спецификой сайтов. :) Возможно обычное влияние количества пиратов на глобальное потепление, ложная корреляция.\n",
    "\n",
    "Таким образом удаляем его, raw-столбцы и title(тайтл по принципу обработки аналогичен дескрипу, пояснение чуть ниже будет)."
   ]
  },
  {
   "cell_type": "code",
   "execution_count": 7,
   "id": "ab7de393",
   "metadata": {
    "pycharm": {
     "name": "#%%\n"
    }
   },
   "outputs": [],
   "source": [
    "drop_col = ['title', 'location_raw', 'salary_raw', 'source_name']"
   ]
  },
  {
   "cell_type": "code",
   "execution_count": 8,
   "id": "d9864b0d",
   "metadata": {
    "pycharm": {
     "name": "#%%\n"
    }
   },
   "outputs": [],
   "source": [
    "df_mini = df_mini.drop(columns=drop_col)"
   ]
  },
  {
   "cell_type": "markdown",
   "id": "902789b3",
   "metadata": {
    "pycharm": {
     "name": "#%% md\n"
    }
   },
   "source": [
    "В теории можно попробовать спарсить пропущенные значения из описания, вдруг остались. Но время сильно ограничено, так что не останавливаюсь на этом и просто заполняю на 'Unknown' :) Пока что сойдет.\n",
    "\n",
    "Да и тут вообще пока что ничего не делаю с параметрами, хотя проблемы вырисовываются, дальше будет."
   ]
  },
  {
   "cell_type": "code",
   "execution_count": 9,
   "id": "7126afd0",
   "metadata": {
    "pycharm": {
     "name": "#%%\n"
    }
   },
   "outputs": [],
   "source": [
    "fill_subset = ['contract_type', 'contract_time', 'company']"
   ]
  },
  {
   "cell_type": "code",
   "execution_count": 10,
   "id": "dbb0eec8",
   "metadata": {
    "pycharm": {
     "name": "#%%\n"
    }
   },
   "outputs": [],
   "source": [
    "df_mini[fill_subset] = df_mini[fill_subset].fillna('Unknown')"
   ]
  },
  {
   "cell_type": "markdown",
   "id": "445fb352",
   "metadata": {
    "pycharm": {
     "name": "#%% md\n"
    }
   },
   "source": [
    "Описание тоже чищу минимально, только самое заметное убирается.\n",
    "\n",
    "(ссылки вроде так, полноценно не тестировала)"
   ]
  },
  {
   "cell_type": "code",
   "execution_count": 11,
   "id": "0d020eac",
   "metadata": {
    "pycharm": {
     "name": "#%%\n"
    }
   },
   "outputs": [
    {
     "name": "stdout",
     "output_type": "stream",
     "text": [
      "CPU times: user 4.39 s, sys: 34.8 ms, total: 4.42 s\n",
      "Wall time: 4.43 s\n"
     ]
    }
   ],
   "source": [
    "%%time\n",
    "#http https www\n",
    "df_mini['full_description'] = df_mini['full_description'].str.replace(r'((https?:\\/\\/)|w{3}).*?( |$)',' ', regex=True)\n",
    "df_mini['full_description'] = (df_mini['full_description'].str.replace(r'[^A-Za-z\\']',' ', regex=True)\n",
    "                                                          .str.lower()\n",
    "                                                          .str.strip()\n",
    ")\n",
    "df_mini['full_description'] = df_mini['full_description'].str.replace(r'\\W{2,}',' ', regex=True)"
   ]
  },
  {
   "cell_type": "markdown",
   "id": "be0faf27",
   "metadata": {
    "pycharm": {
     "name": "#%% md\n"
    }
   },
   "source": [
    "Лемматизация. "
   ]
  },
  {
   "cell_type": "code",
   "execution_count": 13,
   "id": "5775e41b",
   "metadata": {
    "pycharm": {
     "name": "#%%\n"
    }
   },
   "outputs": [
    {
     "name": "stderr",
     "output_type": "stream",
     "text": [
      "100%|█████████████████████████████████████████████████████████| 20000/20000 [12:25<00:00, 26.82it/s]\n"
     ]
    },
    {
     "name": "stdout",
     "output_type": "stream",
     "text": [
      "CPU times: user 12min 23s, sys: 2.65 s, total: 12min 26s\n",
      "Wall time: 12min 27s\n"
     ]
    }
   ],
   "source": [
    "%%time\n",
    "try:\n",
    "    clear_text = pd.read_csv('data/clr_full_descr.csv')['full_description']\n",
    "    df_mini['clear_description'] = clear_text\n",
    "except:\n",
    "    nlp = spacy.load('en_core_web_sm', disable=['parser'])\n",
    "    #lemma and clear stop \n",
    "    clear_text = (df_mini['full_description'].progress_apply(lambda row: \n",
    "                                                             ' '.join([w.lemma_ for w in nlp(row) if not w.is_stop]))\n",
    "    )\n",
    "    clear_text.to_csv('data/clr_full_descr.csv')\n",
    "\n",
    "df_mini['clear_description'] = clear_text"
   ]
  },
  {
   "cell_type": "markdown",
   "id": "af409985",
   "metadata": {
    "pycharm": {
     "name": "#%% md\n"
    }
   },
   "source": [
    "Выборки, валидационной достаточно"
   ]
  },
  {
   "cell_type": "code",
   "execution_count": 14,
   "id": "11cae638",
   "metadata": {
    "pycharm": {
     "name": "#%%\n"
    }
   },
   "outputs": [
    {
     "name": "stdout",
     "output_type": "stream",
     "text": [
      "(18000, 8)\n",
      "(2000, 8)\n"
     ]
    }
   ],
   "source": [
    "mini_train, mini_valid = train_test_split(df_mini, test_size=0.1, random_state=RAND)\n",
    "print(mini_train.shape)\n",
    "print(mini_valid.shape)"
   ]
  },
  {
   "cell_type": "code",
   "execution_count": 15,
   "id": "7189c84f",
   "metadata": {},
   "outputs": [],
   "source": [
    "del df_mini"
   ]
  },
  {
   "cell_type": "markdown",
   "id": "e6cfd65e",
   "metadata": {
    "pycharm": {
     "name": "#%% md\n"
    }
   },
   "source": [
    "_________________________________________\n",
    "Быструю разведку делаю на CatBoost на необработанных данных."
   ]
  },
  {
   "cell_type": "code",
   "execution_count": 16,
   "id": "b0a442d8",
   "metadata": {
    "pycharm": {
     "name": "#%%\n"
    }
   },
   "outputs": [],
   "source": [
    "catboost_params = {\n",
    "    'iterations': 1000,\n",
    "    'eval_metric': 'RMSE',\n",
    "    'verbose': 250,\n",
    "    'random_state': RAND,\n",
    "    'depth': 4,\n",
    "    'learning_rate': 0.1\n",
    "}"
   ]
  },
  {
   "cell_type": "markdown",
   "id": "5df590fb",
   "metadata": {
    "pycharm": {
     "name": "#%% md\n"
    }
   },
   "source": [
    "Тут можно и лемматизированный текст использовать, в прицнипе, но пусть уж почти полностью raw будет, с минимальной очисткой который."
   ]
  },
  {
   "cell_type": "code",
   "execution_count": 18,
   "id": "0c540f45",
   "metadata": {
    "pycharm": {
     "name": "#%%\n"
    }
   },
   "outputs": [],
   "source": [
    "X_train = mini_train.drop(['salary_normalized','clear_description'], axis=1)\n",
    "y_train = mini_train['salary_normalized']\n",
    "X_val = mini_valid.drop(['salary_normalized','clear_description'], axis=1)\n",
    "y_val = mini_valid['salary_normalized']"
   ]
  },
  {
   "cell_type": "code",
   "execution_count": 19,
   "id": "6111dbac",
   "metadata": {
    "pycharm": {
     "name": "#%%\n"
    }
   },
   "outputs": [],
   "source": [
    "text_features = ['full_description']\n",
    "cat_features = list(X_train.columns)"
   ]
  },
  {
   "cell_type": "code",
   "execution_count": 20,
   "id": "a41d14f5",
   "metadata": {
    "pycharm": {
     "name": "#%%\n"
    }
   },
   "outputs": [],
   "source": [
    "train_pool = Pool(\n",
    "    X_train, \n",
    "    y_train, \n",
    "    cat_features=cat_features, \n",
    "    text_features=text_features\n",
    ")\n",
    "val_pool = Pool(\n",
    "    X_val, \n",
    "    y_val, \n",
    "    cat_features=cat_features, \n",
    "    text_features=text_features\n",
    ")"
   ]
  },
  {
   "cell_type": "markdown",
   "id": "3c187dac",
   "metadata": {
    "pycharm": {
     "name": "#%% md\n"
    }
   },
   "source": [
    "Обучаем модель, запихиваем в файл. Ну, или достаем, если она там есть :)"
   ]
  },
  {
   "cell_type": "code",
   "execution_count": 21,
   "id": "d3ba9c7f",
   "metadata": {
    "pycharm": {
     "name": "#%%\n"
    }
   },
   "outputs": [
    {
     "data": {
      "application/vnd.jupyter.widget-view+json": {
       "model_id": "2a8eb53b8a12469cb01c5cc4b87acf5e",
       "version_major": 2,
       "version_minor": 0
      },
      "text/plain": [
       "MetricVisualizer(layout=Layout(align_self='stretch', height='500px'))"
      ]
     },
     "metadata": {},
     "output_type": "display_data"
    },
    {
     "name": "stdout",
     "output_type": "stream",
     "text": [
      "0:\tlearn: 17072.2158445\ttest: 17160.7390274\tbest: 17160.7390274 (0)\ttotal: 43.1ms\tremaining: 43.1s\n",
      "250:\tlearn: 11618.0165988\ttest: 11874.4131240\tbest: 11874.4131240 (250)\ttotal: 7.41s\tremaining: 22.1s\n",
      "500:\tlearn: 10841.3808715\ttest: 11511.3304267\tbest: 11511.3304267 (500)\ttotal: 14.4s\tremaining: 14.4s\n",
      "750:\tlearn: 10321.4534639\ttest: 11350.2616964\tbest: 11350.2616964 (750)\ttotal: 21.5s\tremaining: 7.12s\n",
      "999:\tlearn: 9920.6152985\ttest: 11254.3172928\tbest: 11252.1202809 (995)\ttotal: 28.3s\tremaining: 0us\n",
      "bestTest = 11252.12028\n",
      "bestIteration = 995\n",
      "Shrink model to first 996 iterations.\n"
     ]
    }
   ],
   "source": [
    "try:\n",
    "    #load from cat file\n",
    "    model = CatBoostRegressor()\n",
    "    model.load_model('models/catboost_model.bin')\n",
    "except:\n",
    "    model = CatBoostRegressor(**catboost_params, task_type=\"GPU\")\n",
    "    model.fit(train_pool, eval_set=val_pool, plot=True)\n",
    "    model.save_model('models/catboost_model.bin')\n",
    "    #RMSE\n",
    "    model.best_score_"
   ]
  },
  {
   "cell_type": "code",
   "execution_count": 22,
   "id": "08665558",
   "metadata": {
    "pycharm": {
     "name": "#%%\n"
    }
   },
   "outputs": [
    {
     "data": {
      "text/plain": [
       "0.5863956577144197"
      ]
     },
     "execution_count": 22,
     "metadata": {},
     "output_type": "execute_result"
    }
   ],
   "source": [
    "# R2\n",
    "model.score(val_pool)"
   ]
  },
  {
   "cell_type": "markdown",
   "id": "ffcaffaa",
   "metadata": {
    "pycharm": {
     "name": "#%% md\n"
    }
   },
   "source": [
    "R2 = 0.58 валидационной не идеально, но без подбора гиперпараметров и на малой выборке сойдет"
   ]
  },
  {
   "cell_type": "code",
   "execution_count": 23,
   "id": "8376aff5",
   "metadata": {
    "pycharm": {
     "name": "#%%\n"
    }
   },
   "outputs": [
    {
     "data": {
      "text/html": [
       "<div>\n",
       "<style scoped>\n",
       "    .dataframe tbody tr th:only-of-type {\n",
       "        vertical-align: middle;\n",
       "    }\n",
       "\n",
       "    .dataframe tbody tr th {\n",
       "        vertical-align: top;\n",
       "    }\n",
       "\n",
       "    .dataframe thead th {\n",
       "        text-align: right;\n",
       "    }\n",
       "</style>\n",
       "<table border=\"1\" class=\"dataframe\">\n",
       "  <thead>\n",
       "    <tr style=\"text-align: right;\">\n",
       "      <th></th>\n",
       "      <th>Feature Id</th>\n",
       "      <th>Importances</th>\n",
       "    </tr>\n",
       "  </thead>\n",
       "  <tbody>\n",
       "    <tr>\n",
       "      <th>0</th>\n",
       "      <td>full_description</td>\n",
       "      <td>67.106363</td>\n",
       "    </tr>\n",
       "    <tr>\n",
       "      <th>1</th>\n",
       "      <td>category</td>\n",
       "      <td>12.241689</td>\n",
       "    </tr>\n",
       "    <tr>\n",
       "      <th>2</th>\n",
       "      <td>location_normalized</td>\n",
       "      <td>8.496232</td>\n",
       "    </tr>\n",
       "    <tr>\n",
       "      <th>3</th>\n",
       "      <td>contract_time</td>\n",
       "      <td>5.912191</td>\n",
       "    </tr>\n",
       "    <tr>\n",
       "      <th>4</th>\n",
       "      <td>company</td>\n",
       "      <td>3.880735</td>\n",
       "    </tr>\n",
       "    <tr>\n",
       "      <th>5</th>\n",
       "      <td>contract_type</td>\n",
       "      <td>2.362790</td>\n",
       "    </tr>\n",
       "  </tbody>\n",
       "</table>\n",
       "</div>"
      ],
      "text/plain": [
       "            Feature Id  Importances\n",
       "0     full_description    67.106363\n",
       "1             category    12.241689\n",
       "2  location_normalized     8.496232\n",
       "3        contract_time     5.912191\n",
       "4              company     3.880735\n",
       "5        contract_type     2.362790"
      ]
     },
     "execution_count": 23,
     "metadata": {},
     "output_type": "execute_result"
    }
   ],
   "source": [
    "model.get_feature_importance(prettified=True)"
   ]
  },
  {
   "cell_type": "code",
   "execution_count": 22,
   "id": "5f9dd1e2",
   "metadata": {
    "pycharm": {
     "name": "#%%\n"
    }
   },
   "outputs": [],
   "source": [
    "#%whos"
   ]
  },
  {
   "cell_type": "code",
   "execution_count": 24,
   "id": "11b2d249",
   "metadata": {
    "pycharm": {
     "name": "#%%\n"
    }
   },
   "outputs": [],
   "source": [
    "del train_pool, val_pool, model, catboost_params, clear_text, drop_col, fill_subset"
   ]
  },
  {
   "cell_type": "markdown",
   "id": "2c34f43c",
   "metadata": {
    "pycharm": {
     "name": "#%% md\n"
    }
   },
   "source": [
    "_______________________________________\n",
    "Вот этот момент отдельно обозначу.\n",
    "\n",
    "В планах модельку упихать в докер и отправить на малинку. Малинка слабенькая и там еще всякое запущено, так что пытаюсь максимально все урезать в плане количества. Чтоб нормально обрабатывался вход и нормально работала модель.\n",
    "\n",
    "В принципе, основная логика все равно останется, а Пайплайны вполне позволят спокойно добавлять. \n"
   ]
  },
  {
   "cell_type": "markdown",
   "id": "5793bed7",
   "metadata": {
    "pycharm": {
     "name": "#%% md\n"
    }
   },
   "source": [
    "Отсюда оставляем только 3 наиболее важных параметра по 'Importances'. "
   ]
  },
  {
   "cell_type": "markdown",
   "id": "b99699e2",
   "metadata": {
    "pycharm": {
     "name": "#%% md\n"
    }
   },
   "source": [
    "full_description - тестовый, обработается distilbert\n",
    "\n",
    "остальные два категориальные(на полной выборке смотрим)"
   ]
  },
  {
   "cell_type": "code",
   "execution_count": 25,
   "id": "4a6d372e",
   "metadata": {
    "pycharm": {
     "name": "#%%\n"
    }
   },
   "outputs": [
    {
     "data": {
      "text/plain": [
       "UK                    41093\n",
       "London                30522\n",
       "South East London     11713\n",
       "The City               6678\n",
       "Manchester             3516\n",
       "                      ...  \n",
       "Oldbrook                  1\n",
       "Berrycroft                1\n",
       "Pinchbeck                 1\n",
       "Peasedown St. John        1\n",
       "Temple                    1\n",
       "Name: location_normalized, Length: 2732, dtype: int64"
      ]
     },
     "execution_count": 25,
     "metadata": {},
     "output_type": "execute_result"
    }
   ],
   "source": [
    "locations = df['location_normalized'].value_counts()\n",
    "locations"
   ]
  },
  {
   "cell_type": "code",
   "execution_count": 26,
   "id": "103599a1",
   "metadata": {
    "pycharm": {
     "name": "#%%\n"
    }
   },
   "outputs": [
    {
     "data": {
      "text/plain": [
       "1721"
      ]
     },
     "execution_count": 26,
     "metadata": {},
     "output_type": "execute_result"
    }
   ],
   "source": [
    "sum(locations < 10)"
   ]
  },
  {
   "cell_type": "markdown",
   "id": "18fec56e",
   "metadata": {
    "pycharm": {
     "name": "#%% md\n"
    }
   },
   "source": [
    "Есть достаточно большое количество локаций, где объявлений менее 10, оно не особо показательно (возможно, можно и куда больше 10 брать). В теории их можно было объединить и сделать типа Other. Но все равно остается достаточно жЫрненький признак по количеству уникальных. \n",
    "\n",
    "(забегая вперед, чуть дальше будет переделана обработка :) тут так останется<br>\n",
    "Поэтому для проекта беру еще одну категорию, пусть будет по количеству объявлений в локациях - big, middle, few."
   ]
  },
  {
   "cell_type": "code",
   "execution_count": 27,
   "id": "75d4695c",
   "metadata": {
    "pycharm": {
     "name": "#%%\n"
    }
   },
   "outputs": [],
   "source": [
    "try:\n",
    "    #load dict\n",
    "    with open('data/location_dict.pkl', 'rb') as f:\n",
    "        location_dict = pickle.load(f)\n",
    "except:\n",
    "    location_dict = {}\n",
    "    location_dict.update({key: 'big' for key in locations[locations > 10_000].index})\n",
    "    location_dict.update({key: 'middle' for key in locations[(locations<10_000) & (locations>670)].index})\n",
    "    #save dict. name of location for big and middle. all another is few\n",
    "    with open('data/location_dict.pkl', 'wb') as f:\n",
    "        pickle.dump(location_dict, f)"
   ]
  },
  {
   "cell_type": "code",
   "execution_count": 29,
   "id": "16106513",
   "metadata": {
    "pycharm": {
     "name": "#%%\n"
    }
   },
   "outputs": [],
   "source": [
    "def get_location_category(loc_: str) -> str:\n",
    "    return location_dict.get(loc_,'few')\n",
    "\n",
    "mini_train['location_category'] = mini_train['location_normalized'].apply(get_location_category)\n",
    "mini_valid['location_category'] = mini_valid['location_normalized'].apply(get_location_category)"
   ]
  },
  {
   "cell_type": "markdown",
   "id": "6d0e0df1",
   "metadata": {
    "pycharm": {
     "name": "#%% md\n"
    }
   },
   "source": [
    "__________________\n",
    "Вторая. Category"
   ]
  },
  {
   "cell_type": "code",
   "execution_count": 30,
   "id": "90df8182",
   "metadata": {
    "pycharm": {
     "name": "#%%\n"
    }
   },
   "outputs": [
    {
     "data": {
      "text/plain": [
       "IT Jobs                             38483\n",
       "Engineering Jobs                    25174\n",
       "Accounting & Finance Jobs           21846\n",
       "Healthcare & Nursing Jobs           21076\n",
       "Sales Jobs                          17272\n",
       "Other/General Jobs                  17055\n",
       "Teaching Jobs                       12637\n",
       "Hospitality & Catering Jobs         11351\n",
       "PR, Advertising & Marketing Jobs     8854\n",
       "Trade & Construction Jobs            8837\n",
       "HR & Recruitment Jobs                7713\n",
       "Admin Jobs                           7614\n",
       "Retail Jobs                          6584\n",
       "Customer Services Jobs               6063\n",
       "Legal Jobs                           3939\n",
       "Manufacturing Jobs                   3765\n",
       "Logistics & Warehouse Jobs           3633\n",
       "Social work Jobs                     3455\n",
       "Consultancy Jobs                     3263\n",
       "Travel Jobs                          3126\n",
       "Scientific & QA Jobs                 2489\n",
       "Charity & Voluntary Jobs             2332\n",
       "Energy, Oil & Gas Jobs               2255\n",
       "Creative & Design Jobs               1605\n",
       "Maintenance Jobs                     1542\n",
       "Graduate Jobs                        1331\n",
       "Property Jobs                        1038\n",
       "Domestic help & Cleaning Jobs         291\n",
       "Part time Jobs                        145\n",
       "Name: category, dtype: int64"
      ]
     },
     "execution_count": 30,
     "metadata": {},
     "output_type": "execute_result"
    }
   ],
   "source": [
    "df['category'].value_counts()"
   ]
  },
  {
   "cell_type": "markdown",
   "id": "8224670d",
   "metadata": {
    "pycharm": {
     "name": "#%% md\n"
    }
   },
   "source": [
    "Тоже достаточно много. Но неплохо распределены. Оставлю пока."
   ]
  },
  {
   "cell_type": "markdown",
   "id": "cd4cc67c",
   "metadata": {
    "pycharm": {
     "name": "#%% md\n"
    }
   },
   "source": [
    "_____________________\n",
    "Преобразование столбиков. Тут опять поехал тест на мини-датафрейме"
   ]
  },
  {
   "cell_type": "code",
   "execution_count": 31,
   "id": "8738b44e",
   "metadata": {
    "pycharm": {
     "name": "#%%\n"
    }
   },
   "outputs": [],
   "source": [
    "result_features = ['clear_description', 'location_category', 'category']\n",
    "cat_features = ['location_category', 'category']"
   ]
  },
  {
   "cell_type": "code",
   "execution_count": 32,
   "id": "4057ccbd",
   "metadata": {
    "pycharm": {
     "name": "#%%\n"
    }
   },
   "outputs": [],
   "source": [
    "#рубрика ЭЭЭЭЭКСПЕРИМЕНТЫ. \n",
    "cat_pipe = Pipeline([\n",
    "    ('imputer', SimpleImputer(strategy='constant', fill_value='unknown')),\n",
    "    ('encoder', OneHotEncoder(handle_unknown='infrequent_if_exist')),\n",
    "    #infrequent_if_exist Changed in version 1.1\n",
    "])\n",
    "\n",
    "#last version ----> bert, this unused, but saved\n",
    "text_pipe = Pipeline([\n",
    "    ('tfidf', TfidfVectorizer()), #max_features=10_000\n",
    "])\n",
    "\n",
    "\n",
    "preprocessor = ColumnTransformer([\n",
    "   # ('text', text_pipe, 'clear_description'),\n",
    "    ('cat', cat_pipe, cat_features)],\n",
    "    remainder='drop')\n",
    "\n",
    "#unused\n",
    "final_pipe = Pipeline([\n",
    "    ('prep', preprocessor)#,\n",
    "   # ('pca', TruncatedSVD(n_components=300, random_state=RAND))\n",
    "])"
   ]
  },
  {
   "cell_type": "code",
   "execution_count": 33,
   "id": "3c013f03",
   "metadata": {},
   "outputs": [],
   "source": [
    "try:\n",
    "    #load \n",
    "    with open(\"models/learned_pipe.pkl\", \"rb\") as f:\n",
    "        learned_pipe = pickle.load(f)\n",
    "except:\n",
    "    learned_pipe = preprocessor.fit(mini_train)\n",
    "    #save \n",
    "    with open(\"models/learned_pipe.pkl\", \"wb\") as f:\n",
    "        pickle.dump(learned_pipe, f)"
   ]
  },
  {
   "cell_type": "markdown",
   "id": "c504499a",
   "metadata": {
    "pycharm": {
     "name": "#%% md\n"
    }
   },
   "source": [
    "Эта часть только для признаков локации и категории."
   ]
  },
  {
   "cell_type": "code",
   "execution_count": 34,
   "id": "e77fcb19",
   "metadata": {
    "pycharm": {
     "name": "#%%\n"
    }
   },
   "outputs": [],
   "source": [
    "train_cat_features = learned_pipe.transform(mini_train)\n",
    "val_cat_features =  learned_pipe.transform(mini_valid)"
   ]
  },
  {
   "cell_type": "markdown",
   "id": "ac20e86d",
   "metadata": {
    "pycharm": {
     "name": "#%% md\n"
    }
   },
   "source": [
    "Переезд на колаб :) Локальный не особо хотел обрабатывать Берт даже на небольшой."
   ]
  }
 ],
 "metadata": {
  "kernelspec": {
   "display_name": "Python 3 (ipykernel)",
   "language": "python",
   "name": "python3"
  },
  "language_info": {
   "codemirror_mode": {
    "name": "ipython",
    "version": 3
   },
   "file_extension": ".py",
   "mimetype": "text/x-python",
   "name": "python",
   "nbconvert_exporter": "python",
   "pygments_lexer": "ipython3",
   "version": "3.10.8"
  }
 },
 "nbformat": 4,
 "nbformat_minor": 5
}
